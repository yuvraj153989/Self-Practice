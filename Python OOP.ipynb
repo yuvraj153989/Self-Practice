{
 "cells": [
  {
   "cell_type": "code",
   "execution_count": 1,
   "id": "546e0ac1",
   "metadata": {},
   "outputs": [
    {
     "name": "stdout",
     "output_type": "stream",
     "text": [
      "\n",
      "        Hello, How would you like to proceed?\n",
      "        1. Enter 1 to Deposit\n",
      "        2. Enter 2 to Withdraw\n",
      "        3. Enter 3 to create PIN\n",
      "        4. Enter 4 to Check Balance\n",
      "        5. Enter 5 to Exit\n",
      "        3\n",
      "Creating PIN..\n",
      "Enter PIN: \n",
      "PIN set Succesful\n"
     ]
    },
    {
     "ename": "AttributeError",
     "evalue": "type object 'Atm' has no attribute 'counter'",
     "output_type": "error",
     "traceback": [
      "\u001b[1;31m---------------------------------------------------------------------------\u001b[0m",
      "\u001b[1;31mAttributeError\u001b[0m                            Traceback (most recent call last)",
      "\u001b[1;32m~\\AppData\\Local\\Temp\\ipykernel_26020\\1002341174.py\u001b[0m in \u001b[0;36m<module>\u001b[1;34m\u001b[0m\n\u001b[0;32m     92\u001b[0m         \u001b[1;32melse\u001b[0m\u001b[1;33m:\u001b[0m\u001b[1;33m\u001b[0m\u001b[1;33m\u001b[0m\u001b[0m\n\u001b[0;32m     93\u001b[0m             \u001b[0mprint\u001b[0m\u001b[1;33m(\u001b[0m\u001b[1;34m\"Could not change, Contact Bank!\"\u001b[0m\u001b[1;33m)\u001b[0m\u001b[1;33m\u001b[0m\u001b[1;33m\u001b[0m\u001b[0m\n\u001b[1;32m---> 94\u001b[1;33m \u001b[0msbi\u001b[0m\u001b[1;33m=\u001b[0m\u001b[0mAtm\u001b[0m\u001b[1;33m(\u001b[0m\u001b[1;33m)\u001b[0m\u001b[1;33m\u001b[0m\u001b[1;33m\u001b[0m\u001b[0m\n\u001b[0m\u001b[0;32m     95\u001b[0m \u001b[0msbi\u001b[0m\u001b[1;33m.\u001b[0m\u001b[0mchecks\u001b[0m\u001b[1;33m(\u001b[0m\u001b[1;33m)\u001b[0m\u001b[1;33m\u001b[0m\u001b[1;33m\u001b[0m\u001b[0m\n\u001b[0;32m     96\u001b[0m \u001b[1;33m\u001b[0m\u001b[0m\n",
      "\u001b[1;32m~\\AppData\\Local\\Temp\\ipykernel_26020\\1002341174.py\u001b[0m in \u001b[0;36m__init__\u001b[1;34m(self)\u001b[0m\n\u001b[0;32m     12\u001b[0m         \u001b[0mself\u001b[0m\u001b[1;33m.\u001b[0m\u001b[0m__bal\u001b[0m\u001b[1;33m=\u001b[0m\u001b[1;36m0\u001b[0m   \u001b[1;31m#pvt access modifier initialization\u001b[0m\u001b[1;33m\u001b[0m\u001b[1;33m\u001b[0m\u001b[0m\n\u001b[0;32m     13\u001b[0m         \u001b[0mself\u001b[0m\u001b[1;33m.\u001b[0m\u001b[0mmenu\u001b[0m\u001b[1;33m(\u001b[0m\u001b[1;33m)\u001b[0m      \u001b[1;31m##__menu() for pvt initial.\u001b[0m\u001b[1;33m\u001b[0m\u001b[1;33m\u001b[0m\u001b[0m\n\u001b[1;32m---> 14\u001b[1;33m         \u001b[0mself\u001b[0m\u001b[1;33m.\u001b[0m\u001b[0msno\u001b[0m\u001b[1;33m=\u001b[0m\u001b[0mAtm\u001b[0m\u001b[1;33m.\u001b[0m\u001b[0mcounter\u001b[0m\u001b[1;33m\u001b[0m\u001b[1;33m\u001b[0m\u001b[0m\n\u001b[0m\u001b[0;32m     15\u001b[0m         \u001b[0mAtm\u001b[0m\u001b[1;33m.\u001b[0m\u001b[0m__counter\u001b[0m\u001b[1;33m=\u001b[0m\u001b[0mAtm\u001b[0m\u001b[1;33m.\u001b[0m\u001b[0m__counter\u001b[0m\u001b[1;33m+\u001b[0m\u001b[1;36m1\u001b[0m  \u001b[1;31m#auto incrementing s.no using static\u001b[0m\u001b[1;33m\u001b[0m\u001b[1;33m\u001b[0m\u001b[0m\n\u001b[0;32m     16\u001b[0m     \u001b[1;32mdef\u001b[0m \u001b[0mmenu\u001b[0m\u001b[1;33m(\u001b[0m\u001b[0mself\u001b[0m\u001b[1;33m)\u001b[0m\u001b[1;33m:\u001b[0m           \u001b[1;31m#__menu for pvt\u001b[0m\u001b[1;33m\u001b[0m\u001b[1;33m\u001b[0m\u001b[0m\n",
      "\u001b[1;31mAttributeError\u001b[0m: type object 'Atm' has no attribute 'counter'"
     ]
    }
   ],
   "source": [
    "import time\n",
    "class Atm:\n",
    "    __counter=1  #static variable(pvt)\n",
    "    def __init__(self):  #Constructor(Python based)..special method, called automatically when object of a class created\n",
    "        #they are called special methods as well ,__xyz__, this type of methods called special method..\n",
    "        #this can be used when there is smthng, which should be atleast there, for ex while booking CAB,\n",
    "        #generally user has all permissions, to book cab, cancel, re book, query ect, for all those buttons are given\n",
    "        #but for things like internet connectivity, gps, databse etc they are written in constructor, coz they are basic\n",
    "        #in philospphical terms, if ur human being, u have control on breathing, walking etc(normal methods)\n",
    "        #what is not in ur control, death, fortune etc, they are constructor methods..\n",
    "        self.__pin=\"\"\n",
    "        self.__bal=0   #pvt access modifier initialization\n",
    "        self.menu()      ##__menu() for pvt initial.\n",
    "        self.sno=Atm.counter\n",
    "        Atm.__counter=Atm.__counter+1  #auto incrementing s.no using static\n",
    "    def menu(self):           #__menu for pvt\n",
    "        user_input=input(\"\"\"\n",
    "        Hello, How would you like to proceed?\n",
    "        1. Enter 1 to Deposit\n",
    "        2. Enter 2 to Withdraw\n",
    "        3. Enter 3 to create PIN\n",
    "        4. Enter 4 to Check Balance\n",
    "        5. Enter 5 to Exit\n",
    "        \"\"\")\n",
    "        if user_input==\"1\":\n",
    "            self.deposit()\n",
    "        elif user_input==\"2\":\n",
    "            self.withdraw()\n",
    "        elif user_input==\"3\":\n",
    "            print(\"Creating PIN..\")\n",
    "            time.sleep(2)\n",
    "            self.create_pin()\n",
    "        elif user_input==\"4\":\n",
    "            self.check_balance()\n",
    "        elif user_input==\"5\":\n",
    "            print(\"Exit\")\n",
    "    \n",
    "    @staticmethod            #methods which are dealing w static keywords are called static method, they dont req. self\n",
    "    def get_counter():\n",
    "        return Atm.__counter\n",
    "    \n",
    "    @staticmethod\n",
    "    def set_counter(new):\n",
    "        if type(new)==int:\n",
    "            Atm.__counter=new\n",
    "        else:\n",
    "            print(\"Not allowed\")\n",
    "            \n",
    "    def create_pin(self):\n",
    "        self.__pin=input(\"Enter PIN: \")\n",
    "        print(\"PIN set Succesful\")\n",
    "        \n",
    "    def deposit(self):\n",
    "        temp=input(\"Enter your PIN: \")\n",
    "        if temp==self.__pin:\n",
    "            am=int(input(\"Entet the Amount: \"))\n",
    "            self.__bal=self.bal+am\n",
    "            print(\"Withdrawal Succesful!\")\n",
    "        else:\n",
    "            print(\"Invalid PIN\")\n",
    "            \n",
    "    def withdraw(self):\n",
    "        temp=input(\"Enter your PIN: \")\n",
    "        if temp==self.__pin:\n",
    "            am=int(input(\"Entet the Amount: \"))\n",
    "            if am<self.__bal:\n",
    "                self.__bal=self.bal-am\n",
    "                print(\"Deposit Succesful!\")\n",
    "            else:\n",
    "                print(\"Insufficient Balance!\")\n",
    "        else:\n",
    "            print(\"Invalid PIN\")\n",
    "            \n",
    "    def balance(self):\n",
    "        temp=input(\"Enter your PIN: \")\n",
    "        if temp==self.__pin:\n",
    "            print(\"Balance in this Account: \",self.__bal)\n",
    "        else:\n",
    "            print(\"Invalid PIN!\")\n",
    "            \n",
    "    def checks(self):\n",
    "        print(\"address of self: \",id(self))\n",
    "        print(\"address of sbi object: \",id(sbi))\n",
    "        \n",
    "    def get_pin(self):   #for finding PIN value\n",
    "        return self.__pin\n",
    "    \n",
    "    def set_pin(self,new):\n",
    "        if type(new)==str:\n",
    "            self.__pin=new\n",
    "            print(\"PIN Changed!!\")\n",
    "        else:\n",
    "            print(\"Could not change, Contact Bank!\")\n",
    "sbi=Atm()\n",
    "sbi.checks()\n",
    "\n",
    "#what is self?\n",
    "#for better explanation, go through checks method, both object and 'self' has same address, so basically self is object only\n",
    "#while calling a method, we have to d=give default agruement, which is itself object only, and it is called self\n",
    "#why is it?\n",
    "#class has two things, data and method, and object can only access the class, no one else\n",
    "#in OOP there is a rule that one method of class can't even access the other method of same class, so there is only one way\n",
    "# to acces the diff method, we can use object(self)\n"
   ]
  },
  {
   "cell_type": "code",
   "execution_count": 2,
   "id": "358566cd",
   "metadata": {},
   "outputs": [],
   "source": [
    "# How to create your own dtype?\n",
    "# lets create a dtype fraction\n",
    "\n",
    "class frac:\n",
    "    def __init__(self,num,din):\n",
    "        self.n=num\n",
    "        self.d=din\n",
    "    def __str__(self): #when u want to print object, python auto. search for print method, and print whatever is in here\n",
    "        return \"{}/{}\".format(self.n,self.d)\n",
    "    def __add__(self,other):  #self=x, other=y, both will have num, dino.\n",
    "        up=self.n*other.d+self.d*self.n\n",
    "        down=self.d*other.d\n",
    "        return \"{}/{}\".format(up,down)\n",
    "    def __sub__(self,other):\n",
    "        up=self.n*other.d-self.d*self.n\n",
    "        down=self.d*other.d\n",
    "        return \"{}/{}\".format(up,down)\n",
    "    def __mul__(self,other):\n",
    "        up=self.n*other.d*self.d*self.n\n",
    "        down=self.d*other.d\n",
    "        return \"{}/{}\".format(up,down)\n",
    "    def __truediv__(self,other):\n",
    "        up=self.n*other.d\n",
    "        down=self.d*other.n\n",
    "        return \"{}/{}\".format(up,down)\n",
    "#created a own datatype fraction for further use"
   ]
  },
  {
   "cell_type": "code",
   "execution_count": 3,
   "id": "554f405e",
   "metadata": {},
   "outputs": [
    {
     "name": "stdout",
     "output_type": "stream",
     "text": [
      "<class '__main__.frac'>\n"
     ]
    }
   ],
   "source": [
    "x=frac(2,3)\n",
    "y=frac(3,4)\n",
    "print(type(x))"
   ]
  },
  {
   "cell_type": "code",
   "execution_count": 4,
   "id": "b4d97685",
   "metadata": {},
   "outputs": [
    {
     "name": "stdout",
     "output_type": "stream",
     "text": [
      "2/3\n",
      "3/4\n"
     ]
    }
   ],
   "source": [
    "print(x)\n",
    "print(y)"
   ]
  },
  {
   "cell_type": "code",
   "execution_count": 5,
   "id": "c263ee80",
   "metadata": {},
   "outputs": [
    {
     "name": "stdout",
     "output_type": "stream",
     "text": [
      "14/12\n",
      "2/12\n",
      "48/12\n",
      "8/9\n"
     ]
    }
   ],
   "source": [
    "#it is not possible, bcz we have not guided python class for + operaiton..for this we have __add__(used for addition)\n",
    "#whenever we create this magic method, python auto. search for this method, which is used to add(+)\n",
    "# it wont simplify, because we are the creator of this class, so we have to teach each n every thing\n",
    "print(x+y)\n",
    "print(x-y)\n",
    "print(x*y)\n",
    "print(x/y)\n",
    "#similarly goes with '-' we have to call __sub__\n",
    "# for multiplication too, __mul__\n",
    "# for division, __truediv__\n",
    "\n",
    "#in this way we can create a full fledged dtype, can have multiple functionalities like, mode, >, <, <=, >= etc\n",
    "# many likes, convert to hexa, octa, complex no.etc etc\n",
    "\n",
    "#go through magic methods in puython documentation"
   ]
  },
  {
   "cell_type": "code",
   "execution_count": 6,
   "id": "5af8df35",
   "metadata": {},
   "outputs": [],
   "source": [
    "#what is instance variable?\n",
    "#variable which hold different values for every other objects\n",
    "# for ex pin, balanace etc can be different for every other object\n",
    "\n",
    "# in above ATMs code, we can access variables(datas) outside the class also, which is not a good practice,\n",
    "# coz anyone can access and even change the value, so for that we need access modifier\n",
    "\n",
    "# in Java,C++, we have public, pvt, protected, default etc\n",
    "# in Python OOP, for pvt->we have to add __ in front of variable initialisation\n",
    "# in similary way we can hide methods by adding __ in front of methods\n",
    "\n",
    "#still we can access any method, __menu() means _Atm__menu(), if we write this outside the class, still we can access\n",
    "#so basically python is partially pvt\n",
    "\n",
    "#What is Encapsulation?\n",
    "# while creating class, everything should be pvt(especially data variable)\n",
    "# we can create a prgrm to show pvt data members as well, if neccesary\n",
    "# in above code, we have created a get_pin, set_pin method..where we can set, or see the PIN\n",
    "# but what was the need, we can directly change it thorugh main code, but in this, we can set it by function, we can add\n",
    "# multiple functions as per our need, for example we only wnt to set PIN in str format, so we can add constraints etc\n",
    "#only when we can use functions..\n",
    "\n",
    "\n",
    "#This whole thing is collectively called Encapsulation..\n",
    "#In short, we dont have to show entire data to users, can show some limited wthings using getter functions,\n",
    "# can also set/change/modify changable things(as per my terms, or any other org terms, for ex str PIN)\n",
    "# both function is getter and setter, encasulated in a class"
   ]
  },
  {
   "cell_type": "code",
   "execution_count": 7,
   "id": "c439c07b",
   "metadata": {},
   "outputs": [],
   "source": [
    "# suppose we'll run the above code like this..(without creating any object)\n",
    "\n",
    "# Atm()\n",
    "# it'll run, but it is lost in memory, so storing reference is mandatory, sbi=Atm()"
   ]
  },
  {
   "cell_type": "code",
   "execution_count": 8,
   "id": "07a3ae58",
   "metadata": {},
   "outputs": [
    {
     "name": "stdout",
     "output_type": "stream",
     "text": [
      "Hello,  Yuvraj\n"
     ]
    }
   ],
   "source": [
    "class Customer:\n",
    "    def __init__(self,name):\n",
    "        self.name=name\n",
    "def greet(customer):\n",
    "    print(\"Hello, \",customer.name)\n",
    "cust=Customer(\"Yuvraj\")\n",
    "greet(cust)\n",
    "\n",
    "#we can give an object to function as well, you can return something\n",
    "#class ke objects are also mutable like list, dict, sets "
   ]
  },
  {
   "cell_type": "code",
   "execution_count": 9,
   "id": "4729a034",
   "metadata": {},
   "outputs": [
    {
     "name": "stdout",
     "output_type": "stream",
     "text": [
      "Yuvraj 21\n",
      "Aman 20\n",
      "Suraj 24\n"
     ]
    }
   ],
   "source": [
    "class Customer:\n",
    "    def __init__(self,name,age):\n",
    "        self.name=name\n",
    "        self.age=age\n",
    "c1=Customer(\"Yuvraj\",21)\n",
    "c2=Customer(\"Aman\",20)\n",
    "c3=Customer(\"Suraj\",24)\n",
    "\n",
    "L=[c1,c2,c3]\n",
    "for i in L:\n",
    "    print(i.name,i.age)\n",
    "    \n",
    "    \n",
    "#can execute objects using loops of list, dict, tuples, bcz they are mutable\n",
    "#cant do with sets bcz they are immuatable"
   ]
  },
  {
   "cell_type": "code",
   "execution_count": 10,
   "id": "ab0e199b",
   "metadata": {},
   "outputs": [],
   "source": [
    "#Wht is static varibale: type of variable, which holds the same value for every objects, instance var holds diff values\n",
    "#for ex: if we want to create IFSC code in above bank ex, so will create a static var ifsc, which has same values\n",
    "# for every object, degree in clg is static, cgpa is instance\n",
    "\n",
    "#instance var are initialised under constructor, where statics are init. outside constructor, but inside class"
   ]
  },
  {
   "cell_type": "code",
   "execution_count": 11,
   "id": "9265b8b5",
   "metadata": {},
   "outputs": [],
   "source": [
    "#Class has two type of relnshps,\n",
    "\n",
    "# 1) Aggregation, called \"has a\" reln.\n",
    "#     for ex customer(class) -->  address, customer has an adress\n",
    "\n",
    "# 2) Inheritance, called \"is a\" reln.\n",
    "#     for ex car(class) -->  "
   ]
  },
  {
   "cell_type": "code",
   "execution_count": 12,
   "id": "15da7403",
   "metadata": {},
   "outputs": [],
   "source": [
    "class customer:\n",
    "    def __init__(self,name,gender,add):\n",
    "        self.name=name\n",
    "        self.gender=gender\n",
    "        self.add=add\n",
    "        \n",
    "    def edit_profile(self,new_name,new_city,new_pin,new_state):\n",
    "        self.name=new_name\n",
    "        self.city=new_city\n",
    "        self.pin=new_pin\n",
    "        self.state=new_state\n",
    "\n",
    "class Address:\n",
    "    def __init__(self,city,pin,state):\n",
    "        self.city=city\n",
    "        self.pin=pin\n",
    "        self.state=state\n",
    "        \n",
    "    def change_add(self,new_city,new_pin,new_state):\n",
    "        self.city=new_city\n",
    "        self.pin=new_pin\n",
    "        self.state=new_state\n",
    "\n",
    "adrs=Address(\"Kharghar\",410210,\"Maharashtra\")        \n",
    "cust=customer(\"Yuvraj\",\"Male\",adrs)\n",
    "\n",
    "#in this code, ex of aggregation relnshp, parent class is not working by itself, vo child class class se kaam krwa ra h"
   ]
  },
  {
   "cell_type": "code",
   "execution_count": 13,
   "id": "d9b96d97",
   "metadata": {},
   "outputs": [],
   "source": [
    "#now coming to inheritance\n",
    "# we can create code using inheritance which is re-usable, and efficient, it follows DRY(dont repeat urself) concept \n",
    "# inheritance is one way, parent class functionalities are inherited, not child class one inherited\n",
    "# pvt members are not inherited"
   ]
  },
  {
   "cell_type": "code",
   "execution_count": 14,
   "id": "6cba949b",
   "metadata": {},
   "outputs": [
    {
     "name": "stdout",
     "output_type": "stream",
     "text": [
      "Login\n",
      "Register\n",
      "Enroll\n",
      "Review\n"
     ]
    }
   ],
   "source": [
    "class User:\n",
    "    def login(self):\n",
    "        print(\"Login\")\n",
    "    def register(self):\n",
    "        print(\"Register\")\n",
    "\n",
    "#to show it is inheritance, add User in bracket with Student class, this shows Student is inheriting User class \n",
    "class Student(User):\n",
    "    def enroll(self):\n",
    "        print(\"Enroll\")\n",
    "    def review(self):\n",
    "        print(\"Review\")\n",
    "\n",
    "stu1=Student()\n",
    "stu1.login()\n",
    "stu1.register()\n",
    "stu1.enroll()\n",
    "stu1.review()"
   ]
  },
  {
   "cell_type": "code",
   "execution_count": 1,
   "id": "2a758140",
   "metadata": {},
   "outputs": [
    {
     "name": "stdout",
     "output_type": "stream",
     "text": [
      "Inside Phone Constructor\n",
      "20000\n"
     ]
    }
   ],
   "source": [
    "# we can inherit constructor as well\n",
    "class Phone:\n",
    "    def __init__(self,price,brand,camera):\n",
    "        print(\"Inside Phone Constructor\")\n",
    "        self.price=price\n",
    "        self.brand=brand\n",
    "        self.camera=camera\n",
    "    def buy(self):\n",
    "        print(\"Buying a Phone\")\n",
    "    \n",
    "    def return_phone(self):\n",
    "        print(\"Returning a Phone\")\n",
    "    \n",
    "# class FeaturePhone(Phone):\n",
    "#     pass\n",
    "\n",
    "class SmartPhone(Phone):\n",
    "    pass\n",
    "\n",
    "s=SmartPhone(20000,'Redmi',48)\n",
    "print(s.price)\n",
    "#while running the code, it will check if the child class has constructor or not, if not it'll go to \n",
    "# parent class(as it is inher. the properties), vaha chekc hoga, and uska constructor call ho jayega"
   ]
  },
  {
   "cell_type": "code",
   "execution_count": 2,
   "id": "458badf0",
   "metadata": {},
   "outputs": [
    {
     "name": "stdout",
     "output_type": "stream",
     "text": [
      "Inside Phone Constructor\n",
      "20000\n"
     ]
    }
   ],
   "source": [
    "#cant inherit pvt class members, functions\n",
    "class Phone:\n",
    "    def __init__(self,price,brand,camera):\n",
    "        print(\"Inside Phone Constructor\")\n",
    "        self.price=price\n",
    "        self.__brand=brand  #pvt data member\n",
    "        self.camera=camera\n",
    "    def buy(self):\n",
    "        print(\"Buying a Phone\")\n",
    "    \n",
    "    def return_phone(self):\n",
    "        print(\"Returning a Phone\")\n",
    "    \n",
    "class FeaturePhone(Phone):\n",
    "    pass\n",
    "\n",
    "class SmartPhone(Phone):\n",
    "    pass\n",
    "\n",
    "s=SmartPhone(20000,'Redmi',48)\n",
    "print(s.price)"
   ]
  },
  {
   "cell_type": "code",
   "execution_count": 17,
   "id": "97d68db8",
   "metadata": {},
   "outputs": [
    {
     "name": "stdout",
     "output_type": "stream",
     "text": [
      "Inside Phone Constructor\n",
      "Buying a Smart Phone\n"
     ]
    }
   ],
   "source": [
    "class Phone:\n",
    "    def __init__(self,price,brand,camera):\n",
    "        print(\"Inside Phone Constructor\")\n",
    "        self.price=price\n",
    "        self.__brand=brand  #pvt data member\n",
    "        self.camera=camera\n",
    "    def buy(self):\n",
    "        print(\"Buying a Phone\")\n",
    "    \n",
    "    def return_phone(self):\n",
    "        print(\"Returning a Phone\")\n",
    "    \n",
    "\n",
    "class SmartPhone(Phone):\n",
    "    def buy(self):\n",
    "        print(\"Buying a Smart Phone\")\n",
    "\n",
    "s=SmartPhone(20000,'Redmi',48)\n",
    "s.buy()  \n",
    "\n",
    "#what if the function of both class is named same by chance, \n",
    "# code will execute as per child class\n",
    "\n",
    "#this is called method overrriding  --> Polymorphism\n",
    "\n",
    "#in real wold example, if parent, grandparent has business of security, but i want to become Data Scientist\n",
    "# then i'll follow my career, tho i had an option of choosing family business, but i opted my dream over it"
   ]
  },
  {
   "cell_type": "code",
   "execution_count": 18,
   "id": "6c928832",
   "metadata": {},
   "outputs": [
    {
     "name": "stdout",
     "output_type": "stream",
     "text": [
      "100\n",
      "This is child class\n"
     ]
    }
   ],
   "source": [
    "class parent:\n",
    "    def __init__(self,num):\n",
    "        self.__num=num\n",
    "    def get_num(self):\n",
    "        return self.__num\n",
    "class child(parent):\n",
    "    def show(self):\n",
    "        print(\"This is child class\")\n",
    "son=child(100)\n",
    "print(son.get_num())\n",
    "son.show()"
   ]
  },
  {
   "cell_type": "code",
   "execution_count": 19,
   "id": "e9a18ff9",
   "metadata": {},
   "outputs": [
    {
     "name": "stdout",
     "output_type": "stream",
     "text": [
      "Inside Phone Constructor\n",
      "Buying a Smart Phone!\n",
      "Buying a Phone\n"
     ]
    },
    {
     "ename": "AttributeError",
     "evalue": "'SmartPhone' object has no attribute 'super'",
     "output_type": "error",
     "traceback": [
      "\u001b[1;31m---------------------------------------------------------------------------\u001b[0m",
      "\u001b[1;31mAttributeError\u001b[0m                            Traceback (most recent call last)",
      "\u001b[1;32m~\\AppData\\Local\\Temp\\ipykernel_26020\\2745290604.py\u001b[0m in \u001b[0;36m<module>\u001b[1;34m\u001b[0m\n\u001b[0;32m     18\u001b[0m \u001b[0ms\u001b[0m\u001b[1;33m.\u001b[0m\u001b[0mbuy\u001b[0m\u001b[1;33m(\u001b[0m\u001b[1;33m)\u001b[0m\u001b[1;33m\u001b[0m\u001b[1;33m\u001b[0m\u001b[0m\n\u001b[0;32m     19\u001b[0m \u001b[1;33m\u001b[0m\u001b[0m\n\u001b[1;32m---> 20\u001b[1;33m \u001b[0ms\u001b[0m\u001b[1;33m.\u001b[0m\u001b[0msuper\u001b[0m\u001b[1;33m(\u001b[0m\u001b[1;33m)\u001b[0m\u001b[1;33m.\u001b[0m\u001b[0mbuy\u001b[0m\u001b[1;33m(\u001b[0m\u001b[1;33m)\u001b[0m  \u001b[1;31m#this code wont run ,bcz super() keyword doesnot work outside the class\u001b[0m\u001b[1;33m\u001b[0m\u001b[1;33m\u001b[0m\u001b[0m\n\u001b[0m\u001b[0;32m     21\u001b[0m \u001b[1;31m# s.buy() will run child class buy(), then it'll find that it has super() function, will search\u001b[0m\u001b[1;33m\u001b[0m\u001b[1;33m\u001b[0m\u001b[0m\n\u001b[0;32m     22\u001b[0m \u001b[1;31m# if buy() is present in Phone class or not, if yes, it'll run that as well\u001b[0m\u001b[1;33m\u001b[0m\u001b[1;33m\u001b[0m\u001b[0m\n",
      "\u001b[1;31mAttributeError\u001b[0m: 'SmartPhone' object has no attribute 'super'"
     ]
    }
   ],
   "source": [
    "#what is super keyword?\n",
    "#using this, we can access parent method/constructor\n",
    "class Phone:\n",
    "    def __init__(self,price,brand,camera):\n",
    "        print(\"Inside Phone Constructor\")\n",
    "        self.price=price\n",
    "        self.__brand=brand  #pvt data member\n",
    "        self.camera=camera\n",
    "    def buy(self):\n",
    "        print(\"Buying a Phone\")\n",
    "\n",
    "class SmartPhone(Phone):\n",
    "    def buy(self):\n",
    "        print(\"Buying a Smart Phone!\")\n",
    "        super().buy()   #using this, it will run parent Buy() function as well\n",
    "\n",
    "s=SmartPhone(20000,'Redmi',48)\n",
    "s.buy()\n",
    "\n",
    "s.super().buy()  #this code wont run ,bcz super() keyword doesnot work outside the class\n",
    "# s.buy() will run child class buy(), then it'll find that it has super() function, will search \n",
    "# if buy() is present in Phone class or not, if yes, it'll run that as well\n",
    "#super keyword can be useful in accessing two things, parent(methods), parent(constructors),cant even access attributes"
   ]
  },
  {
   "cell_type": "code",
   "execution_count": 20,
   "id": "abe15721",
   "metadata": {},
   "outputs": [
    {
     "name": "stdout",
     "output_type": "stream",
     "text": [
      "1. First entered here..\n",
      "2. Inside Phone Constructor\n",
      "Inside SmartPhone Constructor!\n",
      "Android11\n",
      "Redmi\n"
     ]
    }
   ],
   "source": [
    "class Phone:\n",
    "    def __init__(self,price,brand,camera):\n",
    "        print(\"2. Inside Phone Constructor\")\n",
    "        self.__price=price  #3rd steps\n",
    "        self.brand=brand  #pvt data member\n",
    "        self.camera=camera\n",
    "    def buy(self):\n",
    "        print(\"Buying a Phone\")\n",
    "\n",
    "class SmartPhone(Phone):\n",
    "    def __init__(self,price,brand,camera,os,ram):  #invoked here,\n",
    "        print(\"1. First entered here..\")\n",
    "        super().__init__(price,brand,camera)   #using super(), it called parent's constructor, and vo values waha se assign hui\n",
    "        self.os=os  #here we are assigning only os, ram values\n",
    "        self.ram=ram  #in short, price brand camera got initialized by parent class, everythng else from child class\n",
    "        print(\"Inside SmartPhone Constructor!\")\n",
    "\n",
    "s=SmartPhone(20000,'Redmi',48,\"Android11\",16)  #calling child constructor..\n",
    "print(s.os)\n",
    "print(s.brand)"
   ]
  },
  {
   "cell_type": "code",
   "execution_count": 21,
   "id": "bdbf0a1c",
   "metadata": {},
   "outputs": [
    {
     "name": "stdout",
     "output_type": "stream",
     "text": [
      "100\n",
      "200\n"
     ]
    }
   ],
   "source": [
    "class Parent:\n",
    "    def __init__(self,num):\n",
    "        self.__num=num\n",
    "        \n",
    "    def get_num(self):\n",
    "        return self.__num\n",
    "\n",
    "class Child(Parent):\n",
    "    def __init__(self,num,val):\n",
    "        super().__init__(num)\n",
    "        self.__val=val\n",
    "        \n",
    "    def get_val(self):\n",
    "        return self.__val\n",
    "\n",
    "son=Child(100,200)\n",
    "print(son.get_num())\n",
    "print(son.get_val())"
   ]
  },
  {
   "cell_type": "code",
   "execution_count": 22,
   "id": "83b1f7d7",
   "metadata": {},
   "outputs": [
    {
     "name": "stdout",
     "output_type": "stream",
     "text": [
      "100\n",
      "200\n"
     ]
    }
   ],
   "source": [
    "class parent:\n",
    "    def __init__(self):\n",
    "        self.num=100\n",
    "        \n",
    "class child(parent):\n",
    "    def __init__(self):\n",
    "        super().__init__()\n",
    "        self.var=200\n",
    "            \n",
    "    def show(self):\n",
    "        print(self.num)\n",
    "        print(self.var)\n",
    "\n",
    "son=child()\n",
    "son.show()"
   ]
  },
  {
   "cell_type": "code",
   "execution_count": 23,
   "id": "14b2c9e5",
   "metadata": {},
   "outputs": [],
   "source": [
    "# In python there are 4 types of Inheritance\n",
    "# 1) Single inheritance  A <- B\n",
    "# 2) Multilevel inheritance  A <- B <- C\n",
    "# 3) Hierarchal  A <- B,C\n",
    "# 4) Multiple Inheritance  A,B <- C (only in  python, not in Java)\n",
    "# 5) Hybrid Inheritance(Combination of any above..): A <- B <- C,D <- E <- F"
   ]
  },
  {
   "cell_type": "code",
   "execution_count": 24,
   "id": "e0ac2804",
   "metadata": {},
   "outputs": [
    {
     "name": "stdout",
     "output_type": "stream",
     "text": [
      "Login\n",
      "Register\n",
      "Enroll\n",
      "Review\n"
     ]
    }
   ],
   "source": [
    "#Single Inheritance\n",
    "\n",
    "class User:\n",
    "    def login(self):\n",
    "        print(\"Login\")\n",
    "    def register(self):\n",
    "        print(\"Register\")\n",
    "\n",
    "class Student(User):\n",
    "    def enroll(self):\n",
    "        print(\"Enroll\")\n",
    "    def review(self):\n",
    "        print(\"Review\")\n",
    "\n",
    "stu1=Student()\n",
    "stu1.login()\n",
    "stu1.register()\n",
    "stu1.enroll()\n",
    "stu1.review()"
   ]
  },
  {
   "cell_type": "code",
   "execution_count": 25,
   "id": "350019c0",
   "metadata": {},
   "outputs": [
    {
     "name": "stdout",
     "output_type": "stream",
     "text": [
      "Login\n",
      "Login\n",
      "Enroll\n"
     ]
    }
   ],
   "source": [
    "#multilevel, child class and grand child class, both can access parent class, grandchild can access his parent(2nd cls)\n",
    "class User:\n",
    "    def login(self):\n",
    "        print(\"Login\")\n",
    "    def register(self):\n",
    "        print(\"Register\")\n",
    "\n",
    "class Student(User):\n",
    "    def enroll(self):\n",
    "        print(\"Enroll\")\n",
    "    def review(self):\n",
    "        print(\"Review\")\n",
    "        \n",
    "class Prof(Student):\n",
    "    def mark_attdnce(self):\n",
    "        print(\"Marking Attendance\")\n",
    "    def payroll(self):\n",
    "        print(\"View Salary breakdown\")\n",
    "\n",
    "st=Student()\n",
    "prof=Prof()\n",
    "st.login()\n",
    "prof.login()   #can access User functions, because it is inheriting(chain like), grandttparent clas(1st class)\n",
    "prof.enroll()  #child class accessing its parent class(2nd class)\n",
    "\n",
    "# A\n",
    "# |\n",
    "# B\n",
    "# |\n",
    "# C"
   ]
  },
  {
   "cell_type": "code",
   "execution_count": 26,
   "id": "e172eca9",
   "metadata": {},
   "outputs": [
    {
     "name": "stdout",
     "output_type": "stream",
     "text": [
      "Login\n",
      "Login\n"
     ]
    }
   ],
   "source": [
    "class User:\n",
    "    def login(self):\n",
    "        print(\"Login\")\n",
    "    def register(self):\n",
    "        print(\"Register\")\n",
    "\n",
    "class Student(User):\n",
    "    def enroll(self):\n",
    "        print(\"Enroll\")\n",
    "    def review(self):\n",
    "        print(\"Review\")\n",
    "        \n",
    "class Prof(User):\n",
    "    def mark_attdnce(self):\n",
    "        print(\"Marking Attendance\")\n",
    "    def payroll(self):\n",
    "        print(\"View Salary breakdown\")\n",
    "\n",
    "st=Student()\n",
    "prof=Prof()\n",
    "st.login()\n",
    "prof.login()\n",
    "\n",
    "#     A\n",
    "#   /  \\\n",
    "#  B    C"
   ]
  },
  {
   "cell_type": "code",
   "execution_count": 27,
   "id": "38a35b94",
   "metadata": {},
   "outputs": [
    {
     "name": "stdout",
     "output_type": "stream",
     "text": [
      "Login\n",
      "Review\n"
     ]
    }
   ],
   "source": [
    "#multi level inheritance\n",
    "class User:\n",
    "    def login(self):\n",
    "        print(\"Login\")\n",
    "    def register(self):\n",
    "        print(\"Register\")\n",
    "\n",
    "class Student():\n",
    "    def enroll(self):\n",
    "        print(\"Enroll\")\n",
    "    def review(self):\n",
    "        print(\"Review\")\n",
    "        \n",
    "class Prof(User,Student):\n",
    "    def mark_attdnce(self):\n",
    "        print(\"Marking Attendance\")\n",
    "    def payroll(self):\n",
    "        print(\"View Salary breakdown\")\n",
    "\n",
    "prof=Prof()\n",
    "prof.login()\n",
    "prof.review()\n",
    "#     A   B\n",
    "#     \\  /      \n",
    "#      C \n",
    "#this process is called MRO(Method resolution order)"
   ]
  },
  {
   "cell_type": "code",
   "execution_count": null,
   "id": "c5051753",
   "metadata": {},
   "outputs": [],
   "source": [
    "class A:\n",
    "    def m1(self):\n",
    "        return 20\n",
    "    \n",
    "class B(A):\n",
    "    def m1(self):\n",
    "        val=super().m1()+30\n",
    "        return val\n",
    "\n",
    "class C(B):\n",
    "    def m1(self):\n",
    "        val=self.m1()+20   #calling self here means re calling obj many times, recursion happende \n",
    "        return val\n",
    "obj=C()\n",
    "print(obj.m1())\n",
    "\n",
    "# O/P-> recursion happended, so kernel died"
   ]
  },
  {
   "cell_type": "code",
   "execution_count": 2,
   "id": "2591215f",
   "metadata": {},
   "outputs": [
    {
     "data": {
      "text/plain": [
       "4"
      ]
     },
     "execution_count": 2,
     "metadata": {},
     "output_type": "execute_result"
    }
   ],
   "source": [
    "# Method Overloading\n",
    "# funciton names are same, but input and behaviour will be different\n",
    "\n",
    "class Geo:\n",
    "    def area(self,r):\n",
    "        return 3.14*r*r\n",
    "    def area(self,l,b):\n",
    "        return l*b\n",
    "obj=Geo()\n",
    "obj.area(4,1) #output will be 4, kyuli python last written code ka o/p deta h..\n",
    "\n",
    "#in this code, if i will give two inputs it ll execute area(l,b).. if 1 input..area(r)(if runs in Java)\n",
    "\n",
    "#so there is no way possible to use method overloading in python(technically)"
   ]
  },
  {
   "cell_type": "code",
   "execution_count": 9,
   "id": "d791821d",
   "metadata": {},
   "outputs": [
    {
     "name": "stdout",
     "output_type": "stream",
     "text": [
      "Circle's Area:  12.56\n",
      "Rectangle's Area:  2\n"
     ]
    }
   ],
   "source": [
    "#u can do some jugaad thing like this rather..\n",
    "\n",
    "class Geo:\n",
    "    def area(self,a,b=0):\n",
    "        if b==0:\n",
    "            print(\"Circle's Area: \",3.14*a*a)\n",
    "        else:\n",
    "            print(\"Rectangle's Area: \",a*b)\n",
    "obj=Geo()\n",
    "obj.area(2)\n",
    "obj.area(1,2)"
   ]
  },
  {
   "cell_type": "code",
   "execution_count": 10,
   "id": "6d2b81b4",
   "metadata": {},
   "outputs": [],
   "source": [
    "#operator overloading\n",
    "\n",
    "#here this concept is possin=ble in python using magic methods __init__, __add__, __mul__ etc"
   ]
  },
  {
   "cell_type": "markdown",
   "id": "a8998c4d",
   "metadata": {},
   "source": [
    "**Lets Create a Small Project of IRCTC, functionalities using Indian Railway API:**\n",
    "1)Live Train Status\n",
    "2)PNR Check\n",
    "3)Live Station\n",
    "4)Seat Availability\n",
    "5)Station Search\n",
    "6)Train Fare etc etc"
   ]
  },
  {
   "cell_type": "code",
   "execution_count": 15,
   "id": "bea4e146",
   "metadata": {},
   "outputs": [
    {
     "name": "stdout",
     "output_type": "stream",
     "text": [
      "Hello, How would you like to Proceed?\n",
      "        1. Enter 1 for Live Train Status\n",
      "        2. Enter 2 to check PNR Status\n",
      "        3. Enter 3 to check train schedule3\n",
      "Enter train Numner: 12321\n"
     ]
    },
    {
     "ename": "ConnectionError",
     "evalue": "HTTPSConnectionPool(host='indianrailapil.com', port=443): Max retries exceeded with url: /api/v2/TrainSchedule/apikey/30c382602bfa67c8a7c580e6cfe2becb/TrainNumber/12321 (Caused by NewConnectionError('<urllib3.connection.HTTPSConnection object at 0x000002069FA98430>: Failed to establish a new connection: [Errno 11001] getaddrinfo failed'))",
     "output_type": "error",
     "traceback": [
      "\u001b[1;31m---------------------------------------------------------------------------\u001b[0m",
      "\u001b[1;31mgaierror\u001b[0m                                  Traceback (most recent call last)",
      "\u001b[1;32mC:\\ProgramData\\Anaconda3\\lib\\site-packages\\urllib3\\connection.py\u001b[0m in \u001b[0;36m_new_conn\u001b[1;34m(self)\u001b[0m\n\u001b[0;32m    173\u001b[0m         \u001b[1;32mtry\u001b[0m\u001b[1;33m:\u001b[0m\u001b[1;33m\u001b[0m\u001b[1;33m\u001b[0m\u001b[0m\n\u001b[1;32m--> 174\u001b[1;33m             conn = connection.create_connection(\n\u001b[0m\u001b[0;32m    175\u001b[0m                 \u001b[1;33m(\u001b[0m\u001b[0mself\u001b[0m\u001b[1;33m.\u001b[0m\u001b[0m_dns_host\u001b[0m\u001b[1;33m,\u001b[0m \u001b[0mself\u001b[0m\u001b[1;33m.\u001b[0m\u001b[0mport\u001b[0m\u001b[1;33m)\u001b[0m\u001b[1;33m,\u001b[0m \u001b[0mself\u001b[0m\u001b[1;33m.\u001b[0m\u001b[0mtimeout\u001b[0m\u001b[1;33m,\u001b[0m \u001b[1;33m**\u001b[0m\u001b[0mextra_kw\u001b[0m\u001b[1;33m\u001b[0m\u001b[1;33m\u001b[0m\u001b[0m\n",
      "\u001b[1;32mC:\\ProgramData\\Anaconda3\\lib\\site-packages\\urllib3\\util\\connection.py\u001b[0m in \u001b[0;36mcreate_connection\u001b[1;34m(address, timeout, source_address, socket_options)\u001b[0m\n\u001b[0;32m     71\u001b[0m \u001b[1;33m\u001b[0m\u001b[0m\n\u001b[1;32m---> 72\u001b[1;33m     \u001b[1;32mfor\u001b[0m \u001b[0mres\u001b[0m \u001b[1;32min\u001b[0m \u001b[0msocket\u001b[0m\u001b[1;33m.\u001b[0m\u001b[0mgetaddrinfo\u001b[0m\u001b[1;33m(\u001b[0m\u001b[0mhost\u001b[0m\u001b[1;33m,\u001b[0m \u001b[0mport\u001b[0m\u001b[1;33m,\u001b[0m \u001b[0mfamily\u001b[0m\u001b[1;33m,\u001b[0m \u001b[0msocket\u001b[0m\u001b[1;33m.\u001b[0m\u001b[0mSOCK_STREAM\u001b[0m\u001b[1;33m)\u001b[0m\u001b[1;33m:\u001b[0m\u001b[1;33m\u001b[0m\u001b[1;33m\u001b[0m\u001b[0m\n\u001b[0m\u001b[0;32m     73\u001b[0m         \u001b[0maf\u001b[0m\u001b[1;33m,\u001b[0m \u001b[0msocktype\u001b[0m\u001b[1;33m,\u001b[0m \u001b[0mproto\u001b[0m\u001b[1;33m,\u001b[0m \u001b[0mcanonname\u001b[0m\u001b[1;33m,\u001b[0m \u001b[0msa\u001b[0m \u001b[1;33m=\u001b[0m \u001b[0mres\u001b[0m\u001b[1;33m\u001b[0m\u001b[1;33m\u001b[0m\u001b[0m\n",
      "\u001b[1;32mC:\\ProgramData\\Anaconda3\\lib\\socket.py\u001b[0m in \u001b[0;36mgetaddrinfo\u001b[1;34m(host, port, family, type, proto, flags)\u001b[0m\n\u001b[0;32m    953\u001b[0m     \u001b[0maddrlist\u001b[0m \u001b[1;33m=\u001b[0m \u001b[1;33m[\u001b[0m\u001b[1;33m]\u001b[0m\u001b[1;33m\u001b[0m\u001b[1;33m\u001b[0m\u001b[0m\n\u001b[1;32m--> 954\u001b[1;33m     \u001b[1;32mfor\u001b[0m \u001b[0mres\u001b[0m \u001b[1;32min\u001b[0m \u001b[0m_socket\u001b[0m\u001b[1;33m.\u001b[0m\u001b[0mgetaddrinfo\u001b[0m\u001b[1;33m(\u001b[0m\u001b[0mhost\u001b[0m\u001b[1;33m,\u001b[0m \u001b[0mport\u001b[0m\u001b[1;33m,\u001b[0m \u001b[0mfamily\u001b[0m\u001b[1;33m,\u001b[0m \u001b[0mtype\u001b[0m\u001b[1;33m,\u001b[0m \u001b[0mproto\u001b[0m\u001b[1;33m,\u001b[0m \u001b[0mflags\u001b[0m\u001b[1;33m)\u001b[0m\u001b[1;33m:\u001b[0m\u001b[1;33m\u001b[0m\u001b[1;33m\u001b[0m\u001b[0m\n\u001b[0m\u001b[0;32m    955\u001b[0m         \u001b[0maf\u001b[0m\u001b[1;33m,\u001b[0m \u001b[0msocktype\u001b[0m\u001b[1;33m,\u001b[0m \u001b[0mproto\u001b[0m\u001b[1;33m,\u001b[0m \u001b[0mcanonname\u001b[0m\u001b[1;33m,\u001b[0m \u001b[0msa\u001b[0m \u001b[1;33m=\u001b[0m \u001b[0mres\u001b[0m\u001b[1;33m\u001b[0m\u001b[1;33m\u001b[0m\u001b[0m\n",
      "\u001b[1;31mgaierror\u001b[0m: [Errno 11001] getaddrinfo failed",
      "\nDuring handling of the above exception, another exception occurred:\n",
      "\u001b[1;31mNewConnectionError\u001b[0m                        Traceback (most recent call last)",
      "\u001b[1;32mC:\\ProgramData\\Anaconda3\\lib\\site-packages\\urllib3\\connectionpool.py\u001b[0m in \u001b[0;36murlopen\u001b[1;34m(self, method, url, body, headers, retries, redirect, assert_same_host, timeout, pool_timeout, release_conn, chunked, body_pos, **response_kw)\u001b[0m\n\u001b[0;32m    702\u001b[0m             \u001b[1;31m# Make the request on the httplib connection object.\u001b[0m\u001b[1;33m\u001b[0m\u001b[1;33m\u001b[0m\u001b[0m\n\u001b[1;32m--> 703\u001b[1;33m             httplib_response = self._make_request(\n\u001b[0m\u001b[0;32m    704\u001b[0m                 \u001b[0mconn\u001b[0m\u001b[1;33m,\u001b[0m\u001b[1;33m\u001b[0m\u001b[1;33m\u001b[0m\u001b[0m\n",
      "\u001b[1;32mC:\\ProgramData\\Anaconda3\\lib\\site-packages\\urllib3\\connectionpool.py\u001b[0m in \u001b[0;36m_make_request\u001b[1;34m(self, conn, method, url, timeout, chunked, **httplib_request_kw)\u001b[0m\n\u001b[0;32m    385\u001b[0m         \u001b[1;32mtry\u001b[0m\u001b[1;33m:\u001b[0m\u001b[1;33m\u001b[0m\u001b[1;33m\u001b[0m\u001b[0m\n\u001b[1;32m--> 386\u001b[1;33m             \u001b[0mself\u001b[0m\u001b[1;33m.\u001b[0m\u001b[0m_validate_conn\u001b[0m\u001b[1;33m(\u001b[0m\u001b[0mconn\u001b[0m\u001b[1;33m)\u001b[0m\u001b[1;33m\u001b[0m\u001b[1;33m\u001b[0m\u001b[0m\n\u001b[0m\u001b[0;32m    387\u001b[0m         \u001b[1;32mexcept\u001b[0m \u001b[1;33m(\u001b[0m\u001b[0mSocketTimeout\u001b[0m\u001b[1;33m,\u001b[0m \u001b[0mBaseSSLError\u001b[0m\u001b[1;33m)\u001b[0m \u001b[1;32mas\u001b[0m \u001b[0me\u001b[0m\u001b[1;33m:\u001b[0m\u001b[1;33m\u001b[0m\u001b[1;33m\u001b[0m\u001b[0m\n",
      "\u001b[1;32mC:\\ProgramData\\Anaconda3\\lib\\site-packages\\urllib3\\connectionpool.py\u001b[0m in \u001b[0;36m_validate_conn\u001b[1;34m(self, conn)\u001b[0m\n\u001b[0;32m   1041\u001b[0m         \u001b[1;32mif\u001b[0m \u001b[1;32mnot\u001b[0m \u001b[0mgetattr\u001b[0m\u001b[1;33m(\u001b[0m\u001b[0mconn\u001b[0m\u001b[1;33m,\u001b[0m \u001b[1;34m\"sock\"\u001b[0m\u001b[1;33m,\u001b[0m \u001b[1;32mNone\u001b[0m\u001b[1;33m)\u001b[0m\u001b[1;33m:\u001b[0m  \u001b[1;31m# AppEngine might not have  `.sock`\u001b[0m\u001b[1;33m\u001b[0m\u001b[1;33m\u001b[0m\u001b[0m\n\u001b[1;32m-> 1042\u001b[1;33m             \u001b[0mconn\u001b[0m\u001b[1;33m.\u001b[0m\u001b[0mconnect\u001b[0m\u001b[1;33m(\u001b[0m\u001b[1;33m)\u001b[0m\u001b[1;33m\u001b[0m\u001b[1;33m\u001b[0m\u001b[0m\n\u001b[0m\u001b[0;32m   1043\u001b[0m \u001b[1;33m\u001b[0m\u001b[0m\n",
      "\u001b[1;32mC:\\ProgramData\\Anaconda3\\lib\\site-packages\\urllib3\\connection.py\u001b[0m in \u001b[0;36mconnect\u001b[1;34m(self)\u001b[0m\n\u001b[0;32m    357\u001b[0m         \u001b[1;31m# Add certificate verification\u001b[0m\u001b[1;33m\u001b[0m\u001b[1;33m\u001b[0m\u001b[0m\n\u001b[1;32m--> 358\u001b[1;33m         \u001b[0mself\u001b[0m\u001b[1;33m.\u001b[0m\u001b[0msock\u001b[0m \u001b[1;33m=\u001b[0m \u001b[0mconn\u001b[0m \u001b[1;33m=\u001b[0m \u001b[0mself\u001b[0m\u001b[1;33m.\u001b[0m\u001b[0m_new_conn\u001b[0m\u001b[1;33m(\u001b[0m\u001b[1;33m)\u001b[0m\u001b[1;33m\u001b[0m\u001b[1;33m\u001b[0m\u001b[0m\n\u001b[0m\u001b[0;32m    359\u001b[0m         \u001b[0mhostname\u001b[0m \u001b[1;33m=\u001b[0m \u001b[0mself\u001b[0m\u001b[1;33m.\u001b[0m\u001b[0mhost\u001b[0m\u001b[1;33m\u001b[0m\u001b[1;33m\u001b[0m\u001b[0m\n",
      "\u001b[1;32mC:\\ProgramData\\Anaconda3\\lib\\site-packages\\urllib3\\connection.py\u001b[0m in \u001b[0;36m_new_conn\u001b[1;34m(self)\u001b[0m\n\u001b[0;32m    185\u001b[0m         \u001b[1;32mexcept\u001b[0m \u001b[0mSocketError\u001b[0m \u001b[1;32mas\u001b[0m \u001b[0me\u001b[0m\u001b[1;33m:\u001b[0m\u001b[1;33m\u001b[0m\u001b[1;33m\u001b[0m\u001b[0m\n\u001b[1;32m--> 186\u001b[1;33m             raise NewConnectionError(\n\u001b[0m\u001b[0;32m    187\u001b[0m                 \u001b[0mself\u001b[0m\u001b[1;33m,\u001b[0m \u001b[1;34m\"Failed to establish a new connection: %s\"\u001b[0m \u001b[1;33m%\u001b[0m \u001b[0me\u001b[0m\u001b[1;33m\u001b[0m\u001b[1;33m\u001b[0m\u001b[0m\n",
      "\u001b[1;31mNewConnectionError\u001b[0m: <urllib3.connection.HTTPSConnection object at 0x000002069FA98430>: Failed to establish a new connection: [Errno 11001] getaddrinfo failed",
      "\nDuring handling of the above exception, another exception occurred:\n",
      "\u001b[1;31mMaxRetryError\u001b[0m                             Traceback (most recent call last)",
      "\u001b[1;32mC:\\ProgramData\\Anaconda3\\lib\\site-packages\\requests\\adapters.py\u001b[0m in \u001b[0;36msend\u001b[1;34m(self, request, stream, timeout, verify, cert, proxies)\u001b[0m\n\u001b[0;32m    488\u001b[0m             \u001b[1;32mif\u001b[0m \u001b[1;32mnot\u001b[0m \u001b[0mchunked\u001b[0m\u001b[1;33m:\u001b[0m\u001b[1;33m\u001b[0m\u001b[1;33m\u001b[0m\u001b[0m\n\u001b[1;32m--> 489\u001b[1;33m                 resp = conn.urlopen(\n\u001b[0m\u001b[0;32m    490\u001b[0m                     \u001b[0mmethod\u001b[0m\u001b[1;33m=\u001b[0m\u001b[0mrequest\u001b[0m\u001b[1;33m.\u001b[0m\u001b[0mmethod\u001b[0m\u001b[1;33m,\u001b[0m\u001b[1;33m\u001b[0m\u001b[1;33m\u001b[0m\u001b[0m\n",
      "\u001b[1;32mC:\\ProgramData\\Anaconda3\\lib\\site-packages\\urllib3\\connectionpool.py\u001b[0m in \u001b[0;36murlopen\u001b[1;34m(self, method, url, body, headers, retries, redirect, assert_same_host, timeout, pool_timeout, release_conn, chunked, body_pos, **response_kw)\u001b[0m\n\u001b[0;32m    786\u001b[0m \u001b[1;33m\u001b[0m\u001b[0m\n\u001b[1;32m--> 787\u001b[1;33m             retries = retries.increment(\n\u001b[0m\u001b[0;32m    788\u001b[0m                 \u001b[0mmethod\u001b[0m\u001b[1;33m,\u001b[0m \u001b[0murl\u001b[0m\u001b[1;33m,\u001b[0m \u001b[0merror\u001b[0m\u001b[1;33m=\u001b[0m\u001b[0me\u001b[0m\u001b[1;33m,\u001b[0m \u001b[0m_pool\u001b[0m\u001b[1;33m=\u001b[0m\u001b[0mself\u001b[0m\u001b[1;33m,\u001b[0m \u001b[0m_stacktrace\u001b[0m\u001b[1;33m=\u001b[0m\u001b[0msys\u001b[0m\u001b[1;33m.\u001b[0m\u001b[0mexc_info\u001b[0m\u001b[1;33m(\u001b[0m\u001b[1;33m)\u001b[0m\u001b[1;33m[\u001b[0m\u001b[1;36m2\u001b[0m\u001b[1;33m]\u001b[0m\u001b[1;33m\u001b[0m\u001b[1;33m\u001b[0m\u001b[0m\n",
      "\u001b[1;32mC:\\ProgramData\\Anaconda3\\lib\\site-packages\\urllib3\\util\\retry.py\u001b[0m in \u001b[0;36mincrement\u001b[1;34m(self, method, url, response, error, _pool, _stacktrace)\u001b[0m\n\u001b[0;32m    591\u001b[0m         \u001b[1;32mif\u001b[0m \u001b[0mnew_retry\u001b[0m\u001b[1;33m.\u001b[0m\u001b[0mis_exhausted\u001b[0m\u001b[1;33m(\u001b[0m\u001b[1;33m)\u001b[0m\u001b[1;33m:\u001b[0m\u001b[1;33m\u001b[0m\u001b[1;33m\u001b[0m\u001b[0m\n\u001b[1;32m--> 592\u001b[1;33m             \u001b[1;32mraise\u001b[0m \u001b[0mMaxRetryError\u001b[0m\u001b[1;33m(\u001b[0m\u001b[0m_pool\u001b[0m\u001b[1;33m,\u001b[0m \u001b[0murl\u001b[0m\u001b[1;33m,\u001b[0m \u001b[0merror\u001b[0m \u001b[1;32mor\u001b[0m \u001b[0mResponseError\u001b[0m\u001b[1;33m(\u001b[0m\u001b[0mcause\u001b[0m\u001b[1;33m)\u001b[0m\u001b[1;33m)\u001b[0m\u001b[1;33m\u001b[0m\u001b[1;33m\u001b[0m\u001b[0m\n\u001b[0m\u001b[0;32m    593\u001b[0m \u001b[1;33m\u001b[0m\u001b[0m\n",
      "\u001b[1;31mMaxRetryError\u001b[0m: HTTPSConnectionPool(host='indianrailapil.com', port=443): Max retries exceeded with url: /api/v2/TrainSchedule/apikey/30c382602bfa67c8a7c580e6cfe2becb/TrainNumber/12321 (Caused by NewConnectionError('<urllib3.connection.HTTPSConnection object at 0x000002069FA98430>: Failed to establish a new connection: [Errno 11001] getaddrinfo failed'))",
      "\nDuring handling of the above exception, another exception occurred:\n",
      "\u001b[1;31mConnectionError\u001b[0m                           Traceback (most recent call last)",
      "\u001b[1;32m~\\AppData\\Local\\Temp\\ipykernel_21176\\2893567191.py\u001b[0m in \u001b[0;36m<module>\u001b[1;34m\u001b[0m\n\u001b[0;32m     22\u001b[0m         \u001b[0mdata\u001b[0m\u001b[1;33m=\u001b[0m\u001b[0mdata\u001b[0m\u001b[1;33m.\u001b[0m\u001b[0mjson\u001b[0m\u001b[1;33m(\u001b[0m\u001b[1;33m)\u001b[0m\u001b[1;33m\u001b[0m\u001b[1;33m\u001b[0m\u001b[0m\n\u001b[0;32m     23\u001b[0m         \u001b[0mprint\u001b[0m\u001b[1;33m(\u001b[0m\u001b[0mdata\u001b[0m\u001b[1;33m)\u001b[0m\u001b[1;33m\u001b[0m\u001b[1;33m\u001b[0m\u001b[0m\n\u001b[1;32m---> 24\u001b[1;33m \u001b[0mobj\u001b[0m\u001b[1;33m=\u001b[0m\u001b[0mIRCTC\u001b[0m\u001b[1;33m(\u001b[0m\u001b[1;33m)\u001b[0m\u001b[1;33m\u001b[0m\u001b[1;33m\u001b[0m\u001b[0m\n\u001b[0m",
      "\u001b[1;32m~\\AppData\\Local\\Temp\\ipykernel_21176\\2893567191.py\u001b[0m in \u001b[0;36m__init__\u001b[1;34m(self)\u001b[0m\n\u001b[0;32m     12\u001b[0m             \u001b[0mprint\u001b[0m\u001b[1;33m(\u001b[0m\u001b[1;34m\"PNR Status\"\u001b[0m\u001b[1;33m)\u001b[0m\u001b[1;33m\u001b[0m\u001b[1;33m\u001b[0m\u001b[0m\n\u001b[0;32m     13\u001b[0m         \u001b[1;32melse\u001b[0m\u001b[1;33m:\u001b[0m\u001b[1;33m\u001b[0m\u001b[1;33m\u001b[0m\u001b[0m\n\u001b[1;32m---> 14\u001b[1;33m             \u001b[0mself\u001b[0m\u001b[1;33m.\u001b[0m\u001b[0mtrain_schedule\u001b[0m\u001b[1;33m(\u001b[0m\u001b[1;33m)\u001b[0m\u001b[1;33m\u001b[0m\u001b[1;33m\u001b[0m\u001b[0m\n\u001b[0m\u001b[0;32m     15\u001b[0m     \u001b[1;32mdef\u001b[0m \u001b[0mtrain_schedule\u001b[0m\u001b[1;33m(\u001b[0m\u001b[0mself\u001b[0m\u001b[1;33m)\u001b[0m\u001b[1;33m:\u001b[0m\u001b[1;33m\u001b[0m\u001b[1;33m\u001b[0m\u001b[0m\n\u001b[0;32m     16\u001b[0m         \u001b[0mtr\u001b[0m\u001b[1;33m=\u001b[0m\u001b[0minput\u001b[0m\u001b[1;33m(\u001b[0m\u001b[1;34m\"Enter train Numner: \"\u001b[0m\u001b[1;33m)\u001b[0m\u001b[1;33m\u001b[0m\u001b[1;33m\u001b[0m\u001b[0m\n",
      "\u001b[1;32m~\\AppData\\Local\\Temp\\ipykernel_21176\\2893567191.py\u001b[0m in \u001b[0;36mtrain_schedule\u001b[1;34m(self)\u001b[0m\n\u001b[0;32m     15\u001b[0m     \u001b[1;32mdef\u001b[0m \u001b[0mtrain_schedule\u001b[0m\u001b[1;33m(\u001b[0m\u001b[0mself\u001b[0m\u001b[1;33m)\u001b[0m\u001b[1;33m:\u001b[0m\u001b[1;33m\u001b[0m\u001b[1;33m\u001b[0m\u001b[0m\n\u001b[0;32m     16\u001b[0m         \u001b[0mtr\u001b[0m\u001b[1;33m=\u001b[0m\u001b[0minput\u001b[0m\u001b[1;33m(\u001b[0m\u001b[1;34m\"Enter train Numner: \"\u001b[0m\u001b[1;33m)\u001b[0m\u001b[1;33m\u001b[0m\u001b[1;33m\u001b[0m\u001b[0m\n\u001b[1;32m---> 17\u001b[1;33m         \u001b[0mself\u001b[0m\u001b[1;33m.\u001b[0m\u001b[0mfetch_data\u001b[0m\u001b[1;33m(\u001b[0m\u001b[0mtr\u001b[0m\u001b[1;33m)\u001b[0m\u001b[1;33m\u001b[0m\u001b[1;33m\u001b[0m\u001b[0m\n\u001b[0m\u001b[0;32m     18\u001b[0m \u001b[1;33m\u001b[0m\u001b[0m\n\u001b[0;32m     19\u001b[0m     \u001b[1;32mdef\u001b[0m \u001b[0mfetch_data\u001b[0m\u001b[1;33m(\u001b[0m\u001b[0mself\u001b[0m\u001b[1;33m,\u001b[0m\u001b[0mtr\u001b[0m\u001b[1;33m)\u001b[0m\u001b[1;33m:\u001b[0m\u001b[1;33m\u001b[0m\u001b[1;33m\u001b[0m\u001b[0m\n",
      "\u001b[1;32m~\\AppData\\Local\\Temp\\ipykernel_21176\\2893567191.py\u001b[0m in \u001b[0;36mfetch_data\u001b[1;34m(self, tr)\u001b[0m\n\u001b[0;32m     18\u001b[0m \u001b[1;33m\u001b[0m\u001b[0m\n\u001b[0;32m     19\u001b[0m     \u001b[1;32mdef\u001b[0m \u001b[0mfetch_data\u001b[0m\u001b[1;33m(\u001b[0m\u001b[0mself\u001b[0m\u001b[1;33m,\u001b[0m\u001b[0mtr\u001b[0m\u001b[1;33m)\u001b[0m\u001b[1;33m:\u001b[0m\u001b[1;33m\u001b[0m\u001b[1;33m\u001b[0m\u001b[0m\n\u001b[1;32m---> 20\u001b[1;33m         \u001b[0mdata\u001b[0m \u001b[1;33m=\u001b[0m \u001b[0mrequests\u001b[0m\u001b[1;33m.\u001b[0m\u001b[0mget\u001b[0m\u001b[1;33m(\u001b[0m\u001b[1;34m\"https://indianrailapil.com/api/v2/TrainSchedule/apikey/30c382602bfa67c8a7c580e6cfe2becb/TrainNumber/{}\"\u001b[0m\u001b[1;33m.\u001b[0m\u001b[0mformat\u001b[0m\u001b[1;33m(\u001b[0m\u001b[0mtr\u001b[0m\u001b[1;33m)\u001b[0m\u001b[1;33m)\u001b[0m\u001b[1;33m\u001b[0m\u001b[1;33m\u001b[0m\u001b[0m\n\u001b[0m\u001b[0;32m     21\u001b[0m \u001b[1;33m\u001b[0m\u001b[0m\n\u001b[0;32m     22\u001b[0m         \u001b[0mdata\u001b[0m\u001b[1;33m=\u001b[0m\u001b[0mdata\u001b[0m\u001b[1;33m.\u001b[0m\u001b[0mjson\u001b[0m\u001b[1;33m(\u001b[0m\u001b[1;33m)\u001b[0m\u001b[1;33m\u001b[0m\u001b[1;33m\u001b[0m\u001b[0m\n",
      "\u001b[1;32mC:\\ProgramData\\Anaconda3\\lib\\site-packages\\requests\\api.py\u001b[0m in \u001b[0;36mget\u001b[1;34m(url, params, **kwargs)\u001b[0m\n\u001b[0;32m     71\u001b[0m     \"\"\"\n\u001b[0;32m     72\u001b[0m \u001b[1;33m\u001b[0m\u001b[0m\n\u001b[1;32m---> 73\u001b[1;33m     \u001b[1;32mreturn\u001b[0m \u001b[0mrequest\u001b[0m\u001b[1;33m(\u001b[0m\u001b[1;34m\"get\"\u001b[0m\u001b[1;33m,\u001b[0m \u001b[0murl\u001b[0m\u001b[1;33m,\u001b[0m \u001b[0mparams\u001b[0m\u001b[1;33m=\u001b[0m\u001b[0mparams\u001b[0m\u001b[1;33m,\u001b[0m \u001b[1;33m**\u001b[0m\u001b[0mkwargs\u001b[0m\u001b[1;33m)\u001b[0m\u001b[1;33m\u001b[0m\u001b[1;33m\u001b[0m\u001b[0m\n\u001b[0m\u001b[0;32m     74\u001b[0m \u001b[1;33m\u001b[0m\u001b[0m\n\u001b[0;32m     75\u001b[0m \u001b[1;33m\u001b[0m\u001b[0m\n",
      "\u001b[1;32mC:\\ProgramData\\Anaconda3\\lib\\site-packages\\requests\\api.py\u001b[0m in \u001b[0;36mrequest\u001b[1;34m(method, url, **kwargs)\u001b[0m\n\u001b[0;32m     57\u001b[0m     \u001b[1;31m# cases, and look like a memory leak in others.\u001b[0m\u001b[1;33m\u001b[0m\u001b[1;33m\u001b[0m\u001b[0m\n\u001b[0;32m     58\u001b[0m     \u001b[1;32mwith\u001b[0m \u001b[0msessions\u001b[0m\u001b[1;33m.\u001b[0m\u001b[0mSession\u001b[0m\u001b[1;33m(\u001b[0m\u001b[1;33m)\u001b[0m \u001b[1;32mas\u001b[0m \u001b[0msession\u001b[0m\u001b[1;33m:\u001b[0m\u001b[1;33m\u001b[0m\u001b[1;33m\u001b[0m\u001b[0m\n\u001b[1;32m---> 59\u001b[1;33m         \u001b[1;32mreturn\u001b[0m \u001b[0msession\u001b[0m\u001b[1;33m.\u001b[0m\u001b[0mrequest\u001b[0m\u001b[1;33m(\u001b[0m\u001b[0mmethod\u001b[0m\u001b[1;33m=\u001b[0m\u001b[0mmethod\u001b[0m\u001b[1;33m,\u001b[0m \u001b[0murl\u001b[0m\u001b[1;33m=\u001b[0m\u001b[0murl\u001b[0m\u001b[1;33m,\u001b[0m \u001b[1;33m**\u001b[0m\u001b[0mkwargs\u001b[0m\u001b[1;33m)\u001b[0m\u001b[1;33m\u001b[0m\u001b[1;33m\u001b[0m\u001b[0m\n\u001b[0m\u001b[0;32m     60\u001b[0m \u001b[1;33m\u001b[0m\u001b[0m\n\u001b[0;32m     61\u001b[0m \u001b[1;33m\u001b[0m\u001b[0m\n",
      "\u001b[1;32mC:\\ProgramData\\Anaconda3\\lib\\site-packages\\requests\\sessions.py\u001b[0m in \u001b[0;36mrequest\u001b[1;34m(self, method, url, params, data, headers, cookies, files, auth, timeout, allow_redirects, proxies, hooks, stream, verify, cert, json)\u001b[0m\n\u001b[0;32m    585\u001b[0m         }\n\u001b[0;32m    586\u001b[0m         \u001b[0msend_kwargs\u001b[0m\u001b[1;33m.\u001b[0m\u001b[0mupdate\u001b[0m\u001b[1;33m(\u001b[0m\u001b[0msettings\u001b[0m\u001b[1;33m)\u001b[0m\u001b[1;33m\u001b[0m\u001b[1;33m\u001b[0m\u001b[0m\n\u001b[1;32m--> 587\u001b[1;33m         \u001b[0mresp\u001b[0m \u001b[1;33m=\u001b[0m \u001b[0mself\u001b[0m\u001b[1;33m.\u001b[0m\u001b[0msend\u001b[0m\u001b[1;33m(\u001b[0m\u001b[0mprep\u001b[0m\u001b[1;33m,\u001b[0m \u001b[1;33m**\u001b[0m\u001b[0msend_kwargs\u001b[0m\u001b[1;33m)\u001b[0m\u001b[1;33m\u001b[0m\u001b[1;33m\u001b[0m\u001b[0m\n\u001b[0m\u001b[0;32m    588\u001b[0m \u001b[1;33m\u001b[0m\u001b[0m\n\u001b[0;32m    589\u001b[0m         \u001b[1;32mreturn\u001b[0m \u001b[0mresp\u001b[0m\u001b[1;33m\u001b[0m\u001b[1;33m\u001b[0m\u001b[0m\n",
      "\u001b[1;32mC:\\ProgramData\\Anaconda3\\lib\\site-packages\\requests\\sessions.py\u001b[0m in \u001b[0;36msend\u001b[1;34m(self, request, **kwargs)\u001b[0m\n\u001b[0;32m    699\u001b[0m \u001b[1;33m\u001b[0m\u001b[0m\n\u001b[0;32m    700\u001b[0m         \u001b[1;31m# Send the request\u001b[0m\u001b[1;33m\u001b[0m\u001b[1;33m\u001b[0m\u001b[0m\n\u001b[1;32m--> 701\u001b[1;33m         \u001b[0mr\u001b[0m \u001b[1;33m=\u001b[0m \u001b[0madapter\u001b[0m\u001b[1;33m.\u001b[0m\u001b[0msend\u001b[0m\u001b[1;33m(\u001b[0m\u001b[0mrequest\u001b[0m\u001b[1;33m,\u001b[0m \u001b[1;33m**\u001b[0m\u001b[0mkwargs\u001b[0m\u001b[1;33m)\u001b[0m\u001b[1;33m\u001b[0m\u001b[1;33m\u001b[0m\u001b[0m\n\u001b[0m\u001b[0;32m    702\u001b[0m \u001b[1;33m\u001b[0m\u001b[0m\n\u001b[0;32m    703\u001b[0m         \u001b[1;31m# Total elapsed time of the request (approximately)\u001b[0m\u001b[1;33m\u001b[0m\u001b[1;33m\u001b[0m\u001b[0m\n",
      "\u001b[1;32mC:\\ProgramData\\Anaconda3\\lib\\site-packages\\requests\\adapters.py\u001b[0m in \u001b[0;36msend\u001b[1;34m(self, request, stream, timeout, verify, cert, proxies)\u001b[0m\n\u001b[0;32m    563\u001b[0m                 \u001b[1;32mraise\u001b[0m \u001b[0mSSLError\u001b[0m\u001b[1;33m(\u001b[0m\u001b[0me\u001b[0m\u001b[1;33m,\u001b[0m \u001b[0mrequest\u001b[0m\u001b[1;33m=\u001b[0m\u001b[0mrequest\u001b[0m\u001b[1;33m)\u001b[0m\u001b[1;33m\u001b[0m\u001b[1;33m\u001b[0m\u001b[0m\n\u001b[0;32m    564\u001b[0m \u001b[1;33m\u001b[0m\u001b[0m\n\u001b[1;32m--> 565\u001b[1;33m             \u001b[1;32mraise\u001b[0m \u001b[0mConnectionError\u001b[0m\u001b[1;33m(\u001b[0m\u001b[0me\u001b[0m\u001b[1;33m,\u001b[0m \u001b[0mrequest\u001b[0m\u001b[1;33m=\u001b[0m\u001b[0mrequest\u001b[0m\u001b[1;33m)\u001b[0m\u001b[1;33m\u001b[0m\u001b[1;33m\u001b[0m\u001b[0m\n\u001b[0m\u001b[0;32m    566\u001b[0m \u001b[1;33m\u001b[0m\u001b[0m\n\u001b[0;32m    567\u001b[0m         \u001b[1;32mexcept\u001b[0m \u001b[0mClosedPoolError\u001b[0m \u001b[1;32mas\u001b[0m \u001b[0me\u001b[0m\u001b[1;33m:\u001b[0m\u001b[1;33m\u001b[0m\u001b[1;33m\u001b[0m\u001b[0m\n",
      "\u001b[1;31mConnectionError\u001b[0m: HTTPSConnectionPool(host='indianrailapil.com', port=443): Max retries exceeded with url: /api/v2/TrainSchedule/apikey/30c382602bfa67c8a7c580e6cfe2becb/TrainNumber/12321 (Caused by NewConnectionError('<urllib3.connection.HTTPSConnection object at 0x000002069FA98430>: Failed to establish a new connection: [Errno 11001] getaddrinfo failed'))"
     ]
    }
   ],
   "source": [
    "import requests\n",
    "class IRCTC:\n",
    "    def __init__(self):\n",
    "        user=input(\"\"\"Hello, How would you like to Proceed?\n",
    "        1. Enter 1 for Live Train Status\n",
    "        2. Enter 2 to check PNR Status\n",
    "        3. Enter 3 to check train schedule\"\"\")\n",
    "        \n",
    "        if user==\"1\":\n",
    "            print(\"Live Train Status\")\n",
    "        elif user==\"2\":\n",
    "            print(\"PNR Status\")\n",
    "        else:\n",
    "            self.train_schedule()\n",
    "    def train_schedule(self):\n",
    "        tr=input(\"Enter train Numner: \")\n",
    "        self.fetch_data(tr)\n",
    "    \n",
    "    def fetch_data(self,tr):\n",
    "        data = requests.get(\"https://indianrailapil.com/api/v2/TrainSchedule/apikey/30c382602bfa67c8a7c580e6cfe2becb/TrainNumber/{}\".format(tr))\n",
    "        \n",
    "        data=data.json()\n",
    "        print(data)\n",
    "obj=IRCTC()\n"
   ]
  },
  {
   "cell_type": "code",
   "execution_count": null,
   "id": "4cc5205b",
   "metadata": {},
   "outputs": [],
   "source": []
  }
 ],
 "metadata": {
  "kernelspec": {
   "display_name": "Python 3 (ipykernel)",
   "language": "python",
   "name": "python3"
  },
  "language_info": {
   "codemirror_mode": {
    "name": "ipython",
    "version": 3
   },
   "file_extension": ".py",
   "mimetype": "text/x-python",
   "name": "python",
   "nbconvert_exporter": "python",
   "pygments_lexer": "ipython3",
   "version": "3.9.13"
  }
 },
 "nbformat": 4,
 "nbformat_minor": 5
}
