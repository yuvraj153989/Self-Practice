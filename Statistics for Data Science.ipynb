{
 "cells": [
  {
   "cell_type": "markdown",
   "id": "42f20f14",
   "metadata": {},
   "source": [
    "# **Statistics for Data Science/Python**"
   ]
  },
  {
   "cell_type": "markdown",
   "id": "d9126d7c",
   "metadata": {},
   "source": [
    "**Hi there, we are going to learn each and every concept based on Statistics of Data Science and python**\n",
    "\n",
    "we'll cover 2 major topics:\n",
    "\n",
    "\n",
    "Descriptive Statistics: Summarizing data concepts, central tendency, mean, median, mode, variance, sd, histogram, \n",
    "pdf,cdf,probabilty, permutation,gaussian distri, bernoulli, binomial, lognormal, pareto distri, boxplot\n",
    "standard normal(transformation/standardization), q-q plot etc\n",
    "\n",
    "\n",
    "Inferential Stats: Revolves around testing for finalizing conclusions, z-test, anova test, hypothesis test(p-values), chi-square test,\n",
    "confidence intervals"
   ]
  },
  {
   "cell_type": "markdown",
   "id": "41d6c7a0",
   "metadata": {},
   "source": [
    "**What is Statistics?**\n",
    "\n",
    "It is a science of collecting, organizing, and analyzing data (for better decision making)\n",
    "Data is facts, pieces of information that can be measured\n",
    "\n",
    "\n",
    "for ex IQ of class: [97,99,102,84,69]\n",
    "\n",
    "What is descriptive stats?\n",
    "summarizing the data\n",
    "find avg,max,min,mode,variance,sd, %age, %ile etc\n",
    "this is a part of descriptive stats\n",
    "\n",
    "So what is inferential stats?\n",
    "technique where we used the data that we have measured to form conclusions\n",
    "Are the iq of this class similar to iq of whole college?"
   ]
  },
  {
   "cell_type": "markdown",
   "id": "b71048ef",
   "metadata": {},
   "source": [
    "# Entering Descriptive Statistics"
   ]
  },
  {
   "cell_type": "markdown",
   "id": "51c58116",
   "metadata": {},
   "source": [
    "**Population vs Samples**\n",
    "\n",
    "for ex: Elections->Goa,UP\n",
    "It is not possible to go to all people and ask about whom did they vote?\n",
    "population data -> full pup. of UP,\n",
    "sample -> small part of goa, for ex: Lucknow\n",
    "\n",
    "This sampling techniques are also selected from various methods, there are many sampling techniques:\n",
    "\n",
    "1) Simple random sampling: randomly select some amount of people(every input has equal chance of selection)\n",
    "\n",
    "2) Stratified Sampling: where the pop. split into non-overlapping group, for ex: sample in 0-10,10-20,20-30,30-40 \n",
    "        age group, in this there is no overlapping at all, for ex: Doctor, Engineers, Government services etc.\n",
    "        \n",
    "3) Systematic sampling: picking up nth sample, for example from total 1000 people, i pick every 10th input for sample.\n",
    "\n",
    "4) Convenience Sampling: only domain expertised are picked as samples, for ex: for Data science test, i'm, picking \n",
    "        those who has expertise on DS."
   ]
  },
  {
   "cell_type": "markdown",
   "id": "0ae691f2",
   "metadata": {},
   "source": [
    "**What are Variables?**\n",
    "\n",
    "this is a property which take any value, for example height,weight etc\n",
    "\n",
    "there are two types: Quantitative and Qualitative\n",
    "\n",
    "***Quantitative***: that can be measured, add/subtract/multiply/divide etc(age,height,weight), it has two types:\n",
    "\n",
    "***1) Discrete variables***: will have a whole numbers, bank account, how many? we have 2 bank account, 3 childrens (not 2.5 childrens)\n",
    "\n",
    "***2) Continous variables***: will have continous values, like age,price,sales  \n",
    "\n",
    "***Qualitative***: categorizes, for ex gender, domain, IQ=[0-10,10-20,20-50], blood group, tshirt size etc\n",
    "\n",
    "\n",
    "Tricky question?\n",
    "what variable is PIN code? Quant discrete or Qual category? will see it"
   ]
  },
  {
   "cell_type": "markdown",
   "id": "eb5f8126",
   "metadata": {},
   "source": [
    "**Variable Measurements, and types to measure**,\n",
    "\n",
    "Nominal: Categorical(colors, gender, type of flower etc)\n",
    "\n",
    "Ordinal: Order of data matters, but value does not, ranks data asc/desc\n",
    "    \n",
    "Interval: both order and value matters here"
   ]
  },
  {
   "cell_type": "markdown",
   "id": "07eba374",
   "metadata": {},
   "source": [
    "**Frequency Distribution**\n",
    "\n",
    "How is frequency in dataset distributed?\n",
    "\n",
    "**FOR EX** \n",
    "\n",
    "data=lilly,rose,rose,sunfower,lilly,mogra,sunflower,rose\n",
    "\n",
    "FLOWER          FREQUENCY      CUMULATIVE FREQ\n",
    "\n",
    "lilly           2              2\n",
    "\n",
    "rose            3              5\n",
    "\n",
    "sunflower       2              7\n",
    "\n",
    "mogra           1              8\n",
    "\n",
    "We can derive bar chart/pie chartetc\n",
    "\n",
    "in the case of discrete variables we can draw bar chart\n",
    "\n",
    "\n",
    "**FOR EX**\n",
    "\n",
    "age=[10,12,12,13,15,16,19,20,22,20,21,54,32]\n",
    "here we make some 'bins' markdown of x axis, bins=10, it'll start from 1-10,10-20,20-30....90-100\n",
    "\n",
    "inorder to this, we'll create building which is called Histogram and this is for continous\n",
    "\n",
    "\n",
    "\n",
    "\n",
    "**And What is PDF(Probability Distribution Function)?**\n",
    "\n",
    "Smoothening of Histogram, curve lines will be created using kde (kernel density estimator)"
   ]
  },
  {
   "cell_type": "markdown",
   "id": "714cd808",
   "metadata": {},
   "source": [
    "**Measure of Central Tendency (Mean Median Mode)**\n",
    "\n",
    "-> measures use to determine the centre part of data/distribution\n",
    "\n",
    "**mean: avg**\n",
    "\n",
    "mean(Population(N)): X(N)\n",
    "\n",
    "mean(sample(n)): Xbar(n)\n",
    "\n",
    "for ex: 1,1,2,2,3,3,4,5,5,6\n",
    "\n",
    "mean=3.2\n",
    "\n",
    "let's add 100,\n",
    "\n",
    "mean=12...there is huge difference we can see, because of number 100, so this is an outlier\n",
    "\n",
    "for fixing this issue, what we consider?\n",
    "\n",
    "**MEDIAN**\n",
    "\n",
    "1,1,2,2,3,3,4,5,5,6,100\n",
    "\n",
    "sorts data in asc, and pick the central point element, here is 3, outlier fixed!\n",
    "\n",
    "therefore, medians works well with outliers\n",
    "\n",
    "\n",
    "**MODE**\n",
    "\n",
    "most frequent element, but what if 100(outlier) repeats for max times, then it'll be a central point(disadvantage)\n",
    "\n",
    "Where do we use Mode?\n",
    "\n",
    "Missing categorical value can be fixed using it, we can replace mode on the row where categ. data is missing"
   ]
  },
  {
   "cell_type": "markdown",
   "id": "01120fdc",
   "metadata": {},
   "source": [
    "**MEASURES OF DISPERSIONS**\n",
    "\n",
    "how well spread the data is? how to differ data sets?\n",
    "\n",
    "**1) Variance**\n",
    "\n",
    "population variance: sigma^2=(xi-pop mean)^2/N\n",
    "\n",
    "sample variance: s^2=(xi-mean)^2/N-1\n",
    "\n",
    "\n",
    "**2) Standard Dev**: root(var), it is a step of STANDARD DEV\n",
    "\n",
    "\n",
    "Variance signifies, how data is spreaded?\n",
    "\n",
    "STDev signifies, what range of data is falling in different steps of variance value, using Bell curve"
   ]
  },
  {
   "cell_type": "markdown",
   "id": "22121aff",
   "metadata": {},
   "source": [
    "**HOW DO WE FIND OUTLIERS?**\n",
    "\n",
    "**1) PERCENTAGE**: simple percentage\n",
    "\n",
    "**2) PERCENTILE**: it's a value, below which a certain percentage of observation lies\n",
    "\n",
    "for ex: 2,2,3,4,5,5,5,6,7,8,8,8,8,8,9,9,10,11,11,12\n",
    "\n",
    "what is the percentile of 10?:\n",
    "\n",
    "x=10: (number of values below x/N)*100\n",
    "\n",
    "=80 %ile  (80% of the data elements are less than 10)\n",
    "\n",
    "x=11, =85%ile\n",
    "\n",
    "Q) what value exist at 25%ile ranking?\n",
    "\n",
    "index(value)=%ile*(N+1)/100\n",
    "\n",
    "=5.25 (index value, position, we have to take avg of 5th and 6th element which is 5)\n",
    "\n",
    "so, 5 is the 25 %ile value"
   ]
  },
  {
   "cell_type": "markdown",
   "id": "b5a686bf",
   "metadata": {},
   "source": [
    "**Five Number Summary using Quantiles (min,max,q1,q3,median)**\n",
    "\n",
    "Removing Outliers\n",
    "\n",
    "data=1,2,2,2,3,-5,3,4,5,5,5,6,6,6,6,7,8,8,9,14,27  #what will be outlier? =27\n",
    "\n",
    "[lower fence <-------> higher fence]\n",
    "\n",
    "every value b/w these fence is normal, else everyone is outlier\n",
    "\n",
    "lower = q1 - 1.5 * (IQR)\n",
    "higher = q3 + 1.5 * (IQR)\n",
    "\n",
    "IQR = q3 - q1\n",
    "\n",
    "q1=25 %itle of data point\n",
    "\n",
    "q3=75 %ile of data point\n",
    "\n",
    "\n",
    "from above data, IQR=4, q1=3, q3=7 and lower=-3 and higher=13\n",
    "\n",
    "So outliers from above list is -5,14,27\n",
    "\n",
    "after removing outliers,\n",
    "\n",
    "data=1,2,2,2,3,3,4,5,5,5,6,6,6,6,7,8,8,9\n",
    "\n",
    "out of these, \n",
    "\n",
    "min=1,\n",
    "q1=3,\n",
    "median=5,\n",
    "q3=7,\n",
    "max=9\n",
    "\n",
    "so using this data, we can draw Boxplot\n",
    "\n",
    "\n",
    "\n",
    "                            ---|-----|-----|-----|-----|-----|-----|-----|-------\n",
    "                              -2     0     2     4     6     8     10\n",
    "                            \n",
    "                            \n",
    "mark min, q1,median,q3,max values on above line the main Boxplot box contains q1,median,q3, while end lines has min/max"
   ]
  },
  {
   "cell_type": "code",
   "execution_count": 6,
   "id": "f124ce34",
   "metadata": {},
   "outputs": [
    {
     "name": "stderr",
     "output_type": "stream",
     "text": [
      "C:\\Users\\KIIT\\AppData\\Roaming\\Python\\Python39\\site-packages\\seaborn\\_decorators.py:36: FutureWarning: Pass the following variable as a keyword arg: x. From version 0.12, the only valid positional argument will be `data`, and passing other arguments without an explicit keyword will result in an error or misinterpretation.\n",
      "  warnings.warn(\n"
     ]
    },
    {
     "data": {
      "text/plain": [
       "<AxesSubplot:>"
      ]
     },
     "execution_count": 6,
     "metadata": {},
     "output_type": "execute_result"
    },
    {
     "data": {
      "image/png": "[encoded data removed]",
      "text/plain": [
       "<Figure size 640x480 with 1 Axes>"
      ]
     },
     "metadata": {},
     "output_type": "display_data"
    }
   ],
   "source": [
    "import matplotlib.pyplot as plt\n",
    "import seaborn as sns\n",
    "data=[1,2,2,2,3,3,4,5,5,5,6,6,6,6,7,8,8,9]\n",
    "sns.boxplot(data)\n",
    "\n",
    "# below marking is for all 5 numbers"
   ]
  },
  {
   "cell_type": "markdown",
   "id": "1b1bfc4c",
   "metadata": {},
   "source": [
    "**ADVANCE STATISTICS (Distributions)**\n",
    "\n",
    "What is distributions?\n",
    "\n",
    "How is our data visualised? we can use various graphs\n",
    "\n",
    "**1) Gaussian/Normal Distributions**: When a graph and kde plot distributed in such a way that it created Bell curve where if we create a line b/w plot, it'll visualised symmetrically. In this mean=median=mode, we can conclude:\n",
    "\n",
    "***Empirical Formula***: 68-95-99.7 % rule: 68% of data is present b/w center and +1/-1 steps(1st standard deviation), +2/-2 steps contains 95% data(2nd SD), +3/-3 99.7 % of data is present(3rd SD). Ex: height, weight, IRIS dataset follows this distribution.\n",
    "\n",
    "\n",
    "Suppose mean=4, SD=1, so 1st SD=5,-1st SD=3,2nd SD=6...\n",
    "\n",
    "what is 4.75? it is 0.75 SD, but this is not easy to visualise and find over graph, for this we have another concept called ***Z-Score=(Xi-mean)/SD***   Xi is asked input\n",
    "\n",
    "Z-Score for above one, (4.75-4)/1=0.75, therefore 4.75 is 0.75 SD to the right(it is +ve value)\n",
    "\n",
    "\n",
    "Lets say we have data=1,2,3,4,5,6,7\n",
    "\n",
    "lets apply ***Z-Score on this, we get -> -3,-2,-1,0,1,2,3*** #this kind of distrbution is called **Standard normal distribution**\n",
    "\n",
    "In this Distribution, mean is always=0, SD=1\n",
    "\n",
    "***What is the practical use of this?***\n",
    "lets say we are solving ML problem having data with columns: Age,Salary,Weight(units are different),\n",
    "our goal is to standardize data in same range, by reducing mean=0, SD=1.\n",
    "This process is called **Standardization**\n",
    "\n",
    "\n",
    "So what is **Normalization?**\n",
    "\n",
    "It can range all data between specific limits (-1,+1),(0-1), we can do this MinMax Scaler. Where do we do Normaliztion? In Deep learning CNN, Image classification, we have to convert images frame pixels (0-255) to 0-1, here we dont use MinMax, we divide every frames pixels with 255(another type of Normalization)"
   ]
  },
  {
   "cell_type": "markdown",
   "id": "e0e8378c",
   "metadata": {},
   "source": [
    "**Lets go with an example of Cricket**\n",
    "\n",
    "**2021** RSA vs India Series,\n",
    "\n",
    "Series avg score: 250, SD=10, Team India final Score of series=240\n",
    "\n",
    "**2020** RSA vs India\n",
    "avg score: 260, SD=12, Team India final Score of series=245,\n",
    "\n",
    "Now compare and tell, in which series Team India scored max runs?\n",
    "\n",
    "Lets apply Z-Score(2021)\n",
    "\n",
    "(240-250)/10 = -1\n",
    "\n",
    "for 2020,\n",
    "(245-260)/12 = -1.25\n",
    "\n",
    "\n",
    "So from above example, we can say that India scored more runs in 2020, because -1.25 SD shift will create more area on bell curve"
   ]
  },
  {
   "cell_type": "markdown",
   "id": "070f1de5",
   "metadata": {},
   "source": [
    "**Another Example, an Interview question**\n",
    "\n",
    "Suppose marks data, 1,2,3,4,5,6,7, mean=4, SD=1\n",
    "\n",
    "tell me what %age of score fall above 4.25(use Z-score)\n",
    "\n",
    "Z-score is 0.25, look at Left Z-Table, and search for Non shaded area(which is not told to find), and subtract it from 1\n",
    "\n",
    "checking Z Table, I'm geting it as 0.5987\n",
    "\n",
    "so how much %age scored good?-> 1-0.5987=**40%**\n",
    "\n",
    "\n",
    "\n",
    "\n",
    "\n",
    "\n",
    "**Solve by Yourself**: In India, avg IQ is 100, SD=15, find %age population avg IQ<85?\n",
    "\n",
    "Z-Score=(85-100)/15=-1, 84 to whole left part is needed to be calculated, we find Non shaded area=0.8414, final answer=1-0.84=**16%**"
   ]
  },
  {
   "cell_type": "code",
   "execution_count": 9,
   "id": "40505ab2",
   "metadata": {},
   "outputs": [
    {
     "data": {
      "text/html": [
       "<div>\n",
       "<style scoped>\n",
       "    .dataframe tbody tr th:only-of-type {\n",
       "        vertical-align: middle;\n",
       "    }\n",
       "\n",
       "    .dataframe tbody tr th {\n",
       "        vertical-align: top;\n",
       "    }\n",
       "\n",
       "    .dataframe thead th {\n",
       "        text-align: right;\n",
       "    }\n",
       "</style>\n",
       "<table border=\"1\" class=\"dataframe\">\n",
       "  <thead>\n",
       "    <tr style=\"text-align: right;\">\n",
       "      <th></th>\n",
       "      <th>total_bill</th>\n",
       "      <th>tip</th>\n",
       "      <th>sex</th>\n",
       "      <th>smoker</th>\n",
       "      <th>day</th>\n",
       "      <th>time</th>\n",
       "      <th>size</th>\n",
       "    </tr>\n",
       "  </thead>\n",
       "  <tbody>\n",
       "    <tr>\n",
       "      <th>0</th>\n",
       "      <td>16.99</td>\n",
       "      <td>1.01</td>\n",
       "      <td>Female</td>\n",
       "      <td>No</td>\n",
       "      <td>Sun</td>\n",
       "      <td>Dinner</td>\n",
       "      <td>2</td>\n",
       "    </tr>\n",
       "    <tr>\n",
       "      <th>1</th>\n",
       "      <td>10.34</td>\n",
       "      <td>1.66</td>\n",
       "      <td>Male</td>\n",
       "      <td>No</td>\n",
       "      <td>Sun</td>\n",
       "      <td>Dinner</td>\n",
       "      <td>3</td>\n",
       "    </tr>\n",
       "    <tr>\n",
       "      <th>2</th>\n",
       "      <td>21.01</td>\n",
       "      <td>3.50</td>\n",
       "      <td>Male</td>\n",
       "      <td>No</td>\n",
       "      <td>Sun</td>\n",
       "      <td>Dinner</td>\n",
       "      <td>3</td>\n",
       "    </tr>\n",
       "    <tr>\n",
       "      <th>3</th>\n",
       "      <td>23.68</td>\n",
       "      <td>3.31</td>\n",
       "      <td>Male</td>\n",
       "      <td>No</td>\n",
       "      <td>Sun</td>\n",
       "      <td>Dinner</td>\n",
       "      <td>2</td>\n",
       "    </tr>\n",
       "    <tr>\n",
       "      <th>4</th>\n",
       "      <td>24.59</td>\n",
       "      <td>3.61</td>\n",
       "      <td>Female</td>\n",
       "      <td>No</td>\n",
       "      <td>Sun</td>\n",
       "      <td>Dinner</td>\n",
       "      <td>4</td>\n",
       "    </tr>\n",
       "  </tbody>\n",
       "</table>\n",
       "</div>"
      ],
      "text/plain": [
       "   total_bill   tip     sex smoker  day    time  size\n",
       "0       16.99  1.01  Female     No  Sun  Dinner     2\n",
       "1       10.34  1.66    Male     No  Sun  Dinner     3\n",
       "2       21.01  3.50    Male     No  Sun  Dinner     3\n",
       "3       23.68  3.31    Male     No  Sun  Dinner     2\n",
       "4       24.59  3.61  Female     No  Sun  Dinner     4"
      ]
     },
     "execution_count": 9,
     "metadata": {},
     "output_type": "execute_result"
    }
   ],
   "source": [
    "import numpy as np\n",
    "import statistics\n",
    "df=sns.load_dataset('tips')\n",
    "df.head()"
   ]
  },
  {
   "cell_type": "code",
   "execution_count": 13,
   "id": "2acb4a72",
   "metadata": {},
   "outputs": [
    {
     "name": "stdout",
     "output_type": "stream",
     "text": [
      "19.785942622950824\n",
      "17.795\n"
     ]
    }
   ],
   "source": [
    "print(np.mean(df['total_bill']))\n",
    "print(np.median(df['total_bill']))"
   ]
  },
  {
   "cell_type": "code",
   "execution_count": 14,
   "id": "4878e62d",
   "metadata": {},
   "outputs": [
    {
     "data": {
      "text/plain": [
       "13.42"
      ]
     },
     "execution_count": 14,
     "metadata": {},
     "output_type": "execute_result"
    }
   ],
   "source": [
    "statistics.mode(df['total_bill'])  #mode"
   ]
  },
  {
   "cell_type": "code",
   "execution_count": 17,
   "id": "1d6e7900",
   "metadata": {},
   "outputs": [
    {
     "name": "stderr",
     "output_type": "stream",
     "text": [
      "C:\\Users\\KIIT\\AppData\\Roaming\\Python\\Python39\\site-packages\\seaborn\\_decorators.py:36: FutureWarning: Pass the following variable as a keyword arg: x. From version 0.12, the only valid positional argument will be `data`, and passing other arguments without an explicit keyword will result in an error or misinterpretation.\n",
      "  warnings.warn(\n"
     ]
    },
    {
     "data": {
      "image/png": "[encoded data removed]",
      "text/plain": [
       "<Figure size 640x480 with 1 Axes>"
      ]
     },
     "metadata": {},
     "output_type": "display_data"
    }
   ],
   "source": [
    "sns.boxplot(df['total_bill'])\n",
    "plt.show()\n",
    "#small dots are Outliers"
   ]
  },
  {
   "cell_type": "code",
   "execution_count": 18,
   "id": "7256906b",
   "metadata": {},
   "outputs": [
    {
     "data": {
      "image/png": "[encoded data removed]",
      "text/plain": [
       "<Figure size 640x480 with 1 Axes>"
      ]
     },
     "metadata": {},
     "output_type": "display_data"
    }
   ],
   "source": [
    "sns.histplot(df.total_bill,kde=True)\n",
    "plt.show()\n",
    "\n",
    "#here it is left skewed, not normal distribution"
   ]
  },
  {
   "cell_type": "code",
   "execution_count": 19,
   "id": "a92358ac",
   "metadata": {},
   "outputs": [
    {
     "data": {
      "text/html": [
       "<div>\n",
       "<style scoped>\n",
       "    .dataframe tbody tr th:only-of-type {\n",
       "        vertical-align: middle;\n",
       "    }\n",
       "\n",
       "    .dataframe tbody tr th {\n",
       "        vertical-align: top;\n",
       "    }\n",
       "\n",
       "    .dataframe thead th {\n",
       "        text-align: right;\n",
       "    }\n",
       "</style>\n",
       "<table border=\"1\" class=\"dataframe\">\n",
       "  <thead>\n",
       "    <tr style=\"text-align: right;\">\n",
       "      <th></th>\n",
       "      <th>sepal_length</th>\n",
       "      <th>sepal_width</th>\n",
       "      <th>petal_length</th>\n",
       "      <th>petal_width</th>\n",
       "      <th>species</th>\n",
       "    </tr>\n",
       "  </thead>\n",
       "  <tbody>\n",
       "    <tr>\n",
       "      <th>0</th>\n",
       "      <td>5.1</td>\n",
       "      <td>3.5</td>\n",
       "      <td>1.4</td>\n",
       "      <td>0.2</td>\n",
       "      <td>setosa</td>\n",
       "    </tr>\n",
       "    <tr>\n",
       "      <th>1</th>\n",
       "      <td>4.9</td>\n",
       "      <td>3.0</td>\n",
       "      <td>1.4</td>\n",
       "      <td>0.2</td>\n",
       "      <td>setosa</td>\n",
       "    </tr>\n",
       "    <tr>\n",
       "      <th>2</th>\n",
       "      <td>4.7</td>\n",
       "      <td>3.2</td>\n",
       "      <td>1.3</td>\n",
       "      <td>0.2</td>\n",
       "      <td>setosa</td>\n",
       "    </tr>\n",
       "    <tr>\n",
       "      <th>3</th>\n",
       "      <td>4.6</td>\n",
       "      <td>3.1</td>\n",
       "      <td>1.5</td>\n",
       "      <td>0.2</td>\n",
       "      <td>setosa</td>\n",
       "    </tr>\n",
       "    <tr>\n",
       "      <th>4</th>\n",
       "      <td>5.0</td>\n",
       "      <td>3.6</td>\n",
       "      <td>1.4</td>\n",
       "      <td>0.2</td>\n",
       "      <td>setosa</td>\n",
       "    </tr>\n",
       "  </tbody>\n",
       "</table>\n",
       "</div>"
      ],
      "text/plain": [
       "   sepal_length  sepal_width  petal_length  petal_width species\n",
       "0           5.1          3.5           1.4          0.2  setosa\n",
       "1           4.9          3.0           1.4          0.2  setosa\n",
       "2           4.7          3.2           1.3          0.2  setosa\n",
       "3           4.6          3.1           1.5          0.2  setosa\n",
       "4           5.0          3.6           1.4          0.2  setosa"
      ]
     },
     "execution_count": 19,
     "metadata": {},
     "output_type": "execute_result"
    }
   ],
   "source": [
    "df1=sns.load_dataset('iris')\n",
    "df1.head()"
   ]
  },
  {
   "cell_type": "code",
   "execution_count": 21,
   "id": "af2afb0f",
   "metadata": {},
   "outputs": [
    {
     "data": {
      "image/png": "[encoded data removed]",
      "text/plain": [
       "<Figure size 640x480 with 1 Axes>"
      ]
     },
     "metadata": {},
     "output_type": "display_data"
    }
   ],
   "source": [
    "sns.histplot(df1.sepal_width,kde=True)\n",
    "plt.show()\n",
    "\n",
    "#this plot follows gaussian distribution"
   ]
  },
  {
   "cell_type": "code",
   "execution_count": 23,
   "id": "1c0331b5",
   "metadata": {},
   "outputs": [
    {
     "name": "stderr",
     "output_type": "stream",
     "text": [
      "C:\\Users\\KIIT\\AppData\\Roaming\\Python\\Python39\\site-packages\\seaborn\\_decorators.py:36: FutureWarning: Pass the following variable as a keyword arg: x. From version 0.12, the only valid positional argument will be `data`, and passing other arguments without an explicit keyword will result in an error or misinterpretation.\n",
      "  warnings.warn(\n"
     ]
    },
    {
     "data": {
      "image/png": "[encoded data removed]",
      "text/plain": [
       "<Figure size 640x480 with 1 Axes>"
      ]
     },
     "metadata": {},
     "output_type": "display_data"
    }
   ],
   "source": [
    "sns.countplot(df1['species'])\n",
    "plt.show()"
   ]
  },
  {
   "cell_type": "code",
   "execution_count": 24,
   "id": "2b6af888",
   "metadata": {},
   "outputs": [
    {
     "data": {
      "text/plain": [
       "array([5.1, 6.4])"
      ]
     },
     "execution_count": 24,
     "metadata": {},
     "output_type": "execute_result"
    }
   ],
   "source": [
    "np.percentile(df1['sepal_length'],[25,75])  #25 %ile and 75 %ile"
   ]
  },
  {
   "cell_type": "code",
   "execution_count": 25,
   "id": "c29aa8ed",
   "metadata": {},
   "outputs": [],
   "source": [
    "data=[11,10,9,3,4,8,0,98,100,22,3,4,18,12,192,-82,-2,88,71,16,21,24,10,11,12,19,19.2,20,28,103,1,2,4,7,11,15]\n",
    "#We can find Outliers using Z-Score as well, the basic idea is if data point it ouside of 3rd SD, it is an OL,\n",
    "# u can choose z=2,3,4 based on use case and problem"
   ]
  },
  {
   "cell_type": "code",
   "execution_count": 26,
   "id": "d6f1153d",
   "metadata": {},
   "outputs": [
    {
     "data": {
      "text/plain": [
       "(array([ 1.,  0.,  2., 26.,  1.,  1.,  4.,  0.,  0.,  1.]),\n",
       " array([-82. , -54.6, -27.2,   0.2,  27.6,  55. ,  82.4, 109.8, 137.2,\n",
       "        164.6, 192. ]),\n",
       " <BarContainer object of 10 artists>)"
      ]
     },
     "execution_count": 26,
     "metadata": {},
     "output_type": "execute_result"
    },
    {
     "data": {
      "image/png": "[encoded data removed]",
      "text/plain": [
       "<Figure size 640x480 with 1 Axes>"
      ]
     },
     "metadata": {},
     "output_type": "display_data"
    }
   ],
   "source": [
    "plt.hist(data)"
   ]
  },
  {
   "cell_type": "code",
   "execution_count": 27,
   "id": "44c21074",
   "metadata": {},
   "outputs": [
    {
     "data": {
      "text/plain": [
       "[192]"
      ]
     },
     "execution_count": 27,
     "metadata": {},
     "output_type": "execute_result"
    }
   ],
   "source": [
    "ol=[]\n",
    "def detect_ol(data):\n",
    "    threshold=3  #beyond 3rd SD\n",
    "    mean=np.mean(data)\n",
    "    sd=np.std(data)\n",
    "    \n",
    "    for i in data:\n",
    "        z_score=(i-mean)/sd\n",
    "        if np.absolute(z_score)>threshold:\n",
    "            ol.append(i)\n",
    "            \n",
    "    return ol\n",
    "\n",
    "detect_ol(data) \n",
    "\n",
    "#shows 192 as outlier, but it is not that powerful, we can go for IQR"
   ]
  },
  {
   "cell_type": "markdown",
   "id": "51958fe5",
   "metadata": {},
   "source": [
    "**IQR Steps**\n",
    "\n",
    "1) Sort the data\n",
    "\n",
    "2) Calculate q1 and q3\n",
    "\n",
    "3) IQR(q3-q1)\n",
    "\n",
    "4) lower=q1-1.5*IQR\n",
    "\n",
    "5) higher=q3+1.5*IQR"
   ]
  },
  {
   "cell_type": "code",
   "execution_count": 29,
   "id": "466590b2",
   "metadata": {},
   "outputs": [
    {
     "name": "stderr",
     "output_type": "stream",
     "text": [
      "C:\\Users\\KIIT\\AppData\\Roaming\\Python\\Python39\\site-packages\\seaborn\\_decorators.py:36: FutureWarning: Pass the following variable as a keyword arg: x. From version 0.12, the only valid positional argument will be `data`, and passing other arguments without an explicit keyword will result in an error or misinterpretation.\n",
      "  warnings.warn(\n"
     ]
    },
    {
     "data": {
      "image/png": "[encoded data removed]",
      "text/plain": [
       "<Figure size 640x480 with 1 Axes>"
      ]
     },
     "metadata": {},
     "output_type": "display_data"
    }
   ],
   "source": [
    "sns.boxplot(data)\n",
    "plt.show()  #we can see outliers"
   ]
  },
  {
   "cell_type": "code",
   "execution_count": 28,
   "id": "b4810f26",
   "metadata": {
    "collapsed": true
   },
   "outputs": [
    {
     "data": {
      "text/plain": [
       "[-82,\n",
       " -2,\n",
       " 0,\n",
       " 1,\n",
       " 2,\n",
       " 3,\n",
       " 3,\n",
       " 4,\n",
       " 4,\n",
       " 4,\n",
       " 7,\n",
       " 8,\n",
       " 9,\n",
       " 10,\n",
       " 10,\n",
       " 11,\n",
       " 11,\n",
       " 11,\n",
       " 12,\n",
       " 12,\n",
       " 15,\n",
       " 16,\n",
       " 18,\n",
       " 19,\n",
       " 19.2,\n",
       " 20,\n",
       " 21,\n",
       " 22,\n",
       " 24,\n",
       " 28,\n",
       " 71,\n",
       " 88,\n",
       " 98,\n",
       " 100,\n",
       " 103,\n",
       " 192]"
      ]
     },
     "execution_count": 28,
     "metadata": {},
     "output_type": "execute_result"
    }
   ],
   "source": [
    "data=sorted(data)\n",
    "data  #step 1"
   ]
  },
  {
   "cell_type": "code",
   "execution_count": 30,
   "id": "e2eb5f19",
   "metadata": {},
   "outputs": [
    {
     "name": "stdout",
     "output_type": "stream",
     "text": [
      "4.0 21.25\n"
     ]
    }
   ],
   "source": [
    "q1,q3=np.percentile(data,[25,75])\n",
    "print(q1,q3)  #step 2 (finding q1, q2)"
   ]
  },
  {
   "cell_type": "code",
   "execution_count": 32,
   "id": "4c01b4d1",
   "metadata": {},
   "outputs": [
    {
     "name": "stdout",
     "output_type": "stream",
     "text": [
      "-21.875 47.125\n"
     ]
    }
   ],
   "source": [
    "iqr=q3-q1\n",
    "lwr=q1-1.5*iqr\n",
    "uppr=q3+1.5*iqr\n",
    "\n",
    "print(lwr,uppr)\n",
    "\n",
    "#Findinf IQR, Lower and Upper Bound, and we can remove all values which are beyond this values"
   ]
  },
  {
   "cell_type": "markdown",
   "id": "ad665c4e",
   "metadata": {},
   "source": [
    "**Probabilty**\n",
    "\n",
    "measure of likelihood of an event to be happened?\n",
    "\n",
    "Ex: Rolling a dice, {1,2,3,4,5,6}\n",
    "\n",
    "Number of way/event can occur/ total possible outcomes\n",
    "\n",
    "**1) Addition Rule(Probability,or)**:\n",
    "\n",
    "Two events are ***mutually exclusive*** if they cannot occur at the same time. Eg: Rolling a dice{1,2,3,4,5,6}, Tossing a coin{H,T}. If multiple events can happen at single time, then it is called ***Mutually inclusive***. For ex: Picking a card from Deck of card, anything can come.\n",
    "\n",
    "So if P(A or B)=P(A) + P(B), it is mutually Exclusive and follow ***addition rule***\n",
    "\n",
    "Rolling a dice, getting result P(1 or 3 or 6)=P(1)+P(3)+P(6)=1/6+1/6+1/6 (Mutually exclusive)\n",
    "\n",
    "\n",
    "Example of Non Mutual Exclusive event: you are picking a card randomly from deck of card, what is the probibility of choosing a card that is queen **or** heart?\n",
    "\n",
    "P(Q)=4/52, P(H)=13/52, P(Q and H)=1/52, \n",
    "\n",
    "Addition rule of ***Non mutual Exclusive grp: P(A or B)=P(A)+P(B)-P(A and B)***\n",
    "\n",
    "P(Q or H)=P(Q)+P(H)-P(Q and H)=***4/13***\n",
    "\n",
    "\n",
    "\n",
    "**2) Multiplicative Rule**:\n",
    "\n",
    "every events are ***independent event*** of each others outcome, for ex: rolling a dice ***with replacement***.\n",
    "\n",
    "every events are ***dependent event*** if they are dependent of each others outcome, for ex: rolling dice ***without replacement***\n",
    "\n",
    "\n",
    "According to Multiplicative rule, we have to solve for both independent/dependent events accordingly with different approach, using dependent rule, there is an algo called ***Naive Bayes (conditional prob.)***\n",
    "\n",
    "\n",
    "**Problem Statements**\n",
    "\n",
    "What is a prob. of rolling and getting '5' and then '4' in a dice?\n",
    "P(A and B)=1/6*1/6=1/36\n",
    "\n",
    "What is the Prob. a drawing a Queen and Aces from deck of card:  P(Q)=4/52, P(A)=4/52\n",
    "This could be solved using ***Conditional Probability, P(A and B)=P(A)+P(B/A)**** #if A has already occured, commonly used in ***Naive Bayes or Bayes Theorem***\n",
    "\n",
    "P(A and Q)=4/52*4/51 "
   ]
  },
  {
   "cell_type": "markdown",
   "id": "128a05a9",
   "metadata": {},
   "source": [
    "**P-value**\n",
    "\n",
    "What is the probability of doing something?\n",
    "\n",
    "For example, in mouse pad of laptop, we generally touch cental with whole bottom, curved like bell curve, so the p-value for that specific region is 0.8, mean 80% of touches are there, and rest all corners and edges have collective p-value-0.2\n"
   ]
  },
  {
   "cell_type": "markdown",
   "id": "f491d74e",
   "metadata": {},
   "source": [
    "# Entering Inferential Statistics"
   ]
  },
  {
   "cell_type": "markdown",
   "id": "27fb49ae",
   "metadata": {},
   "source": [
    "**Hypothesis Testing, Confidence Interval, Significance Value...**\n",
    "\n",
    "\n",
    "Coin: test if coin is fair or not by using 100 samples? Coin is fair if P(H)=P(T)=0.5\n",
    "\n",
    "Lets focus on P(H), and suppose out of 100, 50 are head.\n",
    "\n",
    "**Hypothesis Testing**: \n",
    "\n",
    "***NULL Hypothesis (Ho)*** : Coin is fair (just like criminal is not guilty until proven), a case we assume\n",
    "\n",
    "***Alternate Hypothesis (H1)***: Coin is unfair, both should be opposite to each other\n",
    "\n",
    "***Experiments: Z-Test, T-Test etc***: after this, we come to conclusion and based on that we reject/accept NULL Hypothesis\n",
    "\n",
    "Suppose we get 30 Heads, it'll come on scale of 30/100 so is it Fair coin? We decide it using ***significant value(alpha=0.05)***, it means 5% of sample covers edge of graph at both -ve and +ve side by 2.5/2.5%, so anything comes under that 95% will be fair, suppose we have 10/100 P(H), which will lie in significance level(outside of range), that's why it is an unfair coin (Going with Alternate Hypothesis), similarly goes with 95/100 P(H)"
   ]
  },
  {
   "cell_type": "markdown",
   "id": "40ed4875",
   "metadata": {},
   "source": [
    "**1-Tail and 2-Tail Test**\n",
    "\n",
    "***Suppose a clg provides 85% placements, newly opened clg provides 88% placement with SD of 4%, so it is better than previous clg?***: In this type of questions, we have to divide the alpha in two parts and place it to both head and tail, this is called 2-Tail test\n",
    "\n",
    "***Suppose a clg provides 85% placements, newly opened clg provides 88% placement with SD of 4%, so does this clg has placement rate>85%?***: In this type of questions, we dont have to divide the alpha in two parts and place only at single tail, on the right side, this is called 1-Tail test\n"
   ]
  },
  {
   "cell_type": "markdown",
   "id": "658b7a47",
   "metadata": {},
   "source": [
    "**How to find Confidence intervals , those two values?**\n",
    "\n",
    "***Point Estimate***: the value of any statistics that estimates the value of parameter\n",
    "\n",
    "In inferential stats, we test sample data for population data, mean of sample(2.9) and population(3) data might differ, vary, kam, zada, anything, this is called point estimator, it estimates the value of parameter, in this we are estimating the mean.\n",
    "\n",
    "\n",
    "So, coming to the Confidence intervals, it is given by: point_estimate +- margin_error, lets solve with an example\n",
    "\n",
    "***On the Quant CAT exam, SD=100, a sample of 25 test taker has a mean of 520 score, construct a 95% CI about the mean?***\n",
    "\n",
    "In above problem, SD=100, n=25, alpha=1-0.95=0.05, mean=520,\n",
    "\n",
    "***formula for max CI intervals: mean + (Zalpha/2)*SD/root(n),***: 520 + Z(0.025)x20 = ***559.2***, find Z(0.025)=1.96\n",
    "\n",
    "***formula for min CI intervals: mean - (Zalpha/2)*SD/root(n)***:  520 - 1.96x20 = ***480.8***\n",
    "\n",
    "So if, the value ranges b/w these two intervals, we will go with NULL hypothesis, else with Alternate hypothesis\n",
    "\n",
    "\n",
    "\n",
    "\n",
    "**WHAT IF Population SD is not given?**\n",
    "\n",
    "Lets assume above only, without pop SD, so we can use T-test, n=25, mean=520, alpha=0.05, SD(sample)=80,\n",
    "\n",
    "Same formula point_estimate +- t(alpha/2)xS/root(n)\n",
    "\n",
    "t will be caluclated using degree of freedom, dof=(n-1)=24 refer t table, and find t(0.025)=2.064\n",
    "\n",
    "***formula for max CI intervals: mean + (Talpha/2)*S/root(n),***: 520 + (2.064)x20 = ***486.97***, find T(0.025)=2.064\n",
    "\n",
    "***formula for min CI intervals: mean - (Talpha/2)*SD/root(n)***:  520 - 2.064x20 = ***553.02***"
   ]
  },
  {
   "cell_type": "markdown",
   "id": "fcfd4028",
   "metadata": {},
   "source": [
    "**Z-Test Question**\n",
    "\n",
    "In a population, the avg IQ=100, SD=15, researcher wants to find if medication has +ve or -ve impact on intelligence or not? A sample of 30 participants have mean of 140.(alpha=0.05)\n",
    "\n",
    "Defining NULL hypothesis: Ho=mean=100\n",
    "\n",
    "Alternate: H1 = mean is not 100\n",
    "\n",
    "Calculating stats: ***Z=(sample(mean)-pop(mean))/SD/root(n)***\n",
    "\n",
    "140-100/15/root(30)=14.96=Z\n",
    "\n",
    "CI intervals founded: -1.96 and +1.96, but Z>1.96, going with Alternate Hypothesis\n",
    "\n",
    "increased the intelligence"
   ]
  },
  {
   "cell_type": "markdown",
   "id": "70a381c8",
   "metadata": {},
   "source": [
    "**One sample T-test Question**\n",
    "\n",
    "population avg IQ=100,n=30, sample(mean)=140, sample(SD)=20, alpha=0.05, Did medication affected intelligence?\n",
    "\n",
    "Ho=mean=100, H1=mean is not 100\n",
    "\n",
    "Degree of freedom = n-1 = 30-1 = 29\n",
    "\n",
    "CI intervals are -2.045 and +2.045\n",
    "\n",
    "T-test stats formula: ***t=(mean(sample)-pop(mean))/SD/root(n)***\n",
    "\n",
    "t=10.96>2.045, rejecting NULL hypothesis, Intelligence increased"
   ]
  },
  {
   "cell_type": "markdown",
   "id": "954bfa58",
   "metadata": {},
   "source": [
    "**Chi Square Test**\n",
    "\n",
    "It claims about population proportions, non-parametric test that is performed on categorical variable(nominal/ordinal)\n",
    "\n",
    "\n",
    "***Question***\n",
    "\n",
    "**In the 2000** census, the age of individuals in a small town of india were:\n",
    "\n",
    "Less than 18=20%, 18-35=30%, >35=50%\n",
    "\n",
    "**Now In 2010**, the age of n=500 individuals, are:\n",
    "\n",
    "Less than 18=121, 18-35=288, >35=91, alpha=0.05, who do u think population distributions has changed in 10 years?\n",
    "\n",
    "\n",
    "**ANS**\n",
    "Less than 18=20%, 18-35=30%, >35=50%  \n",
    "\n",
    "Less than 18=121, 18-35=288, >35=91   (Observed) from 500 samples\n",
    "\n",
    "Less than 18=20% of 500=100, 18-35=150, >35=250   (Expected) calculating from above %ages,\n",
    "\n",
    "***so, obbserved and expected***\n",
    "\n",
    "121,288,91 (observed, 2010)\n",
    "\n",
    "100,150,250 (expected, 2010)\n",
    "\n",
    "here is the huge differences b/w observed and expected, we can say that population changed in 10 years, but lets check through CI values\n",
    "\n",
    "Ho=observed 2010 data meets distributions of 2000 census\n",
    "\n",
    "H1= data does not meet the 2000 census\n",
    "\n",
    "alpha=0.05 (95% CI)\n",
    "\n",
    "here we need to find Degree of freedom, sample-1=3-1=2   (3 age categories)\n",
    "\n",
    "go to chi-square table\n",
    "\n",
    "chi-sqr= X^2 = 5.99 (from table)\n",
    "\n",
    "X^2=sum{(fo-fe)^2}/fe    #fo is observed, fe is expected\n",
    "\n",
    "(121-100)^2/100 + (288-150)^2/150 + (91-250)^2/250 = 232.49 > 5.99 \n",
    "\n",
    "so rejecting NULL hypothesis, population distribution has changes over the years"
   ]
  },
  {
   "cell_type": "markdown",
   "id": "144156e7",
   "metadata": {},
   "source": [
    "**Practical Implementation of Chi-Square test**\n",
    "\n",
    "Suppose the IQ in a certain population is normally distributed with a pop(mean) of 100, SD=15, researcher wants to know if the drug affects the IQ levels so he hired 20 patients to try on, here is the practical implementation"
   ]
  },
  {
   "cell_type": "code",
   "execution_count": 33,
   "id": "7eb67f92",
   "metadata": {},
   "outputs": [
    {
     "data": {
      "text/plain": [
       "(2.120945218565202, 0.03392641274590495)"
      ]
     },
     "execution_count": 33,
     "metadata": {},
     "output_type": "execute_result"
    }
   ],
   "source": [
    "from statsmodels.stats.weightstats import ztest as ztest\n",
    "\n",
    "data=[88,92,94,94,95,96,98,99.5,101,102,104.25,108,109,110.5,114,115,118,120,120,123]\n",
    "#IQ levels of 20 patients\n",
    "\n",
    "ztest(data,value=100)\n",
    "\n",
    "# first value is Z test value, 2nd one is P value (if it is P<alpha, we'll reject NULL hypothesis(we are on tail region)\n",
    "# else accept it(we are in CI))"
   ]
  },
  {
   "cell_type": "markdown",
   "id": "032dc270",
   "metadata": {},
   "source": [
    "**Co variance**\n",
    "\n",
    "if X increase, Y increase/ X dec, Y dec/ X inc, Y dec\n",
    "\n",
    "**Cov(x,y)= (x-mean(x))(y-mean(y))/n-1  will get +ve/-ve/0**\n",
    "\n",
    "+ve: X inc, Y inc/ X dec, Y dec\n",
    "\n",
    "-ve: X inc, Y dec/ X dec, Y inc\n",
    "\n",
    "0: X inc, Y has no change and vice versa\n",
    "\n",
    "\n",
    "***Disadvantage of Co variance**\n",
    "\n",
    "No limited magnitude, +1000, -10000 might be possible, to fix this we have pearson co-relation\n",
    "\n",
    "\n",
    "***pearson co-relation***: ranges b/w -1 to +1, the more  towards -1, more -ve correlation, +1 more +ve corelation, 0 has no corelation at all, good at capturing Linear co relations. For non linear properties, we have spearmen co relation\n",
    "\n",
    "**COR(x,y)=COV(x,y)/SD(x)*SD(y)**"
   ]
  },
  {
   "cell_type": "markdown",
   "id": "98bce6ce",
   "metadata": {},
   "source": [
    "**Practical Implementation of T-test**"
   ]
  },
  {
   "cell_type": "code",
   "execution_count": 35,
   "id": "09dd10d8",
   "metadata": {},
   "outputs": [
    {
     "name": "stdout",
     "output_type": "stream",
     "text": [
      "Population mean:  27.3125\n"
     ]
    }
   ],
   "source": [
    "age=[10,20,23,24,30,33,12,16,23,27,39,21,26,28,43,30,32,44,13,17,19,16,11,10,9,8,18,25,70,65,54,58]\n",
    "print('Population mean: ',np.mean(age))"
   ]
  },
  {
   "cell_type": "code",
   "execution_count": 36,
   "id": "5edd210e",
   "metadata": {},
   "outputs": [],
   "source": [
    "# Lets take some sample out of it, and check if mean is near or not?\n",
    "sample=np.random.choice(age,10)"
   ]
  },
  {
   "cell_type": "code",
   "execution_count": 39,
   "id": "0b4c79f9",
   "metadata": {},
   "outputs": [
    {
     "name": "stdout",
     "output_type": "stream",
     "text": [
      "Sample mean:  29.1\n"
     ]
    }
   ],
   "source": [
    "print('Sample mean: ',np.mean(sample))"
   ]
  },
  {
   "cell_type": "code",
   "execution_count": 40,
   "id": "796cdf2f",
   "metadata": {},
   "outputs": [],
   "source": [
    "#lets do it with T-test,\n",
    "from scipy.stats import ttest_1samp"
   ]
  },
  {
   "cell_type": "code",
   "execution_count": 41,
   "id": "2695a729",
   "metadata": {},
   "outputs": [
    {
     "data": {
      "text/plain": [
       "Ttest_1sampResult(statistic=0.40966999711114555, pvalue=0.691627021850161)"
      ]
     },
     "execution_count": 41,
     "metadata": {},
     "output_type": "execute_result"
    }
   ],
   "source": [
    "ttest_1samp(sample,27)   #27 is population mean, we are checking in comparison of pop mean\n",
    "\n",
    "# alpha=0.05, p(0.69) > 0.05, rejecting NULL hypothesis, this also depends on samples"
   ]
  },
  {
   "cell_type": "code",
   "execution_count": 49,
   "id": "aa675af6",
   "metadata": {},
   "outputs": [],
   "source": [
    "#Taking another example\n",
    "#ages of college students (population) vs age of class A(sample)\n",
    "from scipy import stats\n",
    "import math\n",
    "np.random.seed(6)\n",
    "school=stats.poisson.rvs(loc=18,mu=30,size=1000)   #starting from 18 age, mean is 35 and size 1500\n",
    "classA=stats.poisson.rvs(loc=18,mu=32,size=50)"
   ]
  },
  {
   "cell_type": "code",
   "execution_count": 50,
   "id": "26a07a19",
   "metadata": {
    "scrolled": true
   },
   "outputs": [
    {
     "data": {
      "text/plain": [
       "array([56, 54, 40, 48, 45, 47, 48, 54, 55, 53, 51, 41, 46, 44, 50, 59, 44,\n",
       "       52, 47, 51, 46, 53, 42, 45, 42, 54, 54, 50, 46, 54, 41, 37, 58, 41,\n",
       "       42, 44, 62, 48, 51, 50, 40, 43, 55, 49, 54, 41, 44, 42, 50, 49, 59,\n",
       "       52, 49, 37, 48, 41, 44, 42, 53, 44, 44, 48, 44, 46, 44, 60, 46, 45,\n",
       "       55, 44, 44, 48, 43, 51, 47, 43, 47, 50, 49, 54, 42, 44, 49, 57, 59,\n",
       "       40, 54, 40, 43, 45, 53, 41, 51, 44, 52, 51, 54, 57, 49, 47, 51, 54,\n",
       "       50, 52, 49, 50, 50, 39, 46, 53, 50, 43, 43, 53, 37, 54, 44, 45, 50,\n",
       "       46, 39, 58, 55, 42, 47, 50, 48, 47, 50, 49, 46, 34, 42, 53, 43, 53,\n",
       "       51, 51, 53, 60, 56, 59, 47, 39, 49, 40, 56, 45, 64, 44, 57, 45, 42,\n",
       "       61, 61, 53, 53, 47, 38, 37, 48, 56, 54, 49, 51, 57, 43, 47, 51, 41,\n",
       "       47, 49, 53, 44, 47, 37, 43, 52, 45, 41, 47, 50, 45, 40, 49, 48, 54,\n",
       "       44, 54, 51, 52, 49, 45, 35, 43, 61, 45, 44, 56, 46, 49, 44, 48, 49,\n",
       "       46, 50, 45, 47, 42, 50, 36, 47, 51, 49, 46, 47, 47, 57, 44, 42, 59,\n",
       "       39, 38, 41, 36, 50, 48, 40, 52, 54, 44, 51, 42, 45, 57, 52, 46, 48,\n",
       "       60, 54, 41, 51, 58, 52, 45, 42, 40, 52, 41, 46, 54, 52, 47, 51, 42,\n",
       "       43, 47, 42, 48, 43, 62, 47, 47, 48, 49, 46, 48, 40, 51, 46, 46, 48,\n",
       "       58, 47, 51, 57, 54, 46, 47, 49, 50, 46, 54, 44, 50, 55, 60, 52, 42,\n",
       "       44, 61, 45, 50, 45, 50, 46, 49, 56, 45, 55, 53, 47, 53, 45, 52, 43,\n",
       "       53, 41, 51, 45, 54, 55, 48, 49, 51, 49, 41, 45, 47, 50, 48, 37, 50,\n",
       "       41, 58, 54, 51, 55, 48, 44, 40, 50, 42, 47, 58, 52, 52, 45, 53, 44,\n",
       "       40, 48, 38, 46, 50, 58, 46, 44, 46, 46, 49, 52, 53, 47, 43, 59, 53,\n",
       "       50, 44, 44, 49, 46, 55, 48, 41, 50, 39, 48, 45, 37, 42, 47, 67, 44,\n",
       "       48, 39, 39, 44, 47, 59, 42, 54, 54, 48, 50, 47, 50, 44, 47, 42, 38,\n",
       "       47, 36, 57, 41, 45, 49, 55, 45, 50, 51, 46, 41, 52, 60, 44, 45, 40,\n",
       "       55, 44, 51, 47, 57, 52, 56, 59, 36, 57, 52, 45, 52, 54, 49, 55, 43,\n",
       "       48, 48, 49, 53, 45, 58, 48, 41, 61, 54, 44, 45, 44, 45, 40, 48, 49,\n",
       "       41, 43, 50, 49, 54, 51, 53, 41, 49, 48, 38, 45, 52, 56, 40, 46, 50,\n",
       "       53, 47, 44, 40, 43, 38, 48, 46, 48, 59, 44, 39, 57, 47, 55, 49, 51,\n",
       "       50, 37, 50, 45, 48, 60, 44, 40, 45, 51, 47, 52, 51, 44, 55, 53, 44,\n",
       "       52, 48, 48, 44, 46, 54, 44, 45, 51, 53, 57, 52, 35, 47, 45, 47, 58,\n",
       "       54, 48, 46, 52, 44, 48, 38, 50, 57, 40, 45, 50, 50, 47, 61, 44, 59,\n",
       "       50, 44, 54, 47, 45, 50, 46, 52, 43, 53, 55, 43, 43, 43, 52, 50, 43,\n",
       "       51, 49, 45, 52, 40, 51, 46, 41, 48, 44, 44, 45, 59, 45, 44, 44, 40,\n",
       "       36, 45, 44, 40, 62, 44, 58, 58, 49, 44, 43, 49, 44, 52, 56, 59, 46,\n",
       "       58, 59, 43, 46, 44, 43, 53, 58, 49, 52, 45, 49, 50, 44, 51, 45, 41,\n",
       "       55, 39, 53, 51, 51, 53, 45, 39, 47, 43, 45, 42, 43, 58, 50, 46, 45,\n",
       "       48, 40, 55, 45, 40, 41, 44, 52, 44, 47, 57, 45, 50, 54, 48, 42, 47,\n",
       "       45, 44, 53, 49, 47, 46, 38, 50, 48, 48, 50, 49, 44, 48, 46, 45, 49,\n",
       "       50, 55, 44, 52, 39, 52, 44, 44, 58, 54, 49, 47, 52, 49, 57, 46, 58,\n",
       "       61, 46, 44, 49, 40, 48, 48, 45, 57, 46, 44, 50, 46, 48, 40, 47, 48,\n",
       "       49, 53, 53, 52, 49, 55, 51, 45, 48, 49, 44, 39, 50, 50, 52, 39, 42,\n",
       "       64, 48, 51, 50, 60, 55, 45, 65, 48, 45, 49, 54, 43, 47, 45, 45, 42,\n",
       "       48, 53, 53, 50, 50, 41, 38, 56, 57, 46, 53, 48, 48, 43, 38, 49, 46,\n",
       "       53, 51, 45, 46, 57, 56, 52, 38, 50, 49, 48, 56, 52, 48, 49, 46, 50,\n",
       "       46, 48, 56, 49, 52, 45, 47, 41, 46, 43, 50, 47, 44, 42, 50, 58, 43,\n",
       "       57, 46, 51, 51, 46, 41, 50, 42, 50, 50, 42, 53, 43, 55, 39, 48, 51,\n",
       "       51, 51, 48, 48, 44, 47, 43, 44, 46, 55, 42, 48, 46, 50, 49, 49, 60,\n",
       "       48, 52, 51, 55, 45, 37, 43, 47, 51, 45, 53, 51, 56, 52, 40, 48, 55,\n",
       "       47, 54, 48, 45, 46, 50, 46, 47, 46, 48, 45, 51, 43, 34, 44, 46, 44,\n",
       "       54, 54, 52, 45, 50, 58, 55, 48, 53, 52, 47, 45, 43, 47, 55, 53, 48,\n",
       "       51, 48, 44, 45, 44, 45, 52, 47, 38, 54, 58, 59, 46, 53, 48, 59, 52,\n",
       "       53, 55, 44, 45, 35, 51, 46, 45, 46, 45, 45, 47, 43, 55, 56, 44, 40,\n",
       "       50, 50, 47, 36, 49, 53, 35, 48, 43, 50, 47, 56, 51, 51, 48, 56, 39,\n",
       "       49, 46, 44, 46, 57, 42, 47, 52, 47, 48, 52, 52, 46, 45, 42, 48, 51,\n",
       "       59, 38, 46, 58, 50, 57, 45, 64, 49, 59, 48, 60, 53, 47, 40, 51, 48,\n",
       "       44, 48, 56, 46, 47, 43, 47, 55, 44, 45, 43, 46, 52, 50, 49, 43, 46,\n",
       "       51, 52, 42, 49, 50, 54, 52, 45, 50, 53, 39, 51, 45, 44, 54, 46, 57,\n",
       "       43, 48, 50, 55, 54, 49, 53, 45, 42, 54, 51, 51, 50, 58, 48, 61, 54,\n",
       "       56, 47, 47, 50, 46, 50, 41, 53, 41, 52, 56, 46, 41, 52],\n",
       "      dtype=int64)"
      ]
     },
     "execution_count": 50,
     "metadata": {},
     "output_type": "execute_result"
    }
   ],
   "source": [
    "school"
   ]
  },
  {
   "cell_type": "code",
   "execution_count": 51,
   "id": "80d9e0e4",
   "metadata": {},
   "outputs": [
    {
     "data": {
      "text/plain": [
       "array([54, 54, 48, 58, 56, 49, 51, 45, 47, 47, 55, 43, 57, 54, 52, 48, 38,\n",
       "       41, 42, 42, 39, 56, 40, 54, 62, 48, 44, 50, 59, 55, 47, 43, 51, 37,\n",
       "       71, 49, 48, 49, 50, 56, 56, 56, 49, 52, 58, 55, 47, 48, 54, 58],\n",
       "      dtype=int64)"
      ]
     },
     "execution_count": 51,
     "metadata": {},
     "output_type": "execute_result"
    }
   ],
   "source": [
    "classA"
   ]
  },
  {
   "cell_type": "code",
   "execution_count": 52,
   "id": "c408b8b0",
   "metadata": {},
   "outputs": [
    {
     "data": {
      "text/plain": [
       "50.44"
      ]
     },
     "execution_count": 52,
     "metadata": {},
     "output_type": "execute_result"
    }
   ],
   "source": [
    "classA.mean()"
   ]
  },
  {
   "cell_type": "code",
   "execution_count": 56,
   "id": "7340ce9b",
   "metadata": {},
   "outputs": [],
   "source": [
    "_,p_val=ttest_1samp(classA,popmean=school.mean())\n",
    "\n",
    "# p<0.05, rejecting NULL hypothesis"
   ]
  },
  {
   "cell_type": "code",
   "execution_count": 57,
   "id": "ababc90e",
   "metadata": {},
   "outputs": [
    {
     "data": {
      "text/plain": [
       "48.269"
      ]
     },
     "execution_count": 57,
     "metadata": {},
     "output_type": "execute_result"
    }
   ],
   "source": [
    "school.mean()"
   ]
  },
  {
   "cell_type": "code",
   "execution_count": 58,
   "id": "d1518de7",
   "metadata": {
    "scrolled": true
   },
   "outputs": [
    {
     "name": "stdout",
     "output_type": "stream",
     "text": [
      "Reject H0\n"
     ]
    }
   ],
   "source": [
    "if p_val<0.05:\n",
    "    print(\"Reject H0\")\n",
    "else:\n",
    "    print('Accept H0')"
   ]
  },
  {
   "cell_type": "markdown",
   "id": "7bb290ed",
   "metadata": {},
   "source": [
    "**If p(calculated) <= (alpha)0.05 (Reject the NULL hypothesis and Go with alternate hypothesis), because it means that only 5% or less is chance of getting NULL hypothesis correct**\n",
    "\n",
    "**If p(calculated) => (alpha)0.05 (Accept the NULL hypothesis and Reject alternate hypothesis), because it means that more than 5% is chance of getting NULL hypothesis correct**"
   ]
  },
  {
   "cell_type": "code",
   "execution_count": 60,
   "id": "e72ce7b6",
   "metadata": {},
   "outputs": [
    {
     "data": {
      "text/html": [
       "<div>\n",
       "<style scoped>\n",
       "    .dataframe tbody tr th:only-of-type {\n",
       "        vertical-align: middle;\n",
       "    }\n",
       "\n",
       "    .dataframe tbody tr th {\n",
       "        vertical-align: top;\n",
       "    }\n",
       "\n",
       "    .dataframe thead th {\n",
       "        text-align: right;\n",
       "    }\n",
       "</style>\n",
       "<table border=\"1\" class=\"dataframe\">\n",
       "  <thead>\n",
       "    <tr style=\"text-align: right;\">\n",
       "      <th></th>\n",
       "      <th>sepal_length</th>\n",
       "      <th>sepal_width</th>\n",
       "      <th>petal_length</th>\n",
       "      <th>petal_width</th>\n",
       "      <th>species</th>\n",
       "    </tr>\n",
       "  </thead>\n",
       "  <tbody>\n",
       "    <tr>\n",
       "      <th>0</th>\n",
       "      <td>5.1</td>\n",
       "      <td>3.5</td>\n",
       "      <td>1.4</td>\n",
       "      <td>0.2</td>\n",
       "      <td>setosa</td>\n",
       "    </tr>\n",
       "    <tr>\n",
       "      <th>1</th>\n",
       "      <td>4.9</td>\n",
       "      <td>3.0</td>\n",
       "      <td>1.4</td>\n",
       "      <td>0.2</td>\n",
       "      <td>setosa</td>\n",
       "    </tr>\n",
       "    <tr>\n",
       "      <th>2</th>\n",
       "      <td>4.7</td>\n",
       "      <td>3.2</td>\n",
       "      <td>1.3</td>\n",
       "      <td>0.2</td>\n",
       "      <td>setosa</td>\n",
       "    </tr>\n",
       "    <tr>\n",
       "      <th>3</th>\n",
       "      <td>4.6</td>\n",
       "      <td>3.1</td>\n",
       "      <td>1.5</td>\n",
       "      <td>0.2</td>\n",
       "      <td>setosa</td>\n",
       "    </tr>\n",
       "    <tr>\n",
       "      <th>4</th>\n",
       "      <td>5.0</td>\n",
       "      <td>3.6</td>\n",
       "      <td>1.4</td>\n",
       "      <td>0.2</td>\n",
       "      <td>setosa</td>\n",
       "    </tr>\n",
       "  </tbody>\n",
       "</table>\n",
       "</div>"
      ],
      "text/plain": [
       "   sepal_length  sepal_width  petal_length  petal_width species\n",
       "0           5.1          3.5           1.4          0.2  setosa\n",
       "1           4.9          3.0           1.4          0.2  setosa\n",
       "2           4.7          3.2           1.3          0.2  setosa\n",
       "3           4.6          3.1           1.5          0.2  setosa\n",
       "4           5.0          3.6           1.4          0.2  setosa"
      ]
     },
     "execution_count": 60,
     "metadata": {},
     "output_type": "execute_result"
    }
   ],
   "source": [
    "df1.head()"
   ]
  },
  {
   "cell_type": "code",
   "execution_count": 63,
   "id": "ea795aa7",
   "metadata": {},
   "outputs": [
    {
     "data": {
      "image/png": "[encoded data removed]",
      "text/plain": [
       "<Figure size 1000x1000 with 20 Axes>"
      ]
     },
     "metadata": {},
     "output_type": "display_data"
    }
   ],
   "source": [
    "sns.pairplot(df1)\n",
    "plt.show()"
   ]
  },
  {
   "cell_type": "code",
   "execution_count": 64,
   "id": "2187f97b",
   "metadata": {},
   "outputs": [
    {
     "data": {
      "text/html": [
       "<div>\n",
       "<style scoped>\n",
       "    .dataframe tbody tr th:only-of-type {\n",
       "        vertical-align: middle;\n",
       "    }\n",
       "\n",
       "    .dataframe tbody tr th {\n",
       "        vertical-align: top;\n",
       "    }\n",
       "\n",
       "    .dataframe thead th {\n",
       "        text-align: right;\n",
       "    }\n",
       "</style>\n",
       "<table border=\"1\" class=\"dataframe\">\n",
       "  <thead>\n",
       "    <tr style=\"text-align: right;\">\n",
       "      <th></th>\n",
       "      <th>sepal_length</th>\n",
       "      <th>sepal_width</th>\n",
       "      <th>petal_length</th>\n",
       "      <th>petal_width</th>\n",
       "    </tr>\n",
       "  </thead>\n",
       "  <tbody>\n",
       "    <tr>\n",
       "      <th>sepal_length</th>\n",
       "      <td>1.000000</td>\n",
       "      <td>-0.117570</td>\n",
       "      <td>0.871754</td>\n",
       "      <td>0.817941</td>\n",
       "    </tr>\n",
       "    <tr>\n",
       "      <th>sepal_width</th>\n",
       "      <td>-0.117570</td>\n",
       "      <td>1.000000</td>\n",
       "      <td>-0.428440</td>\n",
       "      <td>-0.366126</td>\n",
       "    </tr>\n",
       "    <tr>\n",
       "      <th>petal_length</th>\n",
       "      <td>0.871754</td>\n",
       "      <td>-0.428440</td>\n",
       "      <td>1.000000</td>\n",
       "      <td>0.962865</td>\n",
       "    </tr>\n",
       "    <tr>\n",
       "      <th>petal_width</th>\n",
       "      <td>0.817941</td>\n",
       "      <td>-0.366126</td>\n",
       "      <td>0.962865</td>\n",
       "      <td>1.000000</td>\n",
       "    </tr>\n",
       "  </tbody>\n",
       "</table>\n",
       "</div>"
      ],
      "text/plain": [
       "              sepal_length  sepal_width  petal_length  petal_width\n",
       "sepal_length      1.000000    -0.117570      0.871754     0.817941\n",
       "sepal_width      -0.117570     1.000000     -0.428440    -0.366126\n",
       "petal_length      0.871754    -0.428440      1.000000     0.962865\n",
       "petal_width       0.817941    -0.366126      0.962865     1.000000"
      ]
     },
     "execution_count": 64,
     "metadata": {},
     "output_type": "execute_result"
    }
   ],
   "source": [
    "df1.corr()"
   ]
  },
  {
   "cell_type": "code",
   "execution_count": null,
   "id": "7bfad02c",
   "metadata": {},
   "outputs": [],
   "source": []
  }
 ],
 "metadata": {
  "kernelspec": {
   "display_name": "Python 3 (ipykernel)",
   "language": "python",
   "name": "python3"
  },
  "language_info": {
   "codemirror_mode": {
    "name": "ipython",
    "version": 3
   },
   "file_extension": ".py",
   "mimetype": "text/x-python",
   "name": "python",
   "nbconvert_exporter": "python",
   "pygments_lexer": "ipython3",
   "version": "3.9.13"
  }
 },
 "nbformat": 4,
 "nbformat_minor": 5
}
