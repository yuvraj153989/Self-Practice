{
 "cells": [
  {
   "cell_type": "code",
   "execution_count": 3,
   "id": "73d509df",
   "metadata": {},
   "outputs": [
    {
     "name": "stdout",
     "output_type": "stream",
     "text": [
      "Executing Now..\n",
      "My name is Yuvraj\n",
      "Executed..\n"
     ]
    }
   ],
   "source": [
    "def dec1(func):\n",
    "    def nowexec():\n",
    "        print(\"Executing Now..\")\n",
    "        func()\n",
    "        print(\"Executed..\")\n",
    "    return nowexec\n",
    "\n",
    "def info():\n",
    "    print(\"My name is Yuvraj\")\n",
    "    \n",
    "info=dec1(info)\n",
    "info()"
   ]
  },
  {
   "cell_type": "code",
   "execution_count": 4,
   "id": "f818b8f2",
   "metadata": {},
   "outputs": [
    {
     "name": "stdout",
     "output_type": "stream",
     "text": [
      "Hii, ssup?\n"
     ]
    }
   ],
   "source": [
    "def outer():\n",
    "    msg=\"Hii, ssup?\"\n",
    "    \n",
    "    def inner():\n",
    "        print(msg)\n",
    "    return inner()\n",
    "outer()"
   ]
  },
  {
   "cell_type": "code",
   "execution_count": 6,
   "id": "0835225a",
   "metadata": {},
   "outputs": [
    {
     "name": "stdout",
     "output_type": "stream",
     "text": [
      "Hii\n"
     ]
    }
   ],
   "source": [
    "def func1(msg):\n",
    "    def func2():\n",
    "        return msg\n",
    "    print(func2())\n",
    "f1=func1(\"Hii\")\n",
    "f1"
   ]
  },
  {
   "cell_type": "code",
   "execution_count": 35,
   "id": "b9af731e",
   "metadata": {},
   "outputs": [
    {
     "name": "stdout",
     "output_type": "stream",
     "text": [
      "Hii <function display at 0x000002A929695700>\n",
      "Displaying..\n"
     ]
    }
   ],
   "source": [
    "class dec_class(object):\n",
    "    def __init__(self,og):\n",
    "        self.og=og\n",
    "    def __call__(self,*args,**kwargs):\n",
    "        print(f\"Hii {self.og}\")\n",
    "        return self.og(*args,**kwargs)\n",
    "\n",
    "@dec_class\n",
    "def display():\n",
    "    print(\"Displaying..\")\n",
    "    \n",
    "display()\n",
    "\n",
    "#decorators using class"
   ]
  },
  {
   "cell_type": "code",
   "execution_count": 13,
   "id": "f56c0631",
   "metadata": {},
   "outputs": [
    {
     "name": "stdout",
     "output_type": "stream",
     "text": [
      "display_info ran with arguements (Peter, 19)\n"
     ]
    }
   ],
   "source": [
    "def my_logger(og):\n",
    "    import logging\n",
    "    logging.basicConfig(filename='{}.log'.format(og.__name__),level=logging.INFO)\n",
    "    \n",
    "    def wrapper(*args,**kwargs):\n",
    "        logging.info('Ran with args: {}, and kwargs: {}'.format(args,kwargs))\n",
    "        return og(*args,**kwargs)\n",
    "    \n",
    "    return wrapper\n",
    "\n",
    "#with this code, we can maintain all the edits, functionality using single code, \n",
    "# here in display_info.log file, whenever u change arguements, changes will be marked as new entry..\n",
    "# we can simply use this decorator my_logger anytime we wanna add logging functionality to any new function\n",
    "#overhead to maintaing my_logger decorator manually for every writing code everyime is no longer, we can use single \n",
    "# logger function my_logger for multiple uses\n",
    "    \n",
    "@my_logger\n",
    "def display_info(name,age):\n",
    "    print(\"display_info ran with arguements ({}, {})\".format(name,age))\n",
    "\n",
    "display_info('Peter','19')\n",
    "# display()\n"
   ]
  },
  {
   "cell_type": "code",
   "execution_count": 15,
   "id": "9d9df894",
   "metadata": {},
   "outputs": [
    {
     "name": "stdout",
     "output_type": "stream",
     "text": [
      "display_info ran with arguements (Sam, 20)\n",
      "display_info ran in: 1.0074942111968994 seconds\n"
     ]
    }
   ],
   "source": [
    "import time\n",
    "def my_timer(og):\n",
    "    import time\n",
    "    def wrapper(*args,**kwargs):\n",
    "        t1=time.time()\n",
    "        result=og(*args,**kwargs)\n",
    "        t2=time.time()-t1\n",
    "        print('{} ran in: {} seconds'.format(og.__name__,t2))\n",
    "        return result\n",
    "    return wrapper\n",
    "@my_timer   #display_info=my_timer(display_info)\n",
    "def display_info(name,age):\n",
    "    time.sleep(1)\n",
    "    print(\"display_info ran with arguements ({}, {})\".format(name,age))\n",
    "display_info(\"Sam\",20)"
   ]
  },
  {
   "cell_type": "code",
   "execution_count": 16,
   "id": "8260f4f9",
   "metadata": {},
   "outputs": [
    {
     "name": "stdout",
     "output_type": "stream",
     "text": [
      "display_info ran with arguements (Rubal, 14)\n",
      "display_info ran in: 1.0056774616241455 seconds\n"
     ]
    }
   ],
   "source": [
    "# Stack of decorators\n",
    "\n",
    "@my_logger\n",
    "@my_timer\n",
    "def display_info(name,age):\n",
    "    time.sleep(1)\n",
    "    print(\"display_info ran with arguements ({}, {})\".format(name,age))\n",
    "display_info(\"Rubal\",14)\n",
    "\n",
    "#here in this code, what's happening..\n",
    "# display_info=my_logger(my_timer(display_info))"
   ]
  },
  {
   "cell_type": "code",
   "execution_count": 18,
   "id": "fde6e3cd",
   "metadata": {},
   "outputs": [
    {
     "name": "stdout",
     "output_type": "stream",
     "text": [
      "wrapper\n"
     ]
    }
   ],
   "source": [
    "def display_info(name,age):\n",
    "    time.sleep(1)\n",
    "    print(\"display_info ran with arguements ({}, {})\".format(name,age))\n",
    "display_info=my_timer(display_info)\n",
    "print(display_info.__name__)\n",
    "\n",
    "#returning wrapper function"
   ]
  },
  {
   "cell_type": "code",
   "execution_count": 19,
   "id": "baa61a4a",
   "metadata": {},
   "outputs": [],
   "source": [
    "# # A decorator in Python is a function that takes another function as its argument, \n",
    "# # and returns yet another function . Decorators can be extremely useful as they allow the extension of an \n",
    "# # existing function, without any modification to the original function source code\n",
    "\n",
    "# Decorators are a very powerful and useful tool in Python since it allows programmers to modify the behaviour\n",
    "# of a function or class. Decorators allow us to wrap another function in order to extend the behaviour of the \n",
    "# wrapped function, without permanently modifying it."
   ]
  },
  {
   "cell_type": "code",
   "execution_count": 20,
   "id": "1692a70a",
   "metadata": {},
   "outputs": [
    {
     "name": "stdout",
     "output_type": "stream",
     "text": [
      "2.5\n"
     ]
    }
   ],
   "source": [
    "def div(a,b):\n",
    "    return a/b\n",
    "print(div(5,2))\n",
    "\n",
    "#good with some numbers.."
   ]
  },
  {
   "cell_type": "code",
   "execution_count": 21,
   "id": "4d5013af",
   "metadata": {},
   "outputs": [
    {
     "ename": "ZeroDivisionError",
     "evalue": "division by zero",
     "output_type": "error",
     "traceback": [
      "\u001b[1;31m---------------------------------------------------------------------------\u001b[0m",
      "\u001b[1;31mZeroDivisionError\u001b[0m                         Traceback (most recent call last)",
      "\u001b[1;32m~\\AppData\\Local\\Temp\\ipykernel_5656\\3314807295.py\u001b[0m in \u001b[0;36m<module>\u001b[1;34m\u001b[0m\n\u001b[0;32m      1\u001b[0m \u001b[1;32mdef\u001b[0m \u001b[0mdiv\u001b[0m\u001b[1;33m(\u001b[0m\u001b[0ma\u001b[0m\u001b[1;33m,\u001b[0m\u001b[0mb\u001b[0m\u001b[1;33m)\u001b[0m\u001b[1;33m:\u001b[0m\u001b[1;33m\u001b[0m\u001b[1;33m\u001b[0m\u001b[0m\n\u001b[0;32m      2\u001b[0m     \u001b[1;32mreturn\u001b[0m \u001b[0ma\u001b[0m\u001b[1;33m/\u001b[0m\u001b[0mb\u001b[0m\u001b[1;33m\u001b[0m\u001b[1;33m\u001b[0m\u001b[0m\n\u001b[1;32m----> 3\u001b[1;33m \u001b[0mprint\u001b[0m\u001b[1;33m(\u001b[0m\u001b[0mdiv\u001b[0m\u001b[1;33m(\u001b[0m\u001b[1;36m5\u001b[0m\u001b[1;33m,\u001b[0m\u001b[1;36m0\u001b[0m\u001b[1;33m)\u001b[0m\u001b[1;33m)\u001b[0m\u001b[1;33m\u001b[0m\u001b[1;33m\u001b[0m\u001b[0m\n\u001b[0m",
      "\u001b[1;32m~\\AppData\\Local\\Temp\\ipykernel_5656\\3314807295.py\u001b[0m in \u001b[0;36mdiv\u001b[1;34m(a, b)\u001b[0m\n\u001b[0;32m      1\u001b[0m \u001b[1;32mdef\u001b[0m \u001b[0mdiv\u001b[0m\u001b[1;33m(\u001b[0m\u001b[0ma\u001b[0m\u001b[1;33m,\u001b[0m\u001b[0mb\u001b[0m\u001b[1;33m)\u001b[0m\u001b[1;33m:\u001b[0m\u001b[1;33m\u001b[0m\u001b[1;33m\u001b[0m\u001b[0m\n\u001b[1;32m----> 2\u001b[1;33m     \u001b[1;32mreturn\u001b[0m \u001b[0ma\u001b[0m\u001b[1;33m/\u001b[0m\u001b[0mb\u001b[0m\u001b[1;33m\u001b[0m\u001b[1;33m\u001b[0m\u001b[0m\n\u001b[0m\u001b[0;32m      3\u001b[0m \u001b[0mprint\u001b[0m\u001b[1;33m(\u001b[0m\u001b[0mdiv\u001b[0m\u001b[1;33m(\u001b[0m\u001b[1;36m5\u001b[0m\u001b[1;33m,\u001b[0m\u001b[1;36m0\u001b[0m\u001b[1;33m)\u001b[0m\u001b[1;33m)\u001b[0m\u001b[1;33m\u001b[0m\u001b[1;33m\u001b[0m\u001b[0m\n",
      "\u001b[1;31mZeroDivisionError\u001b[0m: division by zero"
     ]
    }
   ],
   "source": [
    "def div(a,b):\n",
    "    return a/b\n",
    "print(div(5,0))\n",
    "\n",
    "#what if the numerator is 0, it'll throw error\n",
    "# so we have to create a check case in function to handle this, rather than we can modify or add functionality \n",
    "# in different function for the same case, or multiple cases, without actually changing div() function"
   ]
  },
  {
   "cell_type": "code",
   "execution_count": 33,
   "id": "915e1191",
   "metadata": {},
   "outputs": [
    {
     "name": "stdout",
     "output_type": "stream",
     "text": [
      "Can't divide by 0\n",
      "None\n"
     ]
    }
   ],
   "source": [
    "def check(div):\n",
    "    def rule(a,b):\n",
    "        if b==0:   #funciton1,  can add multiple functions with different tasks without changing the original(div) func\n",
    "            print(\"Can't divide by 0\")\n",
    "            return\n",
    "        div(a,b)\n",
    "    return rule\n",
    "\n",
    "@check  #decorator\n",
    "def div(a,b):\n",
    "    return a/b\n",
    "\n",
    "# div=check(div)\n",
    "print(div(5,0))"
   ]
  },
  {
   "cell_type": "code",
   "execution_count": null,
   "id": "5c44157f",
   "metadata": {},
   "outputs": [],
   "source": []
  }
 ],
 "metadata": {
  "kernelspec": {
   "display_name": "Python 3 (ipykernel)",
   "language": "python",
   "name": "python3"
  },
  "language_info": {
   "codemirror_mode": {
    "name": "ipython",
    "version": 3
   },
   "file_extension": ".py",
   "mimetype": "text/x-python",
   "name": "python",
   "nbconvert_exporter": "python",
   "pygments_lexer": "ipython3",
   "version": "3.9.13"
  }
 },
 "nbformat": 4,
 "nbformat_minor": 5
}
