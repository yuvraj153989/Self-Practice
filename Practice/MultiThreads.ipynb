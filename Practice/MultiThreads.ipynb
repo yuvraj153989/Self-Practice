{
 "cells": [
  {
   "cell_type": "code",
   "execution_count": 2,
   "id": "99fbfd90-a917-4eb9-b525-f52de9adedec",
   "metadata": {},
   "outputs": [],
   "source": [
    "import threading\n",
    "import time"
   ]
  },
  {
   "cell_type": "code",
   "execution_count": 3,
   "id": "6d907af9-e4ad-4eb7-91fe-523775666adf",
   "metadata": {},
   "outputs": [
    {
     "name": "stdout",
     "output_type": "stream",
     "text": [
      "This is email Intent..\n",
      "This is GenAI...\n",
      "This is email Intent..\n",
      "This is GenAI...\n",
      "\n",
      "\n",
      "TotalExecution Time:  5.014699999999721\n",
      "FInal Result is:  {'email': <Thread(Thread-5, stopped 41152)>, 'genai': <Thread(Thread-6, stopped 41168)>}\n"
     ]
    }
   ],
   "source": [
    "def email(second):\n",
    "    print(\"This is email Intent..\")\n",
    "    time.sleep(second)\n",
    "    return 'a'\n",
    "def genai(second):\n",
    "    print(\"This is GenAI...\")\n",
    "    time.sleep(second)\n",
    "    return 'b'\n",
    "email(3)\n",
    "genai(5)\n",
    "\n",
    "\n",
    "def optimize():\n",
    "    em=threading.Thread(target=email,args=(3,))\n",
    "    gen=threading.Thread(target=genai,args=(5,))\n",
    "\n",
    "    start=time.perf_counter()\n",
    "    em.start()\n",
    "    gen.start()\n",
    "\n",
    "    em_res=em.join()\n",
    "    print('\\n')\n",
    "    gen_res=gen.join()\n",
    "    end=time.perf_counter()\n",
    "    print(\"TotalExecution Time: \",end-start)\n",
    "    return {\"email\":em,\"genai\":gen}\n",
    "results=optimize()\n",
    "print(\"FInal Result is: \",results)"
   ]
  },
  {
   "cell_type": "code",
   "execution_count": 4,
   "id": "346857b2-56c4-4314-827b-2cdb9a5086c4",
   "metadata": {},
   "outputs": [
    {
     "name": "stdout",
     "output_type": "stream",
     "text": [
      "This is email Intent..\n",
      "This is GenAI...\n",
      "1705551246.6505234\n",
      "This is email Intent..\n",
      "This is GenAI...\n",
      "1705551250.6583028\n",
      "Total time taken:  4.007661799994821\n"
     ]
    },
    {
     "data": {
      "text/plain": [
       "{'email': 'a', 'genai': 'b'}"
      ]
     },
     "execution_count": 4,
     "metadata": {},
     "output_type": "execute_result"
    }
   ],
   "source": [
    "from concurrent.futures import ThreadPoolExecutor, as_completed\n",
    "def email(second):\n",
    "    print(\"This is email Intent..\")\n",
    "    time.sleep(second)\n",
    "    return 'a'\n",
    "def genai(second):\n",
    "    print(\"This is GenAI...\")\n",
    "    time.sleep(second)\n",
    "    return 'b'\n",
    "email(3)\n",
    "genai(5)\n",
    "\n",
    "start=time.perf_counter()\n",
    "print(time.time())\n",
    "with ThreadPoolExecutor() as ex:\n",
    "    em=ex.submit(email,2)\n",
    "    gen=ex.submit(genai,4)\n",
    "    res = {\n",
    "        'email': em.result(),\n",
    "        'genai': gen.result()\n",
    "    }\n",
    "print(time.time())\n",
    "end=time.perf_counter()\n",
    "print(\"Total time taken: \",end-start)\n",
    "res\n",
    "\n",
    "#Finalized one"
   ]
  },
  {
   "cell_type": "code",
   "execution_count": 6,
   "id": "5b364fb7-6a37-4837-80e6-6b3d72d4f184",
   "metadata": {},
   "outputs": [
    {
     "name": "stdout",
     "output_type": "stream",
     "text": [
      "This is email Intent..\n",
      "This is GenAI...\n",
      "Total TIme:  8.017862500000007\n"
     ]
    }
   ],
   "source": [
    "import executor\n",
    "def pooling():\n",
    "    with ThreadPoolExecutor() as executor:\n",
    "        # l=[3,5]\n",
    "        # results = executor.map([email, genai],l)\n",
    "        results = {\n",
    "            'email': [i for i in executor.map(email,[3])][0],\n",
    "            'genai': [i for i in executor.map(genai, [5])][0]\n",
    "        }\n",
    "        return results\n",
    "start=time.perf_counter()\n",
    "results = pooling()\n",
    "results\n",
    "end=time.perf_counter()\n",
    "print(\"Total TIme: \",end-start)"
   ]
  },
  {
   "cell_type": "code",
   "execution_count": null,
   "id": "5ddeb049-003c-47fa-85e1-a9fd06e3f201",
   "metadata": {},
   "outputs": [],
   "source": []
  },
  {
   "cell_type": "code",
   "execution_count": null,
   "id": "178c0de5-090e-4189-9af5-0e73122e305a",
   "metadata": {},
   "outputs": [],
   "source": [
    "[i for i in results['genai']]"
   ]
  },
  {
   "cell_type": "code",
   "execution_count": 7,
   "id": "2b2733d3-aba4-41ad-9556-f4f2e4ad01f7",
   "metadata": {},
   "outputs": [
    {
     "name": "stdout",
     "output_type": "stream",
     "text": [
      "This is email Intent..\n",
      "This is GenAI...\n",
      "{'email': 'a', 'genai': 'b'}\n",
      "Total TIme:  5.010198199999991\n"
     ]
    }
   ],
   "source": [
    "import executor\n",
    "def pooling():\n",
    "    with ThreadPoolExecutor() as executor:\n",
    "        em=executor.submit(email,3)\n",
    "        gen=executor.submit(genai,5)\n",
    "        futures={em:'email',gen:'genai'}\n",
    "        res={}\n",
    "        for future in as_completed(futures):\n",
    "            task_name=futures[future]\n",
    "            res[task_name]=future.result()\n",
    "        return res\n",
    "        \n",
    "start=time.perf_counter()\n",
    "print(pooling())\n",
    "end=time.perf_counter()\n",
    "print(\"Total TIme: \",end-start)\n",
    "\n",
    "#another possible solution @2"
   ]
  },
  {
   "cell_type": "code",
   "execution_count": null,
   "id": "9d0f67bf-cb92-4eb2-88e2-1d63e13590c7",
   "metadata": {},
   "outputs": [],
   "source": [
    "#Process is Parent like thing, whereas threads are childrens of Processes\n",
    "# 1 Process can consist multiple threads"
   ]
  },
  {
   "cell_type": "code",
   "execution_count": null,
   "id": "751fb3fe",
   "metadata": {},
   "outputs": [],
   "source": [
    "import multiprocessing\n",
    "import requests"
   ]
  },
  {
   "cell_type": "code",
   "execution_count": null,
   "id": "066cbaa5",
   "metadata": {},
   "outputs": [],
   "source": [
    "def download(url,name):\n",
    "    print(f\"Started downloading..\")\n",
    "    response=requests.get(url)\n",
    "    open(f\"Images/{name}.jpg\",\"wb\").write(response.content)\n",
    "    print(f\"Finished downloading..\")\n",
    "url=\"https://picsum.photos/id/237/2000/3000\"\n",
    "         \n",
    "for i in range(5):\n",
    "    download(url,i)\n",
    "    \n",
    "    \n",
    "# this code will download this above URL files for 5 times, this is basically brute force algo, it wont download in series\n",
    "#here's concept of multiprocessing comes"
   ]
  },
  {
   "cell_type": "code",
   "execution_count": null,
   "id": "e5da005b",
   "metadata": {},
   "outputs": [],
   "source": [
    "#using multiprocessig...\n",
    "\n",
    "url=\"https://picsum.photos/id/237/2000/3000\"\n",
    "pros=[]\n",
    "for i in range(10):\n",
    "    p=multiprocessing.Process(target=download,args=([url,i]))\n",
    "    p.start()\n",
    "    pros.append(p)\n",
    "\n",
    "for p in pros:\n",
    "    p.join()"
   ]
  },
  {
   "cell_type": "code",
   "execution_count": 1,
   "id": "02ddb4e8",
   "metadata": {},
   "outputs": [
    {
     "name": "stdout",
     "output_type": "stream",
     "text": [
      "Total time taken:  0.4350115999999957\n",
      "Done!\n"
     ]
    }
   ],
   "source": [
    "import time\n",
    "import multiprocessing as mp\n",
    "\n",
    "def email(second, event):\n",
    "    print(\"This is email Intent..\")\n",
    "    time.sleep(second)\n",
    "#     return 'a'\n",
    "\n",
    "def genai(second, event):\n",
    "    print(\"This is GenAI...\")\n",
    "    time.sleep(second)\n",
    "#     return 'b'\n",
    "\n",
    "if __name__ == '__main__':\n",
    "    start = time.perf_counter()    \n",
    "    \n",
    "    email_process = mp.Process(target=email, args=(3, ))\n",
    "    genai_process = mp.Process(target=genai, args=(5, ))\n",
    "    \n",
    "    email_process.start()\n",
    "    genai_process.start()\n",
    "        \n",
    "    email_process.join()\n",
    "    genai_process.join()\n",
    "    \n",
    "    end = time.perf_counter()\n",
    "    print(\"Total time taken: \", end - start)\n",
    "    print(\"Done!\")"
   ]
  },
  {
   "cell_type": "code",
   "execution_count": null,
   "id": "eedf2db8",
   "metadata": {},
   "outputs": [],
   "source": [
    "import time\n",
    "import multiprocessing as mp\n",
    "\n",
    "def email(second):\n",
    "    print(\"This is email Intent..\")\n",
    "    time.sleep(second)\n",
    "    return 'a'\n",
    "\n",
    "def genai(second):\n",
    "    print(\"This is GenAI...\")\n",
    "    time.sleep(second)\n",
    "    return 'b'\n",
    "\n",
    "if __name__ == '__main__':\n",
    "    start = time.perf_counter()    \n",
    "    \n",
    "    with mp.Pool(processes=2) as pool:\n",
    "        email_result = pool.apply_async(email, (3,))\n",
    "        genai_result = pool.apply_async(genai, (5,))\n",
    "        \n",
    "        email_result_value = email_result.get()\n",
    "        genai_result_value = genai_result.get()\n",
    "    \n",
    "    end = time.perf_counter()\n",
    "    \n",
    "    print(\"Total time taken: \", end - start)\n",
    "    print(\"Email result:\", email_result_value)\n",
    "    print(\"GenAI result:\", genai_result_value)\n",
    "    print(\"Done!\")\n",
    "\n",
    "    \n",
    "#Multiprocessing is very complex because of GIL concept(Global Interpretor Lock)"
   ]
  },
  {
   "cell_type": "code",
   "execution_count": null,
   "id": "89b07d01",
   "metadata": {},
   "outputs": [],
   "source": []
  }
 ],
 "metadata": {
  "kernelspec": {
   "display_name": "Python 3 (ipykernel)",
   "language": "python",
   "name": "python3"
  },
  "language_info": {
   "codemirror_mode": {
    "name": "ipython",
    "version": 3
   },
   "file_extension": ".py",
   "mimetype": "text/x-python",
   "name": "python",
   "nbconvert_exporter": "python",
   "pygments_lexer": "ipython3",
   "version": "3.9.13"
  }
 },
 "nbformat": 4,
 "nbformat_minor": 5
}
