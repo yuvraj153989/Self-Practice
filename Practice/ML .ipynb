{
 "cells": [
  {
   "cell_type": "code",
   "execution_count": 1,
   "id": "80199cb6",
   "metadata": {},
   "outputs": [],
   "source": [
    "from scipy.spatial import distance"
   ]
  },
  {
   "cell_type": "code",
   "execution_count": 2,
   "id": "ee1a50bf",
   "metadata": {},
   "outputs": [],
   "source": [
    "p1=(1,2,3)\n",
    "p2=(4,5,6)\n",
    "p3=(7,8,9)\n",
    "ed=distance.euclidean(p1,p2)"
   ]
  },
  {
   "cell_type": "code",
   "execution_count": 7,
   "id": "1b1efe02",
   "metadata": {},
   "outputs": [
    {
     "name": "stdout",
     "output_type": "stream",
     "text": [
      "Euclidean distance is:  5.196152422706632\n"
     ]
    }
   ],
   "source": [
    "print(\"Euclidean distance is: \",ed)"
   ]
  },
  {
   "cell_type": "code",
   "execution_count": 9,
   "id": "96d97f4b",
   "metadata": {},
   "outputs": [
    {
     "name": "stdout",
     "output_type": "stream",
     "text": [
      "Manhattan distance is:  9\n"
     ]
    }
   ],
   "source": [
    "md=distance.cityblock(p1,p2)\n",
    "print(\"Manhattan distance is: \",md)"
   ]
  },
  {
   "cell_type": "code",
   "execution_count": 13,
   "id": "d76d2663",
   "metadata": {},
   "outputs": [
    {
     "data": {
      "text/plain": [
       "4.3267487109222245"
      ]
     },
     "execution_count": 13,
     "metadata": {},
     "output_type": "execute_result"
    }
   ],
   "source": [
    "m=distance.minkowski(p1,p2,p=3)\n",
    "m"
   ]
  },
  {
   "cell_type": "code",
   "execution_count": 16,
   "id": "121a855f",
   "metadata": {},
   "outputs": [
    {
     "data": {
      "text/plain": [
       "7.0"
      ]
     },
     "execution_count": 16,
     "metadata": {},
     "output_type": "execute_result"
    }
   ],
   "source": [
    "s1=\"euclidean\"\n",
    "s2=\"manhattan\"\n",
    "hd=distance.hamming(list(s1),list(s2))*len(s1)\n",
    "hd"
   ]
  },
  {
   "cell_type": "code",
   "execution_count": null,
   "id": "566bbd69",
   "metadata": {},
   "outputs": [],
   "source": []
  }
 ],
 "metadata": {
  "kernelspec": {
   "display_name": "Python 3 (ipykernel)",
   "language": "python",
   "name": "python3"
  },
  "language_info": {
   "codemirror_mode": {
    "name": "ipython",
    "version": 3
   },
   "file_extension": ".py",
   "mimetype": "text/x-python",
   "name": "python",
   "nbconvert_exporter": "python",
   "pygments_lexer": "ipython3",
   "version": "3.9.13"
  }
 },
 "nbformat": 4,
 "nbformat_minor": 5
}
