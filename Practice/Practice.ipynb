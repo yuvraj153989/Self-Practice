{
 "cells": [
  {
   "cell_type": "code",
   "execution_count": 1,
   "id": "c1e0ecf9",
   "metadata": {},
   "outputs": [],
   "source": [
    "s=lambda a,b:a+b"
   ]
  },
  {
   "cell_type": "code",
   "execution_count": 2,
   "id": "f1786ed0",
   "metadata": {},
   "outputs": [
    {
     "name": "stdout",
     "output_type": "stream",
     "text": [
      "3\n"
     ]
    }
   ],
   "source": [
    "print(s(2,1))"
   ]
  },
  {
   "cell_type": "code",
   "execution_count": 3,
   "id": "c146ead2",
   "metadata": {},
   "outputs": [
    {
     "name": "stdout",
     "output_type": "stream",
     "text": [
      "9\n"
     ]
    }
   ],
   "source": [
    "s=lambda x:x**2\n",
    "print(s(3))"
   ]
  },
  {
   "cell_type": "code",
   "execution_count": 4,
   "id": "2638f308",
   "metadata": {},
   "outputs": [
    {
     "name": "stdout",
     "output_type": "stream",
     "text": [
      "even\n"
     ]
    }
   ],
   "source": [
    "s=lambda a:a%2==0\n",
    "num=2\n",
    "if s(num):\n",
    "    print(\"even\")\n",
    "else:\n",
    "    print(\"odd\")"
   ]
  },
  {
   "cell_type": "code",
   "execution_count": 5,
   "id": "2bef83e8",
   "metadata": {},
   "outputs": [
    {
     "name": "stdout",
     "output_type": "stream",
     "text": [
      "i\n"
     ]
    }
   ],
   "source": [
    "s=lambda sr:sr[len(sr)-1]\n",
    "print(s(\"Hii\"))"
   ]
  },
  {
   "cell_type": "code",
   "execution_count": 6,
   "id": "c8df6998",
   "metadata": {},
   "outputs": [
    {
     "name": "stdout",
     "output_type": "stream",
     "text": [
      "6\n"
     ]
    }
   ],
   "source": [
    "s=lambda sr:len(sr)\n",
    "print(s(\"Yuvraj\"))"
   ]
  },
  {
   "cell_type": "code",
   "execution_count": 7,
   "id": "ee6ae5d1",
   "metadata": {},
   "outputs": [
    {
     "name": "stdout",
     "output_type": "stream",
     "text": [
      "['fig', 'date', 'apple', 'banana', 'cherry']\n"
     ]
    }
   ],
   "source": [
    "strings = [\"apple\", \"banana\", \"cherry\", \"date\", \"fig\"]\n",
    "sorted_strings = sorted(strings, key=lambda x: len(x))\n",
    "print(sorted_strings)"
   ]
  },
  {
   "cell_type": "code",
   "execution_count": 8,
   "id": "487de04c",
   "metadata": {},
   "outputs": [
    {
     "name": "stdout",
     "output_type": "stream",
     "text": [
      "[1, 3, 5, 7, 9, 11]\n"
     ]
    }
   ],
   "source": [
    "lt=[1,2,3,4,5,6,7,8,9,10,11]\n",
    "s=lambda x:x%2!=0\n",
    "res=list(filter(s,lt))\n",
    "print(res)"
   ]
  },
  {
   "cell_type": "code",
   "execution_count": 9,
   "id": "f06cfae5",
   "metadata": {},
   "outputs": [
    {
     "name": "stdout",
     "output_type": "stream",
     "text": [
      "{'name': 'Alice', 'score': 95}\n"
     ]
    }
   ],
   "source": [
    "data = [\n",
    "    {'name': 'Alice', 'score': 95},\n",
    "    {'name': 'Bob', 'score': 88},\n",
    "    {'name': 'Charlie', 'score': 92},\n",
    "    {'name': 'David', 'score': 78}\n",
    "]\n",
    "key_to_maximize = 'score'\n",
    "max_value = max(data, key=lambda x: x[key_to_maximize])\n",
    "print(max_value)"
   ]
  },
  {
   "cell_type": "code",
   "execution_count": 10,
   "id": "0e014550",
   "metadata": {},
   "outputs": [
    {
     "name": "stdout",
     "output_type": "stream",
     "text": [
      "[1, 4, 9, 16, 25]\n"
     ]
    }
   ],
   "source": [
    "lt=[1,2,3,4,5]\n",
    "s=lambda x:x**2\n",
    "res=list(map(s,lt))\n",
    "print(res)"
   ]
  },
  {
   "cell_type": "code",
   "execution_count": 11,
   "id": "0e075b31",
   "metadata": {},
   "outputs": [
    {
     "name": "stdout",
     "output_type": "stream",
     "text": [
      "{1: 'yuvraj', 2: 'singh', 3: 'kiit'}\n"
     ]
    }
   ],
   "source": [
    "k=[1,2,3]\n",
    "v=['yuvraj','singh','kiit']\n",
    "s=lambda k,v:dict(zip(k,v))\n",
    "res=s(k,v)\n",
    "print(res)"
   ]
  },
  {
   "cell_type": "code",
   "execution_count": 12,
   "id": "ddf75155",
   "metadata": {},
   "outputs": [
    {
     "name": "stdout",
     "output_type": "stream",
     "text": [
      "[5, 7, 9]\n"
     ]
    }
   ],
   "source": [
    "l1=[1,2,3]\n",
    "l2=[4,5,6]\n",
    "s=list(map(lambda l1,l2:l1+l2,l1,l2))\n",
    "print(s)"
   ]
  },
  {
   "cell_type": "code",
   "execution_count": 13,
   "id": "a02600fd",
   "metadata": {},
   "outputs": [
    {
     "name": "stdout",
     "output_type": "stream",
     "text": [
      "[-1.1111111111111112, 0.0, -0.43888888888888844, 6.855555555555558, -18.5]\n"
     ]
    }
   ],
   "source": [
    "lt = [30, 32, 31.21, 44.34, -1.30]\n",
    "s = lambda f, c: 5 * (f - 32) / 9\n",
    "celsius_temperatures = list(map(s, lt, [0] * len(lt)))  # Initialize a list of zeros for Celsius\n",
    "print(celsius_temperatures)"
   ]
  },
  {
   "cell_type": "code",
   "execution_count": 14,
   "id": "b3077156",
   "metadata": {},
   "outputs": [],
   "source": [
    "#Exceptional Handling"
   ]
  },
  {
   "cell_type": "code",
   "execution_count": 16,
   "id": "332b2f82",
   "metadata": {},
   "outputs": [
    {
     "name": "stdout",
     "output_type": "stream",
     "text": [
      "total elements: 3\n",
      "1\n",
      "\n"
     ]
    },
    {
     "ename": "SyntaxError",
     "evalue": "unexpected EOF while parsing (<string>, line 0)",
     "output_type": "error",
     "traceback": [
      "Traceback \u001b[1;36m(most recent call last)\u001b[0m:\n",
      "  File \u001b[0;32m\"C:\\ProgramData\\Anaconda3\\lib\\site-packages\\IPython\\core\\interactiveshell.py\"\u001b[0m, line \u001b[0;32m3457\u001b[0m, in \u001b[0;35mrun_code\u001b[0m\n    exec(code_obj, self.user_global_ns, self.user_ns)\n",
      "\u001b[1;36m  File \u001b[1;32m\"C:\\Users\\KIIT\\AppData\\Local\\Temp\\ipykernel_22500\\2603450162.py\"\u001b[1;36m, line \u001b[1;32m4\u001b[1;36m, in \u001b[1;35m<module>\u001b[1;36m\u001b[0m\n\u001b[1;33m    lt.append(eval(input()))\u001b[0m\n",
      "\u001b[1;36m  File \u001b[1;32m\"<string>\"\u001b[1;36m, line \u001b[1;32munknown\u001b[0m\n\u001b[1;33m    \u001b[0m\n\u001b[1;37m    ^\u001b[0m\n\u001b[1;31mSyntaxError\u001b[0m\u001b[1;31m:\u001b[0m unexpected EOF while parsing\n"
     ]
    }
   ],
   "source": [
    "l=int(input(\"total elements: \"))\n",
    "lt=[]\n",
    "for i in range(l):\n",
    "    lt.append(eval(input()))\n",
    "b=int(input('enter index number: '))\n",
    "try:\n",
    "    print(lt[b])\n",
    "except IndexError:\n",
    "    print('Cant divide by 0')\n",
    "    \n",
    "print(\"Code still running..\")"
   ]
  },
  {
   "cell_type": "markdown",
   "id": "67449c02",
   "metadata": {},
   "source": []
  },
  {
   "cell_type": "code",
   "execution_count": 17,
   "id": "32004e67",
   "metadata": {},
   "outputs": [
    {
     "name": "stdout",
     "output_type": "stream",
     "text": [
      "enter: yuvraj\n",
      "Cant convert string to integer\n",
      "Code still running..\n"
     ]
    }
   ],
   "source": [
    "s1=input(\"enter: \")\n",
    "try:\n",
    "    print(int(s1))\n",
    "except ValueError:\n",
    "    print('Cant convert string to integer') \n",
    "print(\"Code still running..\")"
   ]
  },
  {
   "cell_type": "code",
   "execution_count": 21,
   "id": "4b9219a8",
   "metadata": {},
   "outputs": [
    {
     "name": "stdout",
     "output_type": "stream",
     "text": [
      "enter: -2\n",
      "Its a Negative Number\n",
      "Code still running..\n"
     ]
    }
   ],
   "source": [
    "s1=int(input(\"enter: \"))\n",
    "class NegativeValueError(Exception):\n",
    "    pass\n",
    "try:\n",
    "    if s1<0:\n",
    "        raise NegativeValueError(\"Its a Negative Number\") \n",
    "except NegativeValueError as e:\n",
    "    print(e) \n",
    "print(\"Code still running..\")"
   ]
  },
  {
   "cell_type": "code",
   "execution_count": null,
   "id": "6a8eb592",
   "metadata": {},
   "outputs": [],
   "source": []
  },
  {
   "cell_type": "code",
   "execution_count": null,
   "id": "aeb77b56",
   "metadata": {},
   "outputs": [],
   "source": []
  }
 ],
 "metadata": {
  "kernelspec": {
   "display_name": "Python 3 (ipykernel)",
   "language": "python",
   "name": "python3"
  },
  "language_info": {
   "codemirror_mode": {
    "name": "ipython",
    "version": 3
   },
   "file_extension": ".py",
   "mimetype": "text/x-python",
   "name": "python",
   "nbconvert_exporter": "python",
   "pygments_lexer": "ipython3",
   "version": "3.9.13"
  }
 },
 "nbformat": 4,
 "nbformat_minor": 5
}
