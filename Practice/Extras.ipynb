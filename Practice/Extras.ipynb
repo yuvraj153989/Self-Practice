{
 "cells": [
  {
   "cell_type": "code",
   "execution_count": 1,
   "id": "7b39edd2",
   "metadata": {},
   "outputs": [
    {
     "name": "stdout",
     "output_type": "stream",
     "text": [
      "8\n"
     ]
    }
   ],
   "source": [
    "def cube(x):\n",
    "    return x*x*x\n",
    "print(cube(2))"
   ]
  },
  {
   "cell_type": "code",
   "execution_count": 2,
   "id": "eff361c5",
   "metadata": {},
   "outputs": [
    {
     "name": "stdout",
     "output_type": "stream",
     "text": [
      "[1, 8, 27, 64]\n"
     ]
    }
   ],
   "source": [
    "# for  lt=[1,2,3], we want to calculate cube,\n",
    "# how to do it?\n",
    "lt=[1,2,3,4]\n",
    "newl=[]\n",
    "for item in lt:\n",
    "    newl.append(cube(item))\n",
    "print(newl)\n",
    "\n",
    "#there is a shortcut way.."
   ]
  },
  {
   "cell_type": "code",
   "execution_count": 5,
   "id": "cf192563",
   "metadata": {},
   "outputs": [
    {
     "name": "stdout",
     "output_type": "stream",
     "text": [
      "[1, 8, 27, 64]\n"
     ]
    }
   ],
   "source": [
    "newl=list(map(cube,lt))\n",
    "print(newl)"
   ]
  },
  {
   "cell_type": "code",
   "execution_count": null,
   "id": "19d13cb0",
   "metadata": {},
   "outputs": [],
   "source": []
  },
  {
   "cell_type": "code",
   "execution_count": null,
   "id": "750dd5c6",
   "metadata": {},
   "outputs": [],
   "source": []
  },
  {
   "cell_type": "code",
   "execution_count": 6,
   "id": "c6e209d0",
   "metadata": {},
   "outputs": [],
   "source": [
    "#Filter function"
   ]
  },
  {
   "cell_type": "code",
   "execution_count": 15,
   "id": "0513f7b7",
   "metadata": {},
   "outputs": [],
   "source": [
    "def ffunction(a):\n",
    "    return a<3"
   ]
  },
  {
   "cell_type": "code",
   "execution_count": 16,
   "id": "fca5dd2a",
   "metadata": {},
   "outputs": [
    {
     "name": "stdout",
     "output_type": "stream",
     "text": [
      "[1, 2]\n"
     ]
    }
   ],
   "source": [
    "fl=list(filter(ffunction,lt))\n",
    "print(fl)"
   ]
  },
  {
   "cell_type": "code",
   "execution_count": 17,
   "id": "2b623e73",
   "metadata": {},
   "outputs": [],
   "source": [
    "#reduce function"
   ]
  },
  {
   "cell_type": "code",
   "execution_count": 18,
   "id": "a90b751a",
   "metadata": {},
   "outputs": [
    {
     "name": "stdout",
     "output_type": "stream",
     "text": [
      "15\n"
     ]
    }
   ],
   "source": [
    "from functools import reduce\n",
    "num=[1,2,3,4,5]\n",
    "\n",
    "#after applying this function on every numbers, it'll reduce like this\n",
    "#1,2=3\n",
    "#result,3=6\n",
    "#result,4=10\n",
    "#result,5=10\n",
    "def mysum(x,y):\n",
    "    return x+y\n",
    "sum=reduce(mysum,num)\n",
    "print(sum)"
   ]
  },
  {
   "cell_type": "code",
   "execution_count": 19,
   "id": "0a5c1d12",
   "metadata": {},
   "outputs": [],
   "source": [
    "#Exceptional Handling in Python.."
   ]
  },
  {
   "cell_type": "code",
   "execution_count": 31,
   "id": "66c8036c",
   "metadata": {},
   "outputs": [
    {
     "name": "stdout",
     "output_type": "stream",
     "text": [
      "enter a number: yu\n",
      "Invalid Input\n",
      "Code still running..\n"
     ]
    }
   ],
   "source": [
    "a=int(input('enter a number: ')\n",
    "try:\n",
    "    for i in range(1,11):\n",
    "        x=int(a)*i\n",
    "        print(x)\n",
    "except:\n",
    "    print('Invalid Input')\n",
    "    \n",
    "print(\"Code still running..\")"
   ]
  },
  {
   "cell_type": "code",
   "execution_count": null,
   "id": "30665412",
   "metadata": {},
   "outputs": [],
   "source": []
  }
 ],
 "metadata": {
  "kernelspec": {
   "display_name": "Python 3 (ipykernel)",
   "language": "python",
   "name": "python3"
  },
  "language_info": {
   "codemirror_mode": {
    "name": "ipython",
    "version": 3
   },
   "file_extension": ".py",
   "mimetype": "text/x-python",
   "name": "python",
   "nbconvert_exporter": "python",
   "pygments_lexer": "ipython3",
   "version": "3.9.13"
  }
 },
 "nbformat": 4,
 "nbformat_minor": 5
}
