{
 "cells": [
  {
   "cell_type": "code",
   "execution_count": 1,
   "id": "02bf16b8",
   "metadata": {},
   "outputs": [],
   "source": [
    "import numpy as np\n",
    "import pandas as pd\n",
    "import matplotlib.pyplot as plt\n",
    "import seaborn as sns"
   ]
  },
  {
   "cell_type": "code",
   "execution_count": 10,
   "id": "a91e813a",
   "metadata": {},
   "outputs": [],
   "source": [
    "df=pd.read_csv(\"C:\\\\Users\\\\KIIT\\\\Desktop\\\\Datasets\\\\IPL\\\\match.csv\")"
   ]
  },
  {
   "cell_type": "code",
   "execution_count": 11,
   "id": "60c8f348",
   "metadata": {},
   "outputs": [
    {
     "data": {
      "text/html": [
       "<div>\n",
       "<style scoped>\n",
       "    .dataframe tbody tr th:only-of-type {\n",
       "        vertical-align: middle;\n",
       "    }\n",
       "\n",
       "    .dataframe tbody tr th {\n",
       "        vertical-align: top;\n",
       "    }\n",
       "\n",
       "    .dataframe thead th {\n",
       "        text-align: right;\n",
       "    }\n",
       "</style>\n",
       "<table border=\"1\" class=\"dataframe\">\n",
       "  <thead>\n",
       "    <tr style=\"text-align: right;\">\n",
       "      <th></th>\n",
       "      <th>id</th>\n",
       "      <th>city</th>\n",
       "      <th>date</th>\n",
       "      <th>player_of_match</th>\n",
       "      <th>venue</th>\n",
       "      <th>neutral_venue</th>\n",
       "      <th>team1</th>\n",
       "      <th>team2</th>\n",
       "      <th>toss_winner</th>\n",
       "      <th>toss_decision</th>\n",
       "      <th>winner</th>\n",
       "      <th>result</th>\n",
       "      <th>result_margin</th>\n",
       "      <th>eliminator</th>\n",
       "      <th>method</th>\n",
       "      <th>umpire1</th>\n",
       "      <th>umpire2</th>\n",
       "    </tr>\n",
       "  </thead>\n",
       "  <tbody>\n",
       "    <tr>\n",
       "      <th>0</th>\n",
       "      <td>335982</td>\n",
       "      <td>Bangalore</td>\n",
       "      <td>2008-04-18</td>\n",
       "      <td>BB McCullum</td>\n",
       "      <td>M Chinnaswamy Stadium</td>\n",
       "      <td>0</td>\n",
       "      <td>Royal Challengers Bangalore</td>\n",
       "      <td>Kolkata Knight Riders</td>\n",
       "      <td>Royal Challengers Bangalore</td>\n",
       "      <td>field</td>\n",
       "      <td>Kolkata Knight Riders</td>\n",
       "      <td>runs</td>\n",
       "      <td>140.0</td>\n",
       "      <td>N</td>\n",
       "      <td>NaN</td>\n",
       "      <td>Asad Rauf</td>\n",
       "      <td>RE Koertzen</td>\n",
       "    </tr>\n",
       "    <tr>\n",
       "      <th>1</th>\n",
       "      <td>335983</td>\n",
       "      <td>Chandigarh</td>\n",
       "      <td>2008-04-19</td>\n",
       "      <td>MEK Hussey</td>\n",
       "      <td>Punjab Cricket Association Stadium, Mohali</td>\n",
       "      <td>0</td>\n",
       "      <td>Kings XI Punjab</td>\n",
       "      <td>Chennai Super Kings</td>\n",
       "      <td>Chennai Super Kings</td>\n",
       "      <td>bat</td>\n",
       "      <td>Chennai Super Kings</td>\n",
       "      <td>runs</td>\n",
       "      <td>33.0</td>\n",
       "      <td>N</td>\n",
       "      <td>NaN</td>\n",
       "      <td>MR Benson</td>\n",
       "      <td>SL Shastri</td>\n",
       "    </tr>\n",
       "    <tr>\n",
       "      <th>2</th>\n",
       "      <td>335984</td>\n",
       "      <td>Delhi</td>\n",
       "      <td>2008-04-19</td>\n",
       "      <td>MF Maharoof</td>\n",
       "      <td>Feroz Shah Kotla</td>\n",
       "      <td>0</td>\n",
       "      <td>Delhi Daredevils</td>\n",
       "      <td>Rajasthan Royals</td>\n",
       "      <td>Rajasthan Royals</td>\n",
       "      <td>bat</td>\n",
       "      <td>Delhi Daredevils</td>\n",
       "      <td>wickets</td>\n",
       "      <td>9.0</td>\n",
       "      <td>N</td>\n",
       "      <td>NaN</td>\n",
       "      <td>Aleem Dar</td>\n",
       "      <td>GA Pratapkumar</td>\n",
       "    </tr>\n",
       "    <tr>\n",
       "      <th>3</th>\n",
       "      <td>335985</td>\n",
       "      <td>Mumbai</td>\n",
       "      <td>2008-04-20</td>\n",
       "      <td>MV Boucher</td>\n",
       "      <td>Wankhede Stadium</td>\n",
       "      <td>0</td>\n",
       "      <td>Mumbai Indians</td>\n",
       "      <td>Royal Challengers Bangalore</td>\n",
       "      <td>Mumbai Indians</td>\n",
       "      <td>bat</td>\n",
       "      <td>Royal Challengers Bangalore</td>\n",
       "      <td>wickets</td>\n",
       "      <td>5.0</td>\n",
       "      <td>N</td>\n",
       "      <td>NaN</td>\n",
       "      <td>SJ Davis</td>\n",
       "      <td>DJ Harper</td>\n",
       "    </tr>\n",
       "    <tr>\n",
       "      <th>4</th>\n",
       "      <td>335986</td>\n",
       "      <td>Kolkata</td>\n",
       "      <td>2008-04-20</td>\n",
       "      <td>DJ Hussey</td>\n",
       "      <td>Eden Gardens</td>\n",
       "      <td>0</td>\n",
       "      <td>Kolkata Knight Riders</td>\n",
       "      <td>Deccan Chargers</td>\n",
       "      <td>Deccan Chargers</td>\n",
       "      <td>bat</td>\n",
       "      <td>Kolkata Knight Riders</td>\n",
       "      <td>wickets</td>\n",
       "      <td>5.0</td>\n",
       "      <td>N</td>\n",
       "      <td>NaN</td>\n",
       "      <td>BF Bowden</td>\n",
       "      <td>K Hariharan</td>\n",
       "    </tr>\n",
       "  </tbody>\n",
       "</table>\n",
       "</div>"
      ],
      "text/plain": [
       "       id        city        date player_of_match  \\\n",
       "0  335982   Bangalore  2008-04-18     BB McCullum   \n",
       "1  335983  Chandigarh  2008-04-19      MEK Hussey   \n",
       "2  335984       Delhi  2008-04-19     MF Maharoof   \n",
       "3  335985      Mumbai  2008-04-20      MV Boucher   \n",
       "4  335986     Kolkata  2008-04-20       DJ Hussey   \n",
       "\n",
       "                                        venue  neutral_venue  \\\n",
       "0                       M Chinnaswamy Stadium              0   \n",
       "1  Punjab Cricket Association Stadium, Mohali              0   \n",
       "2                            Feroz Shah Kotla              0   \n",
       "3                            Wankhede Stadium              0   \n",
       "4                                Eden Gardens              0   \n",
       "\n",
       "                         team1                        team2  \\\n",
       "0  Royal Challengers Bangalore        Kolkata Knight Riders   \n",
       "1              Kings XI Punjab          Chennai Super Kings   \n",
       "2             Delhi Daredevils             Rajasthan Royals   \n",
       "3               Mumbai Indians  Royal Challengers Bangalore   \n",
       "4        Kolkata Knight Riders              Deccan Chargers   \n",
       "\n",
       "                   toss_winner toss_decision                       winner  \\\n",
       "0  Royal Challengers Bangalore         field        Kolkata Knight Riders   \n",
       "1          Chennai Super Kings           bat          Chennai Super Kings   \n",
       "2             Rajasthan Royals           bat             Delhi Daredevils   \n",
       "3               Mumbai Indians           bat  Royal Challengers Bangalore   \n",
       "4              Deccan Chargers           bat        Kolkata Knight Riders   \n",
       "\n",
       "    result  result_margin eliminator method    umpire1         umpire2  \n",
       "0     runs          140.0          N    NaN  Asad Rauf     RE Koertzen  \n",
       "1     runs           33.0          N    NaN  MR Benson      SL Shastri  \n",
       "2  wickets            9.0          N    NaN  Aleem Dar  GA Pratapkumar  \n",
       "3  wickets            5.0          N    NaN   SJ Davis       DJ Harper  \n",
       "4  wickets            5.0          N    NaN  BF Bowden     K Hariharan  "
      ]
     },
     "execution_count": 11,
     "metadata": {},
     "output_type": "execute_result"
    }
   ],
   "source": [
    "df.head()"
   ]
  },
  {
   "cell_type": "code",
   "execution_count": 12,
   "id": "c3eae8f0",
   "metadata": {},
   "outputs": [
    {
     "data": {
      "text/plain": [
       "id                   0\n",
       "city                13\n",
       "date                 0\n",
       "player_of_match      4\n",
       "venue                0\n",
       "neutral_venue        0\n",
       "team1                0\n",
       "team2                0\n",
       "toss_winner          0\n",
       "toss_decision        0\n",
       "winner               4\n",
       "result               4\n",
       "result_margin       17\n",
       "eliminator           4\n",
       "method             797\n",
       "umpire1              0\n",
       "umpire2              0\n",
       "dtype: int64"
      ]
     },
     "execution_count": 12,
     "metadata": {},
     "output_type": "execute_result"
    }
   ],
   "source": [
    "df.isnull().sum()"
   ]
  },
  {
   "cell_type": "code",
   "execution_count": 13,
   "id": "b2d91cf4",
   "metadata": {},
   "outputs": [],
   "source": [
    "df=df.drop(columns=['method'],axis=1)"
   ]
  },
  {
   "cell_type": "code",
   "execution_count": 14,
   "id": "b8abe9f1",
   "metadata": {},
   "outputs": [
    {
     "name": "stderr",
     "output_type": "stream",
     "text": [
      "C:\\Users\\KIIT\\AppData\\Local\\Temp\\ipykernel_13096\\308181716.py:1: FutureWarning: Dropping of nuisance columns in DataFrame reductions (with 'numeric_only=None') is deprecated; in a future version this will raise TypeError.  Select only valid columns before calling the reduction.\n",
      "  df=df.fillna(df.median())\n"
     ]
    }
   ],
   "source": [
    "df=df.fillna(df.median())"
   ]
  },
  {
   "cell_type": "code",
   "execution_count": 15,
   "id": "1ca2b456",
   "metadata": {},
   "outputs": [
    {
     "data": {
      "text/plain": [
       "id                  0\n",
       "city               13\n",
       "date                0\n",
       "player_of_match     4\n",
       "venue               0\n",
       "neutral_venue       0\n",
       "team1               0\n",
       "team2               0\n",
       "toss_winner         0\n",
       "toss_decision       0\n",
       "winner              4\n",
       "result              4\n",
       "result_margin       0\n",
       "eliminator          4\n",
       "umpire1             0\n",
       "umpire2             0\n",
       "dtype: int64"
      ]
     },
     "execution_count": 15,
     "metadata": {},
     "output_type": "execute_result"
    }
   ],
   "source": [
    "df.isnull().sum()"
   ]
  },
  {
   "cell_type": "code",
   "execution_count": 16,
   "id": "5b70577b",
   "metadata": {},
   "outputs": [],
   "source": [
    "df=df.dropna()"
   ]
  },
  {
   "cell_type": "code",
   "execution_count": 17,
   "id": "99b13270",
   "metadata": {},
   "outputs": [
    {
     "data": {
      "text/plain": [
       "id                 0\n",
       "city               0\n",
       "date               0\n",
       "player_of_match    0\n",
       "venue              0\n",
       "neutral_venue      0\n",
       "team1              0\n",
       "team2              0\n",
       "toss_winner        0\n",
       "toss_decision      0\n",
       "winner             0\n",
       "result             0\n",
       "result_margin      0\n",
       "eliminator         0\n",
       "umpire1            0\n",
       "umpire2            0\n",
       "dtype: int64"
      ]
     },
     "execution_count": 17,
     "metadata": {},
     "output_type": "execute_result"
    }
   ],
   "source": [
    "df.isnull().sum()"
   ]
  },
  {
   "cell_type": "code",
   "execution_count": 18,
   "id": "f1b3e4ec",
   "metadata": {},
   "outputs": [
    {
     "data": {
      "text/plain": [
       "(799, 16)"
      ]
     },
     "execution_count": 18,
     "metadata": {},
     "output_type": "execute_result"
    }
   ],
   "source": [
    "df.shape"
   ]
  },
  {
   "cell_type": "code",
   "execution_count": 19,
   "id": "98ad550f",
   "metadata": {},
   "outputs": [
    {
     "data": {
      "text/html": [
       "<div>\n",
       "<style scoped>\n",
       "    .dataframe tbody tr th:only-of-type {\n",
       "        vertical-align: middle;\n",
       "    }\n",
       "\n",
       "    .dataframe tbody tr th {\n",
       "        vertical-align: top;\n",
       "    }\n",
       "\n",
       "    .dataframe thead th {\n",
       "        text-align: right;\n",
       "    }\n",
       "</style>\n",
       "<table border=\"1\" class=\"dataframe\">\n",
       "  <thead>\n",
       "    <tr style=\"text-align: right;\">\n",
       "      <th></th>\n",
       "      <th>id</th>\n",
       "      <th>city</th>\n",
       "      <th>date</th>\n",
       "      <th>player_of_match</th>\n",
       "      <th>venue</th>\n",
       "      <th>neutral_venue</th>\n",
       "      <th>team1</th>\n",
       "      <th>team2</th>\n",
       "      <th>toss_winner</th>\n",
       "      <th>toss_decision</th>\n",
       "      <th>winner</th>\n",
       "      <th>result</th>\n",
       "      <th>result_margin</th>\n",
       "      <th>eliminator</th>\n",
       "      <th>umpire1</th>\n",
       "      <th>umpire2</th>\n",
       "    </tr>\n",
       "  </thead>\n",
       "  <tbody>\n",
       "    <tr>\n",
       "      <th>0</th>\n",
       "      <td>335982</td>\n",
       "      <td>Bangalore</td>\n",
       "      <td>2008-04-18</td>\n",
       "      <td>BB McCullum</td>\n",
       "      <td>M Chinnaswamy Stadium</td>\n",
       "      <td>0</td>\n",
       "      <td>Royal Challengers Bangalore</td>\n",
       "      <td>Kolkata Knight Riders</td>\n",
       "      <td>Royal Challengers Bangalore</td>\n",
       "      <td>field</td>\n",
       "      <td>Kolkata Knight Riders</td>\n",
       "      <td>runs</td>\n",
       "      <td>140.0</td>\n",
       "      <td>N</td>\n",
       "      <td>Asad Rauf</td>\n",
       "      <td>RE Koertzen</td>\n",
       "    </tr>\n",
       "    <tr>\n",
       "      <th>1</th>\n",
       "      <td>335983</td>\n",
       "      <td>Chandigarh</td>\n",
       "      <td>2008-04-19</td>\n",
       "      <td>MEK Hussey</td>\n",
       "      <td>Punjab Cricket Association Stadium, Mohali</td>\n",
       "      <td>0</td>\n",
       "      <td>Kings XI Punjab</td>\n",
       "      <td>Chennai Super Kings</td>\n",
       "      <td>Chennai Super Kings</td>\n",
       "      <td>bat</td>\n",
       "      <td>Chennai Super Kings</td>\n",
       "      <td>runs</td>\n",
       "      <td>33.0</td>\n",
       "      <td>N</td>\n",
       "      <td>MR Benson</td>\n",
       "      <td>SL Shastri</td>\n",
       "    </tr>\n",
       "    <tr>\n",
       "      <th>2</th>\n",
       "      <td>335984</td>\n",
       "      <td>Delhi</td>\n",
       "      <td>2008-04-19</td>\n",
       "      <td>MF Maharoof</td>\n",
       "      <td>Feroz Shah Kotla</td>\n",
       "      <td>0</td>\n",
       "      <td>Delhi Daredevils</td>\n",
       "      <td>Rajasthan Royals</td>\n",
       "      <td>Rajasthan Royals</td>\n",
       "      <td>bat</td>\n",
       "      <td>Delhi Daredevils</td>\n",
       "      <td>wickets</td>\n",
       "      <td>9.0</td>\n",
       "      <td>N</td>\n",
       "      <td>Aleem Dar</td>\n",
       "      <td>GA Pratapkumar</td>\n",
       "    </tr>\n",
       "    <tr>\n",
       "      <th>3</th>\n",
       "      <td>335985</td>\n",
       "      <td>Mumbai</td>\n",
       "      <td>2008-04-20</td>\n",
       "      <td>MV Boucher</td>\n",
       "      <td>Wankhede Stadium</td>\n",
       "      <td>0</td>\n",
       "      <td>Mumbai Indians</td>\n",
       "      <td>Royal Challengers Bangalore</td>\n",
       "      <td>Mumbai Indians</td>\n",
       "      <td>bat</td>\n",
       "      <td>Royal Challengers Bangalore</td>\n",
       "      <td>wickets</td>\n",
       "      <td>5.0</td>\n",
       "      <td>N</td>\n",
       "      <td>SJ Davis</td>\n",
       "      <td>DJ Harper</td>\n",
       "    </tr>\n",
       "    <tr>\n",
       "      <th>4</th>\n",
       "      <td>335986</td>\n",
       "      <td>Kolkata</td>\n",
       "      <td>2008-04-20</td>\n",
       "      <td>DJ Hussey</td>\n",
       "      <td>Eden Gardens</td>\n",
       "      <td>0</td>\n",
       "      <td>Kolkata Knight Riders</td>\n",
       "      <td>Deccan Chargers</td>\n",
       "      <td>Deccan Chargers</td>\n",
       "      <td>bat</td>\n",
       "      <td>Kolkata Knight Riders</td>\n",
       "      <td>wickets</td>\n",
       "      <td>5.0</td>\n",
       "      <td>N</td>\n",
       "      <td>BF Bowden</td>\n",
       "      <td>K Hariharan</td>\n",
       "    </tr>\n",
       "  </tbody>\n",
       "</table>\n",
       "</div>"
      ],
      "text/plain": [
       "       id        city        date player_of_match  \\\n",
       "0  335982   Bangalore  2008-04-18     BB McCullum   \n",
       "1  335983  Chandigarh  2008-04-19      MEK Hussey   \n",
       "2  335984       Delhi  2008-04-19     MF Maharoof   \n",
       "3  335985      Mumbai  2008-04-20      MV Boucher   \n",
       "4  335986     Kolkata  2008-04-20       DJ Hussey   \n",
       "\n",
       "                                        venue  neutral_venue  \\\n",
       "0                       M Chinnaswamy Stadium              0   \n",
       "1  Punjab Cricket Association Stadium, Mohali              0   \n",
       "2                            Feroz Shah Kotla              0   \n",
       "3                            Wankhede Stadium              0   \n",
       "4                                Eden Gardens              0   \n",
       "\n",
       "                         team1                        team2  \\\n",
       "0  Royal Challengers Bangalore        Kolkata Knight Riders   \n",
       "1              Kings XI Punjab          Chennai Super Kings   \n",
       "2             Delhi Daredevils             Rajasthan Royals   \n",
       "3               Mumbai Indians  Royal Challengers Bangalore   \n",
       "4        Kolkata Knight Riders              Deccan Chargers   \n",
       "\n",
       "                   toss_winner toss_decision                       winner  \\\n",
       "0  Royal Challengers Bangalore         field        Kolkata Knight Riders   \n",
       "1          Chennai Super Kings           bat          Chennai Super Kings   \n",
       "2             Rajasthan Royals           bat             Delhi Daredevils   \n",
       "3               Mumbai Indians           bat  Royal Challengers Bangalore   \n",
       "4              Deccan Chargers           bat        Kolkata Knight Riders   \n",
       "\n",
       "    result  result_margin eliminator    umpire1         umpire2  \n",
       "0     runs          140.0          N  Asad Rauf     RE Koertzen  \n",
       "1     runs           33.0          N  MR Benson      SL Shastri  \n",
       "2  wickets            9.0          N  Aleem Dar  GA Pratapkumar  \n",
       "3  wickets            5.0          N   SJ Davis       DJ Harper  \n",
       "4  wickets            5.0          N  BF Bowden     K Hariharan  "
      ]
     },
     "execution_count": 19,
     "metadata": {},
     "output_type": "execute_result"
    }
   ],
   "source": [
    "df.head()"
   ]
  },
  {
   "cell_type": "code",
   "execution_count": 22,
   "id": "3d1b8efa",
   "metadata": {},
   "outputs": [
    {
     "data": {
      "text/plain": [
       "array([140.,  33.,   9.,   5.,   5.,   6.,   9.,   6.,   3.,  66.,   7.,\n",
       "         9.,  10.,   4.,  13.,   7.,  10.,   7.,  45.,   8.,   5.,   9.,\n",
       "        29.,   8.,   6.,   7.,   7.,   4.,   5.,   8.,   9.,  18.,  23.,\n",
       "         3.,   9.,  23.,   9.,  41.,  12.,   8.,   6.,  65.,  25.,   3.,\n",
       "         5.,   6.,   1.,  14.,   6.,   5.,  10.,   3.,   3.,   5.,   7.,\n",
       "       105.,   9.,   3.,  19.,  75.,  10.,   8.,  92.,  11.,  24.,   9.,\n",
       "         8.,   7.,  12.,   6.,  27.,   6.,  92.,   5.,   5.,   3.,   6.,\n",
       "        38.,   9.,   8.,   3.,  18.,   6.,   9.,  78.,  78.,   9.,  19.,\n",
       "         7.,  12.,   7.,   3.,   7.,  16.,   7.,  53.,   6.,   8.,  12.,\n",
       "         2.,   2.,   6.,   7.,   6.,   1.,  14.,   7.,   7.,   4.,  24.,\n",
       "         4.,  12.,   6.,   6.,   6.,  11.,   4.,   5.,   7.,  31.,   6.,\n",
       "         8.,  55.,  98.,  10.,   5.,   6.,  34.,   7.,  10.,   8.,   7.,\n",
       "        36.,  31.,   5.,   8.,  39.,  17.,  17.,  41.,  40.,   4.,   5.,\n",
       "        67.,  24.,   6.,  23.,  63.,   8.,  37.,   2.,  24.,   9.,  14.,\n",
       "         7.,   6.,   6.,   7.,   7.,  37.,  13.,  39.,   9.,   5.,   6.,\n",
       "         5.,  57.,   8.,   6.,  11.,   9.,  35.,  38.,   9.,  22.,   2.,\n",
       "         8.,   6.,   8.,   7.,   9.,   6.,   9.,   6.,   4.,  33.,   9.,\n",
       "         8.,  21.,   8.,   3.,   8.,   7.,  16.,   7.,   6.,  48.,   8.,\n",
       "         9.,  29.,  37.,   8.,  25.,   3.,   8.,  55.,  17.,   7.,  26.,\n",
       "        38.,   8.,   6.,  19.,  23.,   7.,  20.,   8.,  21.,  17.,   4.,\n",
       "        85.,  10.,  32.,   9.,   5.,  63.,   6.,  76.,   9.,  18.,   6.,\n",
       "         4.,  10.,  29.,   8.,   6., 111.,  11.,   7.,  10.,  82.,   8.,\n",
       "         5.,   6.,   4.,  43.,  58.,   8.,   8.,  28.,  31.,  20.,  74.,\n",
       "        22.,  22.,   5.,  42.,   8.,  27.,   5.,   7.,   5.,   5.,   7.,\n",
       "         2.,  59.,   7.,   5.,   6.,   8.,   9.,  13.,   5.,   7.,  20.,\n",
       "         6.,   5.,  46.,   8.,   4.,  18.,  37.,   7.,  47.,   1.,   5.,\n",
       "         5.,  13.,   6.,   4.,   1.,  10.,   7.,  43.,   2.,   5.,   6.,\n",
       "         7.,  25.,   9.,   4.,  35.,  27.,   9.,  45.,   4.,   5.,   5.,\n",
       "         5.,  32.,   6.,  21.,   5.,   6.,  34.,   9.,  10.,  18.,  38.,\n",
       "        86.,   5.,   6.,   2.,  22.,   5.,   9.,   8.,   8.,  19.,  44.,\n",
       "        10.,   8.,   7.,   3.,  41.,   4.,  48.,   6.,  24.,   4.,   8.,\n",
       "        11.,  87.,  86.,   5.,   4.,   7.,   9.,   7.,   5., 130.,   7.,\n",
       "         5.,   5.,   6.,   8.,  58.,  14.,  15.,   4.,   4.,  37.,   7.,\n",
       "         7.,  15.,  17.,   8.,   6.,   7.,  60.,   5.,   7.,   9.,  65.,\n",
       "        77.,   8.,  46.,   4.,   5.,  30.,   5.,   5.,   5.,   7.,   7.,\n",
       "        33.,  14.,   6.,  23.,  50.,  38.,  24.,   5.,  48.,   4.,   4.,\n",
       "        23.,  41.,   6.,   4.,  93.,   6.,  23.,   8.,  34.,   5.,   7.,\n",
       "         4.,  10.,   8.,  19.,   8.,  44.,  32.,  32.,   8.,   4.,   9.,\n",
       "         5.,   7.,   5.,  16.,   6.,   6.,  62.,   5.,   7.,  25.,   4.,\n",
       "         7.,   8.,   7.,  30.,   6.,  15.,  16.,   8.,   4.,   7.,   5.,\n",
       "        28.,   7.,  24.,   3.,   7.,   1.,  26.,  45.,   3.,   3.,  18.,\n",
       "         8.,   7.,   7.,   5.,   6.,   6.,   4.,   4.,   8.,  18.,   6.,\n",
       "         8.,  16.,  27.,  37.,   9.,  20.,  97.,  10.,  20.,  13.,   2.,\n",
       "         9.,   8.,   7.,  22.,  23.,  14.,  24.,  35.,   5., 138.,   7.,\n",
       "         6.,   1.,   6.,  39.,  12.,   5.,   6.,  22.,   5.,   6.,   7.,\n",
       "         9.,   9.,  25.,  71.,   3.,  41.,   9.,   9.,   5.,  45.,   6.,\n",
       "         7.,   8.,   8.,   3.,   6.,   7.,   7.,   6.,   6.,  10.,  13.,\n",
       "        10.,   5.,   6.,   2.,  25.,  34.,   1.,   6.,   3.,  27.,  15.,\n",
       "        23.,   8.,   5.,   8.,   7.,   7.,   5.,   7.,   9.,  85.,   5.,\n",
       "         1.,   4.,   6.,   7.,   7., 144.,   8.,   7.,  80.,   9.,  19.,\n",
       "        82.,   6.,   6.,   4.,   6.,  22.,   6.,   4.,  22.,   4.,   8.,\n",
       "        35.,   7.,  10.,   6.,  15.,   9.,   4.,   8.,  97.,   4.,   8.,\n",
       "         4.,   7.,  17.,  51.,   6.,  27.,   4.,   5.,  21.,  15.,   8.,\n",
       "         4.,  14.,   6.,  26.,  82.,   3.,   7.,   7.,   7.,  26.,  61.,\n",
       "         8.,  10.,  48.,   5.,   5.,   6.,   4.,   7.,  19.,  12., 146.,\n",
       "         6.,   6.,   7.,  14.,   2.,   7.,   7.,   8.,   9.,   9.,  10.,\n",
       "        20.,   7.,   6.,   1.,   1.,   6.,   4.,   9.,   5.,  10.,   1.,\n",
       "         4.,   7.,   5.,  19.,   4.,  71.,  46.,   7.,  15.,  64.,   9.,\n",
       "         6.,   4.,   3.,   4.,  31.,   5.,  13.,  55.,   8.,  11.,   6.,\n",
       "        13.,  14.,   4.,   6.,   6.,   6.,   7.,  13.,   6.,   5.,  15.,\n",
       "       102.,   9.,   4.,  31.,   5.,   8.,   7.,  10.,   6.,   3.,  14.,\n",
       "        34.,  30.,   5.,  11.,   5.,   2.,  25.,  14.,   8.,   7.,   6.,\n",
       "        37.,  14.,   6.,  28.,   6.,   5.,   8.,   8., 118.,   8.,  14.,\n",
       "         7.,  37.,   5.,   5.,  22.,  40.,   4.,   8.,   6.,   7.,   3.,\n",
       "         4.,   7.,   4.,   8.,   5.,  39.,   5.,  12.,   6.,  40.,  10.,\n",
       "         5.,   5.,   9.,   1.,   6.,   6.,  17.,   3.,  46.,   7.,  16.,\n",
       "        34.,  45.,  80.,   8.,   7.,   5.,   4.,   6.,   9.,   6.,   2.,\n",
       "         6.,   1.,   5.,   8.,   8.,  10.,  16.,  59.,  12.,   5.,  46.,\n",
       "        10.,   5.,  48.,  37.,   6.,   9.,   5.,  49.,   5.,  97.,  57.,\n",
       "         8.,  10.,   8.,  18.,   7.,   8.,   8.,  59.,   8.,  10.,   7.,\n",
       "         2.,  88.,  37.,   8.,   4.,  20.,   5.,  60.,   8.,  15.,   7.,\n",
       "        10.,   9.,   6.,   7.,  34.,  44.,  82.,   8.,  69.,  13.,   8.,\n",
       "         7.,   5.,   8.,  57.,   6.,  17.,   5.])"
      ]
     },
     "execution_count": 22,
     "metadata": {},
     "output_type": "execute_result"
    }
   ],
   "source": [
    "df['result_margin'].values"
   ]
  },
  {
   "cell_type": "code",
   "execution_count": 23,
   "id": "745e620c",
   "metadata": {},
   "outputs": [],
   "source": [
    "df_new=[140.,  33.,   9.,   5.,   5.,   6.,   9.,   6.,   3.,  66.,   7.,\n",
    "         9.,  10.,   4.,  13.,   7.,  10.,   7.,  45.,   8.,   5.,   9.,\n",
    "        29.,   8.,   6.,   7.,   7.,   4.,   5.,   8.,   9.,  18.,  23.,\n",
    "         3.,   9.,  23.,   9.,  41.,  12.,   8.,   6.,  65.,  25.,   3.,\n",
    "         5.,   6.,   1.,  14.,   6.,   5.,  10.,   3.,   3.,   5.,   7.,\n",
    "       105.,   9.,   3.,  19.,  75.,  10.,   8.,  92.,  11.,  24.,   9.,\n",
    "         8.,   7.,  12.,   6.,  27.,   6.,  92.,   5.,   5.,   3.,   6.,\n",
    "        38.,   9.,   8.,   3.,  18.,   6.,   9.,  78.,  78.,   9.,  19.,\n",
    "         7.,  12.,   7.,   3.,   7.,  16.,   7.,  53.,   6.,   8.,  12.,\n",
    "         2.,   2.,   6.,   7.,   6.,   1.,  14.,   7.,   7.,   4.,  24.,\n",
    "         4.,  12.,   6.,   6.,   6.,  11.,   4.,   5.,   7.,  31.,   6.,\n",
    "         8.,  55.,  98.,  10.,   5.,   6.,  34.,   7.,  10.,   8.,   7.,\n",
    "        36.,  31.,   5.,   8.,  39.,  17.,  17.,  41.,  40.,   4.,   5.,\n",
    "        67.,  24.,   6.,  23.,  63.,   8.,  37.,   2.,  24.,   9.,  14.,\n",
    "         7.,   6.,   6.,   7.,   7.,  37.,  13.,  39.,   9.,   5.,   6.,\n",
    "         5.,  57.,   8.,   6.,  11.,   9.,  35.,  38.,   9.,  22.,   2.,\n",
    "         8.,   6.,   8.,   7.,   9.,   6.,   9.,   6.,   4.,  33.,   9.,\n",
    "         8.,  21.,   8.,   3.,   8.,   7.,  16.,   7.,   6.,  48.,   8.,\n",
    "         9.,  29.,  37.,   8.,  25.,   3.,   8.,  55.,  17.,   7.,  26.,\n",
    "        38.,   8.,   6.,  19.,  23.,   7.,  20.,   8.,  21.,  17.,   4.,\n",
    "        85.,  10.,  32.,   9.,   5.,  63.,   6.,  76.,   9.,  18.,   6.,\n",
    "         4.,  10.,  29.,   8.,   6., 111.,  11.,   7.,  10.,  82.,   8.,\n",
    "         5.,   6.,   4.,  43.,  58.,   8.,   8.,  28.,  31.,  20.,  74.,\n",
    "        22.,  22.,   5.,  42.,   8.,  27.,   5.,   7.,   5.,   5.,   7.,\n",
    "         2.,  59.,   7.,   5.,   6.,   8.,   9.,  13.,   5.,   7.,  20.,\n",
    "         6.,   5.,  46.,   8.,   4.,  18.,  37.,   7.,  47.,   1.,   5.,\n",
    "         5.,  13.,   6.,   4.,   1.,  10.,   7.,  43.,   2.,   5.,   6.,\n",
    "         7.,  25.,   9.,   4.,  35.,  27.,   9.,  45.,   4.,   5.,   5.,\n",
    "         5.,  32.,   6.,  21.,   5.,   6.,  34.,   9.,  10.,  18.,  38.,\n",
    "        86.,   5.,   6.,   2.,  22.,   5.,   9.,   8.,   8.,  19.,  44.,\n",
    "        10.,   8.,   7.,   3.,  41.,   4.,  48.,   6.,  24.,   4.,   8.,\n",
    "        11.,  87.,  86.,   5.,   4.,   7.,   9.,   7.,   5., 130.,   7.,\n",
    "         5.,   5.,   6.,   8.,  58.,  14.,  15.,   4.,   4.,  37.,   7.,\n",
    "         7.,  15.,  17.,   8.,   6.,   7.,  60.,   5.,   7.,   9.,  65.,\n",
    "        77.,   8.,  46.,   4.,   5.,  30.,   5.,   5.,   5.,   7.,   7.,\n",
    "        33.,  14.,   6.,  23.,  50.,  38.,  24.,   5.,  48.,   4.,   4.,\n",
    "        23.,  41.,   6.,   4.,  93.,   6.,  23.,   8.,  34.,   5.,   7.,\n",
    "         4.,  10.,   8.,  19.,   8.,  44.,  32.,  32.,   8.,   4.,   9.,\n",
    "         5.,   7.,   5.,  16.,   6.,   6.,  62.,   5.,   7.,  25.,   4.,\n",
    "         7.,   8.,   7.,  30.,   6.,  15.,  16.,   8.,   4.,   7.,   5.,\n",
    "        28.,   7.,  24.,   3.,   7.,   1.,  26.,  45.,   3.,   3.,  18.,\n",
    "         8.,   7.,   7.,   5.,   6.,   6.,   4.,   4.,   8.,  18.,   6.,\n",
    "         8.,  16.,  27.,  37.,   9.,  20.,  97.,  10.,  20.,  13.,   2.,\n",
    "         9.,   8.,   7.,  22.,  23.,  14.,  24.,  35.,   5., 138.,   7.,\n",
    "         6.,   1.,   6.,  39.,  12.,   5.,   6.,  22.,   5.,   6.,   7.,\n",
    "         9.,   9.,  25.,  71.,   3.,  41.,   9.,   9.,   5.,  45.,   6.,\n",
    "         7.,   8.,   8.,   3.,   6.,   7.,   7.,   6.,   6.,  10.,  13.,\n",
    "        10.,   5.,   6.,   2.,  25.,  34.,   1.,   6.,   3.,  27.,  15.,\n",
    "        23.,   8.,   5.,   8.,   7.,   7.,   5.,   7.,   9.,  85.,   5.,\n",
    "         1.,   4.,   6.,   7.,   7., 144.,   8.,   7.,  80.,   9.,  19.,\n",
    "        82.,   6.,   6.,   4.,   6.,  22.,   6.,   4.,  22.,   4.,   8.,\n",
    "        35.,   7.,  10.,   6.,  15.,   9.,   4.,   8.,  97.,   4.,   8.,\n",
    "         4.,   7.,  17.,  51.,   6.,  27.,   4.,   5.,  21.,  15.,   8.,\n",
    "         4.,  14.,   6.,  26.,  82.,   3.,   7.,   7.,   7.,  26.,  61.,\n",
    "         8.,  10.,  48.,   5.,   5.,   6.,   4.,   7.,  19.,  12., 146.,\n",
    "         6.,   6.,   7.,  14.,   2.,   7.,   7.,   8.,   9.,   9.,  10.,\n",
    "        20.,   7.,   6.,   1.,   1.,   6.,   4.,   9.,   5.,  10.,   1.,\n",
    "         4.,   7.,   5.,  19.,   4.,  71.,  46.,   7.,  15.,  64.,   9.,\n",
    "         6.,   4.,   3.,   4.,  31.,   5.,  13.,  55.,   8.,  11.,   6.,\n",
    "        13.,  14.,   4.,   6.,   6.,   6.,   7.,  13.,   6.,   5.,  15.,\n",
    "       102.,   9.,   4.,  31.,   5.,   8.,   7.,  10.,   6.,   3.,  14.,\n",
    "        34.,  30.,   5.,  11.,   5.,   2.,  25.,  14.,   8.,   7.,   6.,\n",
    "        37.,  14.,   6.,  28.,   6.,   5.,   8.,   8., 118.,   8.,  14.,\n",
    "         7.,  37.,   5.,   5.,  22.,  40.,   4.,   8.,   6.,   7.,   3.,\n",
    "         4.,   7.,   4.,   8.,   5.,  39.,   5.,  12.,   6.,  40.,  10.,\n",
    "         5.,   5.,   9.,   1.,   6.,   6.,  17.,   3.,  46.,   7.,  16.,\n",
    "        34.,  45.,  80.,   8.,   7.,   5.,   4.,   6.,   9.,   6.,   2.,\n",
    "         6.,   1.,   5.,   8.,   8.,  10.,  16.,  59.,  12.,   5.,  46.,\n",
    "        10.,   5.,  48.,  37.,   6.,   9.,   5.,  49.,   5.,  97.,  57.,\n",
    "         8.,  10.,   8.,  18.,   7.,   8.,   8.,  59.,   8.,  10.,   7.,\n",
    "         2.,  88.,  37.,   8.,   4.,  20.,   5.,  60.,   8.,  15.,   7.,\n",
    "        10.,   9.,   6.,   7.,  34.,  44.,  82.,   8.,  69.,  13.,   8.,\n",
    "         7.,   5.,   8.,  57.,   6.,  17.,   5.]"
   ]
  },
  {
   "cell_type": "code",
   "execution_count": 24,
   "id": "f7fa74a7",
   "metadata": {},
   "outputs": [],
   "source": [
    "from sklearn.linear_model import Ridge"
   ]
  },
  {
   "cell_type": "code",
   "execution_count": 25,
   "id": "0ae3eba2",
   "metadata": {},
   "outputs": [],
   "source": [
    "from sklearn.model_selection import GridSearchCV"
   ]
  },
  {
   "cell_type": "code",
   "execution_count": 26,
   "id": "f4703a8b",
   "metadata": {},
   "outputs": [],
   "source": [
    "df=pd.read_csv(\"C:\\\\Users\\\\KIIT\\\\Desktop\\\\Datasets\\\\student.csv\")"
   ]
  },
  {
   "cell_type": "code",
   "execution_count": 27,
   "id": "155072f5",
   "metadata": {},
   "outputs": [
    {
     "data": {
      "text/html": [
       "<div>\n",
       "<style scoped>\n",
       "    .dataframe tbody tr th:only-of-type {\n",
       "        vertical-align: middle;\n",
       "    }\n",
       "\n",
       "    .dataframe tbody tr th {\n",
       "        vertical-align: top;\n",
       "    }\n",
       "\n",
       "    .dataframe thead th {\n",
       "        text-align: right;\n",
       "    }\n",
       "</style>\n",
       "<table border=\"1\" class=\"dataframe\">\n",
       "  <thead>\n",
       "    <tr style=\"text-align: right;\">\n",
       "      <th></th>\n",
       "      <th>study_hours</th>\n",
       "      <th>student_marks</th>\n",
       "    </tr>\n",
       "  </thead>\n",
       "  <tbody>\n",
       "    <tr>\n",
       "      <th>0</th>\n",
       "      <td>6.83</td>\n",
       "      <td>78.50</td>\n",
       "    </tr>\n",
       "    <tr>\n",
       "      <th>1</th>\n",
       "      <td>6.56</td>\n",
       "      <td>76.74</td>\n",
       "    </tr>\n",
       "    <tr>\n",
       "      <th>2</th>\n",
       "      <td>NaN</td>\n",
       "      <td>78.68</td>\n",
       "    </tr>\n",
       "    <tr>\n",
       "      <th>3</th>\n",
       "      <td>5.67</td>\n",
       "      <td>71.82</td>\n",
       "    </tr>\n",
       "    <tr>\n",
       "      <th>4</th>\n",
       "      <td>8.67</td>\n",
       "      <td>84.19</td>\n",
       "    </tr>\n",
       "  </tbody>\n",
       "</table>\n",
       "</div>"
      ],
      "text/plain": [
       "   study_hours  student_marks\n",
       "0         6.83          78.50\n",
       "1         6.56          76.74\n",
       "2          NaN          78.68\n",
       "3         5.67          71.82\n",
       "4         8.67          84.19"
      ]
     },
     "execution_count": 27,
     "metadata": {},
     "output_type": "execute_result"
    }
   ],
   "source": [
    "df.head()"
   ]
  },
  {
   "cell_type": "code",
   "execution_count": 28,
   "id": "653f6221",
   "metadata": {},
   "outputs": [
    {
     "data": {
      "text/plain": [
       "study_hours      5\n",
       "student_marks    0\n",
       "dtype: int64"
      ]
     },
     "execution_count": 28,
     "metadata": {},
     "output_type": "execute_result"
    }
   ],
   "source": [
    "df.isnull().sum()"
   ]
  },
  {
   "cell_type": "code",
   "execution_count": 31,
   "id": "fe836140",
   "metadata": {},
   "outputs": [
    {
     "name": "stderr",
     "output_type": "stream",
     "text": [
      "C:\\ProgramData\\Anaconda3\\lib\\site-packages\\seaborn\\distributions.py:2619: FutureWarning: `distplot` is a deprecated function and will be removed in a future version. Please adapt your code to use either `displot` (a figure-level function with similar flexibility) or `kdeplot` (an axes-level function for kernel density plots).\n",
      "  warnings.warn(msg, FutureWarning)\n"
     ]
    },
    {
     "data": {
      "text/plain": [
       "<AxesSubplot:xlabel='study_hours', ylabel='Density'>"
      ]
     },
     "execution_count": 31,
     "metadata": {},
     "output_type": "execute_result"
    },
    {
     "data": {
      "image/png": "[encoded data removed]",
      "text/plain": [
       "<Figure size 640x480 with 1 Axes>"
      ]
     },
     "metadata": {},
     "output_type": "display_data"
    }
   ],
   "source": [
    "sns.distplot(df['study_hours'],hist=False)"
   ]
  },
  {
   "cell_type": "code",
   "execution_count": 32,
   "id": "b5f8894f",
   "metadata": {},
   "outputs": [],
   "source": [
    "df=df.fillna(df['study_hours'].mean())"
   ]
  },
  {
   "cell_type": "code",
   "execution_count": 33,
   "id": "a35dcd89",
   "metadata": {},
   "outputs": [
    {
     "data": {
      "text/plain": [
       "study_hours      0\n",
       "student_marks    0\n",
       "dtype: int64"
      ]
     },
     "execution_count": 33,
     "metadata": {},
     "output_type": "execute_result"
    }
   ],
   "source": [
    "df.isnull().sum()"
   ]
  },
  {
   "cell_type": "code",
   "execution_count": 34,
   "id": "f357cb37",
   "metadata": {},
   "outputs": [
    {
     "data": {
      "text/html": [
       "<div>\n",
       "<style scoped>\n",
       "    .dataframe tbody tr th:only-of-type {\n",
       "        vertical-align: middle;\n",
       "    }\n",
       "\n",
       "    .dataframe tbody tr th {\n",
       "        vertical-align: top;\n",
       "    }\n",
       "\n",
       "    .dataframe thead th {\n",
       "        text-align: right;\n",
       "    }\n",
       "</style>\n",
       "<table border=\"1\" class=\"dataframe\">\n",
       "  <thead>\n",
       "    <tr style=\"text-align: right;\">\n",
       "      <th></th>\n",
       "      <th>study_hours</th>\n",
       "      <th>student_marks</th>\n",
       "    </tr>\n",
       "  </thead>\n",
       "  <tbody>\n",
       "    <tr>\n",
       "      <th>count</th>\n",
       "      <td>200.000000</td>\n",
       "      <td>200.00000</td>\n",
       "    </tr>\n",
       "    <tr>\n",
       "      <th>mean</th>\n",
       "      <td>6.995949</td>\n",
       "      <td>77.93375</td>\n",
       "    </tr>\n",
       "    <tr>\n",
       "      <th>std</th>\n",
       "      <td>1.237218</td>\n",
       "      <td>4.92570</td>\n",
       "    </tr>\n",
       "    <tr>\n",
       "      <th>min</th>\n",
       "      <td>5.010000</td>\n",
       "      <td>68.57000</td>\n",
       "    </tr>\n",
       "    <tr>\n",
       "      <th>25%</th>\n",
       "      <td>5.790000</td>\n",
       "      <td>73.38500</td>\n",
       "    </tr>\n",
       "    <tr>\n",
       "      <th>50%</th>\n",
       "      <td>7.002974</td>\n",
       "      <td>77.71000</td>\n",
       "    </tr>\n",
       "    <tr>\n",
       "      <th>75%</th>\n",
       "      <td>8.072500</td>\n",
       "      <td>82.32000</td>\n",
       "    </tr>\n",
       "    <tr>\n",
       "      <th>max</th>\n",
       "      <td>8.990000</td>\n",
       "      <td>86.99000</td>\n",
       "    </tr>\n",
       "  </tbody>\n",
       "</table>\n",
       "</div>"
      ],
      "text/plain": [
       "       study_hours  student_marks\n",
       "count   200.000000      200.00000\n",
       "mean      6.995949       77.93375\n",
       "std       1.237218        4.92570\n",
       "min       5.010000       68.57000\n",
       "25%       5.790000       73.38500\n",
       "50%       7.002974       77.71000\n",
       "75%       8.072500       82.32000\n",
       "max       8.990000       86.99000"
      ]
     },
     "execution_count": 34,
     "metadata": {},
     "output_type": "execute_result"
    }
   ],
   "source": [
    "df.describe()"
   ]
  },
  {
   "cell_type": "code",
   "execution_count": 35,
   "id": "b51fc16c",
   "metadata": {},
   "outputs": [
    {
     "data": {
      "image/png": "[encoded data removed]",
      "text/plain": [
       "<Figure size 640x480 with 1 Axes>"
      ]
     },
     "metadata": {},
     "output_type": "display_data"
    }
   ],
   "source": [
    "#GRAPH CREATION OF DATA\n",
    "plt.scatter(x=df.study_hours,y=df.student_marks)  #type of visualizing graph\n",
    "plt.xlabel=(\"Student Study Hours\")        #naming x axis\n",
    "plt.ylabel=(\"Student Marks\")       #naming y axis\n",
    "plt.title=(\"Study Hours VS Student Marks\")       #giving title\n",
    "plt.show()     #showing graph\n",
    "#data is in linear format..straight line at corner"
   ]
  },
  {
   "cell_type": "code",
   "execution_count": 37,
   "id": "1f865bf8",
   "metadata": {},
   "outputs": [
    {
     "name": "stdout",
     "output_type": "stream",
     "text": [
      "Shape of X=  (200, 1)\n",
      "Shape of y=  (200, 1)\n"
     ]
    }
   ],
   "source": [
    "X=df.drop(\"student_marks\",axis=1) #Capital X denotes Matrix in ML,drop krdo marks..splitted into hours only,column wise\n",
    "y=df.drop(\"study_hours\",axis=1) #small y vectors,drop krdo hours ko,only marks..column wise\n",
    "print(\"Shape of X= \" ,X.shape) #X ka shape nikaalo, cross check krne ke liye\n",
    "print(\"Shape of y= \" ,y.shape) #y ka shape nikaalo, for cross checking"
   ]
  },
  {
   "cell_type": "code",
   "execution_count": 38,
   "id": "793591df",
   "metadata": {},
   "outputs": [
    {
     "name": "stdout",
     "output_type": "stream",
     "text": [
      "Shape of X Train:  (160, 1)\n",
      "Shape of y Train:  (160, 1)\n",
      "Shape of X Test:  (40, 1)\n",
      "Shape of y Test:  (40, 1)\n"
     ]
    }
   ],
   "source": [
    "from sklearn.model_selection import train_test_split \n",
    "X_train,X_test,y_train,y_test=train_test_split(X,y,test_size=0.2,random_state=51)\n",
    "print(\"Shape of X Train: \",X_train.shape)\n",
    "print(\"Shape of y Train: \",y_train.shape)\n",
    "print(\"Shape of X Test: \",X_test.shape)\n",
    "print(\"Shape of y Test: \",y_test.shape)"
   ]
  },
  {
   "cell_type": "code",
   "execution_count": 39,
   "id": "7b5199b9",
   "metadata": {},
   "outputs": [],
   "source": [
    "from sklearn.linear_model import LinearRegression\n",
    "lr=LinearRegression()"
   ]
  },
  {
   "cell_type": "code",
   "execution_count": 40,
   "id": "c53d1132",
   "metadata": {},
   "outputs": [
    {
     "data": {
      "text/plain": [
       "LinearRegression()"
      ]
     },
     "execution_count": 40,
     "metadata": {},
     "output_type": "execute_result"
    }
   ],
   "source": [
    "lr.fit(X_train,y_train)"
   ]
  },
  {
   "cell_type": "code",
   "execution_count": 41,
   "id": "53703f33",
   "metadata": {},
   "outputs": [
    {
     "data": {
      "text/plain": [
       "array([[83.11381458],\n",
       "       [78.9025963 ],\n",
       "       [84.57003024],\n",
       "       [85.82946001],\n",
       "       [84.72745896],\n",
       "       [80.75238377],\n",
       "       [72.84159055],\n",
       "       [71.66087515],\n",
       "       [73.23516235],\n",
       "       [71.66087515],\n",
       "       [73.47130543],\n",
       "       [76.38373677],\n",
       "       [73.23516235],\n",
       "       [73.58937697],\n",
       "       [82.95638585],\n",
       "       [70.40144538],\n",
       "       [73.23516235],\n",
       "       [78.74516758],\n",
       "       [75.55723598],\n",
       "       [82.68088559],\n",
       "       [76.65923703],\n",
       "       [70.48015974],\n",
       "       [74.77009238],\n",
       "       [77.98143645],\n",
       "       [85.59331693],\n",
       "       [82.56281405],\n",
       "       [76.42309395],\n",
       "       [85.0423164 ],\n",
       "       [78.39095296],\n",
       "       [81.38209865],\n",
       "       [81.73631327],\n",
       "       [83.15317176],\n",
       "       [82.20859943],\n",
       "       [81.10659839],\n",
       "       [73.58937697],\n",
       "       [71.1492318 ],\n",
       "       [71.89701823],\n",
       "       [81.53952737],\n",
       "       [72.60544747],\n",
       "       [71.93637541]])"
      ]
     },
     "execution_count": 41,
     "metadata": {},
     "output_type": "execute_result"
    }
   ],
   "source": [
    "y_found=lr.predict(X_test)\n",
    "y_found"
   ]
  },
  {
   "cell_type": "code",
   "execution_count": 42,
   "id": "37e7d21d",
   "metadata": {},
   "outputs": [],
   "source": [
    "temp=pd.DataFrame(np.c_[X_test,y_test,y_found],columns=[\"study_hours\",\"student_marks_original\",\"student_marks_predicted\"])"
   ]
  },
  {
   "cell_type": "code",
   "execution_count": 43,
   "id": "0473ed1b",
   "metadata": {},
   "outputs": [
    {
     "data": {
      "text/html": [
       "<div>\n",
       "<style scoped>\n",
       "    .dataframe tbody tr th:only-of-type {\n",
       "        vertical-align: middle;\n",
       "    }\n",
       "\n",
       "    .dataframe tbody tr th {\n",
       "        vertical-align: top;\n",
       "    }\n",
       "\n",
       "    .dataframe thead th {\n",
       "        text-align: right;\n",
       "    }\n",
       "</style>\n",
       "<table border=\"1\" class=\"dataframe\">\n",
       "  <thead>\n",
       "    <tr style=\"text-align: right;\">\n",
       "      <th></th>\n",
       "      <th>study_hours</th>\n",
       "      <th>student_marks_original</th>\n",
       "      <th>student_marks_predicted</th>\n",
       "    </tr>\n",
       "  </thead>\n",
       "  <tbody>\n",
       "    <tr>\n",
       "      <th>0</th>\n",
       "      <td>8.30</td>\n",
       "      <td>82.02</td>\n",
       "      <td>83.113815</td>\n",
       "    </tr>\n",
       "    <tr>\n",
       "      <th>1</th>\n",
       "      <td>7.23</td>\n",
       "      <td>77.55</td>\n",
       "      <td>78.902596</td>\n",
       "    </tr>\n",
       "    <tr>\n",
       "      <th>2</th>\n",
       "      <td>8.67</td>\n",
       "      <td>84.19</td>\n",
       "      <td>84.570030</td>\n",
       "    </tr>\n",
       "    <tr>\n",
       "      <th>3</th>\n",
       "      <td>8.99</td>\n",
       "      <td>85.46</td>\n",
       "      <td>85.829460</td>\n",
       "    </tr>\n",
       "    <tr>\n",
       "      <th>4</th>\n",
       "      <td>8.71</td>\n",
       "      <td>84.03</td>\n",
       "      <td>84.727459</td>\n",
       "    </tr>\n",
       "  </tbody>\n",
       "</table>\n",
       "</div>"
      ],
      "text/plain": [
       "   study_hours  student_marks_original  student_marks_predicted\n",
       "0         8.30                   82.02                83.113815\n",
       "1         7.23                   77.55                78.902596\n",
       "2         8.67                   84.19                84.570030\n",
       "3         8.99                   85.46                85.829460\n",
       "4         8.71                   84.03                84.727459"
      ]
     },
     "execution_count": 43,
     "metadata": {},
     "output_type": "execute_result"
    }
   ],
   "source": [
    "temp.head()"
   ]
  },
  {
   "cell_type": "code",
   "execution_count": 44,
   "id": "e39d6086",
   "metadata": {},
   "outputs": [],
   "source": [
    "rr=Ridge()"
   ]
  },
  {
   "cell_type": "code",
   "execution_count": 45,
   "id": "f1e2dbcf",
   "metadata": {},
   "outputs": [
    {
     "data": {
      "text/plain": [
       "Ridge()"
      ]
     },
     "execution_count": 45,
     "metadata": {},
     "output_type": "execute_result"
    }
   ],
   "source": [
    "rr"
   ]
  },
  {
   "cell_type": "code",
   "execution_count": 53,
   "id": "ea5abd87",
   "metadata": {},
   "outputs": [
    {
     "data": {
      "text/plain": [
       "GridSearchCV(cv=5, estimator=Ridge(),\n",
       "             param_grid={'alpha': [0, 0.002, 2, 1, 1.2, 4, 20, 4.2, 3, 40]},\n",
       "             scoring='neg_mean_squared_error')"
      ]
     },
     "execution_count": 53,
     "metadata": {},
     "output_type": "execute_result"
    }
   ],
   "source": [
    "param={'alpha':[0,0.002,2,1,1.2,4,20,4.2,3,40]}\n",
    "cv=GridSearchCV(rr,param,scoring='neg_mean_s quared_error',cv=5)\n",
    "cv.fit(X_train,y_train)"
   ]
  },
  {
   "cell_type": "code",
   "execution_count": 54,
   "id": "be5c0001",
   "metadata": {},
   "outputs": [
    {
     "name": "stdout",
     "output_type": "stream",
     "text": [
      "{'alpha': 0}\n"
     ]
    }
   ],
   "source": [
    "print(cv.best_params_)"
   ]
  },
  {
   "cell_type": "code",
   "execution_count": 56,
   "id": "07bdf57a",
   "metadata": {},
   "outputs": [
    {
     "name": "stdout",
     "output_type": "stream",
     "text": [
      "-1.023869188160067\n"
     ]
    }
   ],
   "source": [
    "print(cv.best_score_)  #score if we use Ridge"
   ]
  },
  {
   "cell_type": "code",
   "execution_count": 59,
   "id": "171e0465",
   "metadata": {},
   "outputs": [
    {
     "data": {
      "text/plain": [
       "-1.0160138103024194"
      ]
     },
     "execution_count": 59,
     "metadata": {},
     "output_type": "execute_result"
    }
   ],
   "source": [
    "from sklearn.model_selection import cross_val_score\n",
    "mn_sq_er=cross_val_score(lr,X_train,y_train,scoring='neg_mean_squared_error',cv=10)\n",
    "np.mean(mn_sq_er)  #score if we use cross validation score method"
   ]
  },
  {
   "cell_type": "code",
   "execution_count": 61,
   "id": "ad85fe9a",
   "metadata": {},
   "outputs": [
    {
     "data": {
      "text/plain": [
       "-0.00785537785764756"
      ]
     },
     "execution_count": 61,
     "metadata": {},
     "output_type": "execute_result"
    }
   ],
   "source": [
    "(cv.best_score_)-np.mean(mn_sq_er)"
   ]
  },
  {
   "cell_type": "code",
   "execution_count": 63,
   "id": "e38961d1",
   "metadata": {},
   "outputs": [
    {
     "name": "stderr",
     "output_type": "stream",
     "text": [
      "C:\\ProgramData\\Anaconda3\\lib\\site-packages\\sklearn\\model_selection\\_validation.py:680: UserWarning: With alpha=0, this algorithm does not converge well. You are advised to use the LinearRegression estimator\n",
      "  estimator.fit(X_train, y_train, **fit_params)\n",
      "C:\\ProgramData\\Anaconda3\\lib\\site-packages\\sklearn\\linear_model\\_coordinate_descent.py:647: UserWarning: Coordinate descent with no regularization may lead to unexpected results and is discouraged.\n",
      "  model = cd_fast.enet_coordinate_descent(\n",
      "C:\\ProgramData\\Anaconda3\\lib\\site-packages\\sklearn\\linear_model\\_coordinate_descent.py:647: ConvergenceWarning: Objective did not converge. You might want to increase the number of iterations, check the scale of the features or consider increasing regularisation. Duality gap: 6.220e+01, tolerance: 3.247e-01 Linear regression models with null weight for the l1 regularization term are more efficiently fitted using one of the solvers implemented in sklearn.linear_model.Ridge/RidgeCV instead.\n",
      "  model = cd_fast.enet_coordinate_descent(\n",
      "C:\\ProgramData\\Anaconda3\\lib\\site-packages\\sklearn\\model_selection\\_validation.py:680: UserWarning: With alpha=0, this algorithm does not converge well. You are advised to use the LinearRegression estimator\n",
      "  estimator.fit(X_train, y_train, **fit_params)\n",
      "C:\\ProgramData\\Anaconda3\\lib\\site-packages\\sklearn\\linear_model\\_coordinate_descent.py:647: UserWarning: Coordinate descent with no regularization may lead to unexpected results and is discouraged.\n",
      "  model = cd_fast.enet_coordinate_descent(\n",
      "C:\\ProgramData\\Anaconda3\\lib\\site-packages\\sklearn\\linear_model\\_coordinate_descent.py:647: ConvergenceWarning: Objective did not converge. You might want to increase the number of iterations, check the scale of the features or consider increasing regularisation. Duality gap: 6.818e+01, tolerance: 3.228e-01 Linear regression models with null weight for the l1 regularization term are more efficiently fitted using one of the solvers implemented in sklearn.linear_model.Ridge/RidgeCV instead.\n",
      "  model = cd_fast.enet_coordinate_descent(\n",
      "C:\\ProgramData\\Anaconda3\\lib\\site-packages\\sklearn\\model_selection\\_validation.py:680: UserWarning: With alpha=0, this algorithm does not converge well. You are advised to use the LinearRegression estimator\n",
      "  estimator.fit(X_train, y_train, **fit_params)\n",
      "C:\\ProgramData\\Anaconda3\\lib\\site-packages\\sklearn\\linear_model\\_coordinate_descent.py:647: UserWarning: Coordinate descent with no regularization may lead to unexpected results and is discouraged.\n",
      "  model = cd_fast.enet_coordinate_descent(\n",
      "C:\\ProgramData\\Anaconda3\\lib\\site-packages\\sklearn\\linear_model\\_coordinate_descent.py:647: ConvergenceWarning: Objective did not converge. You might want to increase the number of iterations, check the scale of the features or consider increasing regularisation. Duality gap: 6.556e+01, tolerance: 3.143e-01 Linear regression models with null weight for the l1 regularization term are more efficiently fitted using one of the solvers implemented in sklearn.linear_model.Ridge/RidgeCV instead.\n",
      "  model = cd_fast.enet_coordinate_descent(\n",
      "C:\\ProgramData\\Anaconda3\\lib\\site-packages\\sklearn\\model_selection\\_validation.py:680: UserWarning: With alpha=0, this algorithm does not converge well. You are advised to use the LinearRegression estimator\n",
      "  estimator.fit(X_train, y_train, **fit_params)\n",
      "C:\\ProgramData\\Anaconda3\\lib\\site-packages\\sklearn\\linear_model\\_coordinate_descent.py:647: UserWarning: Coordinate descent with no regularization may lead to unexpected results and is discouraged.\n",
      "  model = cd_fast.enet_coordinate_descent(\n",
      "C:\\ProgramData\\Anaconda3\\lib\\site-packages\\sklearn\\linear_model\\_coordinate_descent.py:647: ConvergenceWarning: Objective did not converge. You might want to increase the number of iterations, check the scale of the features or consider increasing regularisation. Duality gap: 6.105e+01, tolerance: 3.003e-01 Linear regression models with null weight for the l1 regularization term are more efficiently fitted using one of the solvers implemented in sklearn.linear_model.Ridge/RidgeCV instead.\n",
      "  model = cd_fast.enet_coordinate_descent(\n",
      "C:\\ProgramData\\Anaconda3\\lib\\site-packages\\sklearn\\model_selection\\_validation.py:680: UserWarning: With alpha=0, this algorithm does not converge well. You are advised to use the LinearRegression estimator\n",
      "  estimator.fit(X_train, y_train, **fit_params)\n",
      "C:\\ProgramData\\Anaconda3\\lib\\site-packages\\sklearn\\linear_model\\_coordinate_descent.py:647: UserWarning: Coordinate descent with no regularization may lead to unexpected results and is discouraged.\n",
      "  model = cd_fast.enet_coordinate_descent(\n",
      "C:\\ProgramData\\Anaconda3\\lib\\site-packages\\sklearn\\linear_model\\_coordinate_descent.py:647: ConvergenceWarning: Objective did not converge. You might want to increase the number of iterations, check the scale of the features or consider increasing regularisation. Duality gap: 6.248e+01, tolerance: 2.987e-01 Linear regression models with null weight for the l1 regularization term are more efficiently fitted using one of the solvers implemented in sklearn.linear_model.Ridge/RidgeCV instead.\n",
      "  model = cd_fast.enet_coordinate_descent(\n",
      "C:\\ProgramData\\Anaconda3\\lib\\site-packages\\sklearn\\model_selection\\_search.py:926: UserWarning: With alpha=0, this algorithm does not converge well. You are advised to use the LinearRegression estimator\n",
      "  self.best_estimator_.fit(X, y, **fit_params)\n",
      "C:\\ProgramData\\Anaconda3\\lib\\site-packages\\sklearn\\linear_model\\_coordinate_descent.py:647: UserWarning: Coordinate descent with no regularization may lead to unexpected results and is discouraged.\n",
      "  model = cd_fast.enet_coordinate_descent(\n",
      "C:\\ProgramData\\Anaconda3\\lib\\site-packages\\sklearn\\linear_model\\_coordinate_descent.py:647: ConvergenceWarning: Objective did not converge. You might want to increase the number of iterations, check the scale of the features or consider increasing regularisation. Duality gap: 8.007e+01, tolerance: 3.905e-01 Linear regression models with null weight for the l1 regularization term are more efficiently fitted using one of the solvers implemented in sklearn.linear_model.Ridge/RidgeCV instead.\n",
      "  model = cd_fast.enet_coordinate_descent(\n"
     ]
    },
    {
     "data": {
      "text/plain": [
       "GridSearchCV(cv=5, estimator=Lasso(),\n",
       "             param_grid={'alpha': [5, 100, 0, 0.002, 2, 1, 1.2, 4, 20, 4.2, 3,\n",
       "                                   40]},\n",
       "             scoring='neg_mean_squared_error')"
      ]
     },
     "execution_count": 63,
     "metadata": {},
     "output_type": "execute_result"
    }
   ],
   "source": [
    "from sklearn.linear_model import Lasso\n",
    "ls=Lasso()\n",
    "param={'alpha':[5,100,0,0.002,2,1,1.2,4,20,4.2,3,40]}\n",
    "lsscv=GridSearchCV(ls,param,scoring='neg_mean_squared_error',cv=5)\n",
    "lsscv.fit(X_train,y_train)"
   ]
  },
  {
   "cell_type": "code",
   "execution_count": 65,
   "id": "c79e5e5a",
   "metadata": {},
   "outputs": [
    {
     "name": "stdout",
     "output_type": "stream",
     "text": [
      "{'alpha': 0}\n",
      "-1.023869188160066\n"
     ]
    }
   ],
   "source": [
    "print(lsscv.best_params_)\n",
    "print(lsscv.best_score_)"
   ]
  },
  {
   "cell_type": "code",
   "execution_count": 66,
   "id": "b576cad0",
   "metadata": {},
   "outputs": [],
   "source": [
    "#new dataset, which has more columns to deal with"
   ]
  },
  {
   "cell_type": "code",
   "execution_count": 67,
   "id": "6a44f4fc",
   "metadata": {},
   "outputs": [],
   "source": [
    "crop=pd.read_csv(\"C:\\\\Users\\\\KIIT\\\\Desktop\\\\Datasets\\\\crop.csv\")"
   ]
  },
  {
   "cell_type": "code",
   "execution_count": 68,
   "id": "b78a3d1c",
   "metadata": {},
   "outputs": [
    {
     "data": {
      "text/html": [
       "<div>\n",
       "<style scoped>\n",
       "    .dataframe tbody tr th:only-of-type {\n",
       "        vertical-align: middle;\n",
       "    }\n",
       "\n",
       "    .dataframe tbody tr th {\n",
       "        vertical-align: top;\n",
       "    }\n",
       "\n",
       "    .dataframe thead th {\n",
       "        text-align: right;\n",
       "    }\n",
       "</style>\n",
       "<table border=\"1\" class=\"dataframe\">\n",
       "  <thead>\n",
       "    <tr style=\"text-align: right;\">\n",
       "      <th></th>\n",
       "      <th>N</th>\n",
       "      <th>P</th>\n",
       "      <th>K</th>\n",
       "      <th>temperature</th>\n",
       "      <th>humidity</th>\n",
       "      <th>ph</th>\n",
       "      <th>rainfall</th>\n",
       "      <th>label</th>\n",
       "    </tr>\n",
       "  </thead>\n",
       "  <tbody>\n",
       "    <tr>\n",
       "      <th>0</th>\n",
       "      <td>90</td>\n",
       "      <td>42</td>\n",
       "      <td>43</td>\n",
       "      <td>20.879744</td>\n",
       "      <td>82.002744</td>\n",
       "      <td>6.502985</td>\n",
       "      <td>202.935536</td>\n",
       "      <td>rice</td>\n",
       "    </tr>\n",
       "    <tr>\n",
       "      <th>1</th>\n",
       "      <td>85</td>\n",
       "      <td>58</td>\n",
       "      <td>41</td>\n",
       "      <td>21.770462</td>\n",
       "      <td>80.319644</td>\n",
       "      <td>7.038096</td>\n",
       "      <td>226.655537</td>\n",
       "      <td>rice</td>\n",
       "    </tr>\n",
       "    <tr>\n",
       "      <th>2</th>\n",
       "      <td>60</td>\n",
       "      <td>55</td>\n",
       "      <td>44</td>\n",
       "      <td>23.004459</td>\n",
       "      <td>82.320763</td>\n",
       "      <td>7.840207</td>\n",
       "      <td>263.964248</td>\n",
       "      <td>rice</td>\n",
       "    </tr>\n",
       "    <tr>\n",
       "      <th>3</th>\n",
       "      <td>74</td>\n",
       "      <td>35</td>\n",
       "      <td>40</td>\n",
       "      <td>26.491096</td>\n",
       "      <td>80.158363</td>\n",
       "      <td>6.980401</td>\n",
       "      <td>242.864034</td>\n",
       "      <td>rice</td>\n",
       "    </tr>\n",
       "    <tr>\n",
       "      <th>4</th>\n",
       "      <td>78</td>\n",
       "      <td>42</td>\n",
       "      <td>42</td>\n",
       "      <td>20.130175</td>\n",
       "      <td>81.604873</td>\n",
       "      <td>7.628473</td>\n",
       "      <td>262.717340</td>\n",
       "      <td>rice</td>\n",
       "    </tr>\n",
       "  </tbody>\n",
       "</table>\n",
       "</div>"
      ],
      "text/plain": [
       "    N   P   K  temperature   humidity        ph    rainfall label\n",
       "0  90  42  43    20.879744  82.002744  6.502985  202.935536  rice\n",
       "1  85  58  41    21.770462  80.319644  7.038096  226.655537  rice\n",
       "2  60  55  44    23.004459  82.320763  7.840207  263.964248  rice\n",
       "3  74  35  40    26.491096  80.158363  6.980401  242.864034  rice\n",
       "4  78  42  42    20.130175  81.604873  7.628473  262.717340  rice"
      ]
     },
     "execution_count": 68,
     "metadata": {},
     "output_type": "execute_result"
    }
   ],
   "source": [
    "crop.head()"
   ]
  },
  {
   "cell_type": "code",
   "execution_count": 70,
   "id": "8bfdb430",
   "metadata": {},
   "outputs": [
    {
     "data": {
      "text/plain": [
       "rice           100\n",
       "maize          100\n",
       "jute           100\n",
       "cotton         100\n",
       "coconut        100\n",
       "papaya         100\n",
       "orange         100\n",
       "apple          100\n",
       "muskmelon      100\n",
       "watermelon     100\n",
       "grapes         100\n",
       "mango          100\n",
       "banana         100\n",
       "pomegranate    100\n",
       "lentil         100\n",
       "blackgram      100\n",
       "mungbean       100\n",
       "mothbeans      100\n",
       "pigeonpeas     100\n",
       "kidneybeans    100\n",
       "chickpea       100\n",
       "coffee         100\n",
       "Name: label, dtype: int64"
      ]
     },
     "execution_count": 70,
     "metadata": {},
     "output_type": "execute_result"
    }
   ],
   "source": [
    "crop['label'].value_counts()"
   ]
  },
  {
   "cell_type": "code",
   "execution_count": 72,
   "id": "518fc749",
   "metadata": {},
   "outputs": [
    {
     "data": {
      "text/plain": [
       "N              0\n",
       "P              0\n",
       "K              0\n",
       "temperature    0\n",
       "humidity       0\n",
       "ph             0\n",
       "rainfall       0\n",
       "label          0\n",
       "dtype: int64"
      ]
     },
     "execution_count": 72,
     "metadata": {},
     "output_type": "execute_result"
    }
   ],
   "source": [
    "crop.isnull().sum()"
   ]
  },
  {
   "cell_type": "code",
   "execution_count": 73,
   "id": "61b003d5",
   "metadata": {},
   "outputs": [
    {
     "data": {
      "text/html": [
       "<div>\n",
       "<style scoped>\n",
       "    .dataframe tbody tr th:only-of-type {\n",
       "        vertical-align: middle;\n",
       "    }\n",
       "\n",
       "    .dataframe tbody tr th {\n",
       "        vertical-align: top;\n",
       "    }\n",
       "\n",
       "    .dataframe thead th {\n",
       "        text-align: right;\n",
       "    }\n",
       "</style>\n",
       "<table border=\"1\" class=\"dataframe\">\n",
       "  <thead>\n",
       "    <tr style=\"text-align: right;\">\n",
       "      <th></th>\n",
       "      <th>N</th>\n",
       "      <th>P</th>\n",
       "      <th>K</th>\n",
       "      <th>temperature</th>\n",
       "      <th>humidity</th>\n",
       "      <th>ph</th>\n",
       "      <th>rainfall</th>\n",
       "      <th>label</th>\n",
       "    </tr>\n",
       "  </thead>\n",
       "  <tbody>\n",
       "    <tr>\n",
       "      <th>0</th>\n",
       "      <td>90</td>\n",
       "      <td>42</td>\n",
       "      <td>43</td>\n",
       "      <td>20.879744</td>\n",
       "      <td>82.002744</td>\n",
       "      <td>6.502985</td>\n",
       "      <td>202.935536</td>\n",
       "      <td>rice</td>\n",
       "    </tr>\n",
       "    <tr>\n",
       "      <th>1</th>\n",
       "      <td>85</td>\n",
       "      <td>58</td>\n",
       "      <td>41</td>\n",
       "      <td>21.770462</td>\n",
       "      <td>80.319644</td>\n",
       "      <td>7.038096</td>\n",
       "      <td>226.655537</td>\n",
       "      <td>rice</td>\n",
       "    </tr>\n",
       "    <tr>\n",
       "      <th>2</th>\n",
       "      <td>60</td>\n",
       "      <td>55</td>\n",
       "      <td>44</td>\n",
       "      <td>23.004459</td>\n",
       "      <td>82.320763</td>\n",
       "      <td>7.840207</td>\n",
       "      <td>263.964248</td>\n",
       "      <td>rice</td>\n",
       "    </tr>\n",
       "    <tr>\n",
       "      <th>3</th>\n",
       "      <td>74</td>\n",
       "      <td>35</td>\n",
       "      <td>40</td>\n",
       "      <td>26.491096</td>\n",
       "      <td>80.158363</td>\n",
       "      <td>6.980401</td>\n",
       "      <td>242.864034</td>\n",
       "      <td>rice</td>\n",
       "    </tr>\n",
       "    <tr>\n",
       "      <th>4</th>\n",
       "      <td>78</td>\n",
       "      <td>42</td>\n",
       "      <td>42</td>\n",
       "      <td>20.130175</td>\n",
       "      <td>81.604873</td>\n",
       "      <td>7.628473</td>\n",
       "      <td>262.717340</td>\n",
       "      <td>rice</td>\n",
       "    </tr>\n",
       "  </tbody>\n",
       "</table>\n",
       "</div>"
      ],
      "text/plain": [
       "    N   P   K  temperature   humidity        ph    rainfall label\n",
       "0  90  42  43    20.879744  82.002744  6.502985  202.935536  rice\n",
       "1  85  58  41    21.770462  80.319644  7.038096  226.655537  rice\n",
       "2  60  55  44    23.004459  82.320763  7.840207  263.964248  rice\n",
       "3  74  35  40    26.491096  80.158363  6.980401  242.864034  rice\n",
       "4  78  42  42    20.130175  81.604873  7.628473  262.717340  rice"
      ]
     },
     "execution_count": 73,
     "metadata": {},
     "output_type": "execute_result"
    }
   ],
   "source": [
    "crop.head()"
   ]
  },
  {
   "cell_type": "code",
   "execution_count": 76,
   "id": "3c0ef5b1",
   "metadata": {},
   "outputs": [
    {
     "data": {
      "image/png": "[encoded data removed]",
      "text/plain": [
       "<Figure size 640x480 with 1 Axes>"
      ]
     },
     "metadata": {},
     "output_type": "display_data"
    }
   ],
   "source": [
    "plt.scatter(x=crop['temperature'],y=crop['rainfall'])  #type of visualizing graph\n",
    "plt.xlabel=(\"Temperature\")        #naming x axis\n",
    "plt.ylabel=(\"Rainfall\")       #naming y axis\n",
    "plt.title=(\"T vs R\")       #giving title\n",
    "plt.show() "
   ]
  },
  {
   "cell_type": "code",
   "execution_count": 77,
   "id": "15c178f3",
   "metadata": {},
   "outputs": [],
   "source": [
    "X=crop.iloc[:,:-1]\n",
    "y=crop.iloc[:,-1]"
   ]
  },
  {
   "cell_type": "code",
   "execution_count": 78,
   "id": "9dad3c73",
   "metadata": {},
   "outputs": [],
   "source": [
    "X_train,X_test,y_train,y_test=train_test_split(X,y,test_size=0.18,random_state=1)"
   ]
  },
  {
   "cell_type": "code",
   "execution_count": 79,
   "id": "7aeb21b2",
   "metadata": {},
   "outputs": [
    {
     "data": {
      "text/html": [
       "<div>\n",
       "<style scoped>\n",
       "    .dataframe tbody tr th:only-of-type {\n",
       "        vertical-align: middle;\n",
       "    }\n",
       "\n",
       "    .dataframe tbody tr th {\n",
       "        vertical-align: top;\n",
       "    }\n",
       "\n",
       "    .dataframe thead th {\n",
       "        text-align: right;\n",
       "    }\n",
       "</style>\n",
       "<table border=\"1\" class=\"dataframe\">\n",
       "  <thead>\n",
       "    <tr style=\"text-align: right;\">\n",
       "      <th></th>\n",
       "      <th>N</th>\n",
       "      <th>P</th>\n",
       "      <th>K</th>\n",
       "      <th>temperature</th>\n",
       "      <th>humidity</th>\n",
       "      <th>ph</th>\n",
       "      <th>rainfall</th>\n",
       "    </tr>\n",
       "  </thead>\n",
       "  <tbody>\n",
       "    <tr>\n",
       "      <th>2061</th>\n",
       "      <td>84</td>\n",
       "      <td>40</td>\n",
       "      <td>43</td>\n",
       "      <td>25.011576</td>\n",
       "      <td>88.331302</td>\n",
       "      <td>7.228268</td>\n",
       "      <td>169.416801</td>\n",
       "    </tr>\n",
       "    <tr>\n",
       "      <th>774</th>\n",
       "      <td>29</td>\n",
       "      <td>76</td>\n",
       "      <td>15</td>\n",
       "      <td>28.541724</td>\n",
       "      <td>64.202015</td>\n",
       "      <td>7.025608</td>\n",
       "      <td>69.688623</td>\n",
       "    </tr>\n",
       "    <tr>\n",
       "      <th>1395</th>\n",
       "      <td>97</td>\n",
       "      <td>12</td>\n",
       "      <td>47</td>\n",
       "      <td>25.287846</td>\n",
       "      <td>89.636679</td>\n",
       "      <td>6.765095</td>\n",
       "      <td>58.286977</td>\n",
       "    </tr>\n",
       "    <tr>\n",
       "      <th>825</th>\n",
       "      <td>18</td>\n",
       "      <td>66</td>\n",
       "      <td>22</td>\n",
       "      <td>25.879903</td>\n",
       "      <td>67.551090</td>\n",
       "      <td>6.347379</td>\n",
       "      <td>47.896452</td>\n",
       "    </tr>\n",
       "    <tr>\n",
       "      <th>995</th>\n",
       "      <td>33</td>\n",
       "      <td>23</td>\n",
       "      <td>45</td>\n",
       "      <td>20.002190</td>\n",
       "      <td>85.836182</td>\n",
       "      <td>7.116539</td>\n",
       "      <td>112.337046</td>\n",
       "    </tr>\n",
       "    <tr>\n",
       "      <th>...</th>\n",
       "      <td>...</td>\n",
       "      <td>...</td>\n",
       "      <td>...</td>\n",
       "      <td>...</td>\n",
       "      <td>...</td>\n",
       "      <td>...</td>\n",
       "      <td>...</td>\n",
       "    </tr>\n",
       "    <tr>\n",
       "      <th>960</th>\n",
       "      <td>1</td>\n",
       "      <td>27</td>\n",
       "      <td>36</td>\n",
       "      <td>23.985988</td>\n",
       "      <td>93.342366</td>\n",
       "      <td>5.684995</td>\n",
       "      <td>104.991282</td>\n",
       "    </tr>\n",
       "    <tr>\n",
       "      <th>905</th>\n",
       "      <td>31</td>\n",
       "      <td>25</td>\n",
       "      <td>38</td>\n",
       "      <td>24.962732</td>\n",
       "      <td>92.405014</td>\n",
       "      <td>6.497367</td>\n",
       "      <td>109.416919</td>\n",
       "    </tr>\n",
       "    <tr>\n",
       "      <th>1096</th>\n",
       "      <td>92</td>\n",
       "      <td>81</td>\n",
       "      <td>52</td>\n",
       "      <td>28.010680</td>\n",
       "      <td>76.528081</td>\n",
       "      <td>5.891414</td>\n",
       "      <td>103.704078</td>\n",
       "    </tr>\n",
       "    <tr>\n",
       "      <th>235</th>\n",
       "      <td>28</td>\n",
       "      <td>58</td>\n",
       "      <td>81</td>\n",
       "      <td>17.475010</td>\n",
       "      <td>16.543148</td>\n",
       "      <td>6.180427</td>\n",
       "      <td>93.350343</td>\n",
       "    </tr>\n",
       "    <tr>\n",
       "      <th>1061</th>\n",
       "      <td>95</td>\n",
       "      <td>74</td>\n",
       "      <td>50</td>\n",
       "      <td>25.901131</td>\n",
       "      <td>80.471527</td>\n",
       "      <td>6.002482</td>\n",
       "      <td>110.103230</td>\n",
       "    </tr>\n",
       "  </tbody>\n",
       "</table>\n",
       "<p>1804 rows × 7 columns</p>\n",
       "</div>"
      ],
      "text/plain": [
       "       N   P   K  temperature   humidity        ph    rainfall\n",
       "2061  84  40  43    25.011576  88.331302  7.228268  169.416801\n",
       "774   29  76  15    28.541724  64.202015  7.025608   69.688623\n",
       "1395  97  12  47    25.287846  89.636679  6.765095   58.286977\n",
       "825   18  66  22    25.879903  67.551090  6.347379   47.896452\n",
       "995   33  23  45    20.002190  85.836182  7.116539  112.337046\n",
       "...   ..  ..  ..          ...        ...       ...         ...\n",
       "960    1  27  36    23.985988  93.342366  5.684995  104.991282\n",
       "905   31  25  38    24.962732  92.405014  6.497367  109.416919\n",
       "1096  92  81  52    28.010680  76.528081  5.891414  103.704078\n",
       "235   28  58  81    17.475010  16.543148  6.180427   93.350343\n",
       "1061  95  74  50    25.901131  80.471527  6.002482  110.103230\n",
       "\n",
       "[1804 rows x 7 columns]"
      ]
     },
     "execution_count": 79,
     "metadata": {},
     "output_type": "execute_result"
    }
   ],
   "source": [
    "X_train"
   ]
  },
  {
   "cell_type": "code",
   "execution_count": 80,
   "id": "989dc838",
   "metadata": {},
   "outputs": [
    {
     "data": {
      "text/plain": [
       "0         rice\n",
       "1         rice\n",
       "2         rice\n",
       "3         rice\n",
       "4         rice\n",
       "         ...  \n",
       "2195    coffee\n",
       "2196    coffee\n",
       "2197    coffee\n",
       "2198    coffee\n",
       "2199    coffee\n",
       "Name: label, Length: 2200, dtype: object"
      ]
     },
     "execution_count": 80,
     "metadata": {},
     "output_type": "execute_result"
    }
   ],
   "source": [
    "y"
   ]
  },
  {
   "cell_type": "code",
   "execution_count": 81,
   "id": "a135b266",
   "metadata": {},
   "outputs": [],
   "source": [
    "from sklearn.linear_model import LogisticRegression\n",
    "from sklearn.metrics import accuracy_score"
   ]
  },
  {
   "cell_type": "code",
   "execution_count": 82,
   "id": "957eda71",
   "metadata": {},
   "outputs": [
    {
     "name": "stdout",
     "output_type": "stream",
     "text": [
      "(2200, 7)\n",
      "(1804, 7)\n",
      "(396, 7)\n"
     ]
    }
   ],
   "source": [
    "print(X.shape)\n",
    "print(X_train.shape)\n",
    "print(X_test.shape)"
   ]
  },
  {
   "cell_type": "code",
   "execution_count": 83,
   "id": "61a60f9b",
   "metadata": {},
   "outputs": [],
   "source": [
    "model=LogisticRegression()"
   ]
  },
  {
   "cell_type": "code",
   "execution_count": 85,
   "id": "4ae65355",
   "metadata": {},
   "outputs": [
    {
     "name": "stderr",
     "output_type": "stream",
     "text": [
      "C:\\ProgramData\\Anaconda3\\lib\\site-packages\\sklearn\\linear_model\\_logistic.py:814: ConvergenceWarning: lbfgs failed to converge (status=1):\n",
      "STOP: TOTAL NO. of ITERATIONS REACHED LIMIT.\n",
      "\n",
      "Increase the number of iterations (max_iter) or scale the data as shown in:\n",
      "    https://scikit-learn.org/stable/modules/preprocessing.html\n",
      "Please also refer to the documentation for alternative solver options:\n",
      "    https://scikit-learn.org/stable/modules/linear_model.html#logistic-regression\n",
      "  n_iter_i = _check_optimize_result(\n"
     ]
    },
    {
     "data": {
      "text/plain": [
       "LogisticRegression()"
      ]
     },
     "execution_count": 85,
     "metadata": {},
     "output_type": "execute_result"
    }
   ],
   "source": [
    "model.fit(X_train,y_train)"
   ]
  },
  {
   "cell_type": "code",
   "execution_count": 87,
   "id": "81d1c3c7",
   "metadata": {},
   "outputs": [],
   "source": [
    "X_train_pred=model.predict(X_train)\n",
    "acc=accuracy_score(X_train_pred,y_train)"
   ]
  },
  {
   "cell_type": "code",
   "execution_count": 88,
   "id": "baf02080",
   "metadata": {},
   "outputs": [
    {
     "name": "stdout",
     "output_type": "stream",
     "text": [
      "Accuracy on Traiing Data:  0.9684035476718403\n"
     ]
    }
   ],
   "source": [
    "print(\"Accuracy on Training Data: \",acc)   #without using ridge and lasso, accuracy is around 96%"
   ]
  },
  {
   "cell_type": "code",
   "execution_count": 90,
   "id": "e28dcffc",
   "metadata": {},
   "outputs": [
    {
     "name": "stdout",
     "output_type": "stream",
     "text": [
      "Accuracy on Test Data:  0.9671717171717171\n"
     ]
    }
   ],
   "source": [
    "X_test_pred=model.predict(X_test)\n",
    "test_acc=accuracy_score(X_test_pred,y_test)\n",
    "print(\"Accuracy on Test Data: \",test_acc)"
   ]
  },
  {
   "cell_type": "code",
   "execution_count": 91,
   "id": "339fb99c",
   "metadata": {},
   "outputs": [],
   "source": [
    "from sklearn.feature_selection import SelectFromModel"
   ]
  },
  {
   "cell_type": "code",
   "execution_count": 93,
   "id": "8c44e126",
   "metadata": {},
   "outputs": [],
   "source": [
    "dfrl=pd.read_csv(\"C:\\\\Users\\\\KIIT\\\\Desktop\\\\Datasets\\\\crop.csv\")"
   ]
  },
  {
   "cell_type": "code",
   "execution_count": 94,
   "id": "acf11219",
   "metadata": {},
   "outputs": [
    {
     "data": {
      "text/html": [
       "<div>\n",
       "<style scoped>\n",
       "    .dataframe tbody tr th:only-of-type {\n",
       "        vertical-align: middle;\n",
       "    }\n",
       "\n",
       "    .dataframe tbody tr th {\n",
       "        vertical-align: top;\n",
       "    }\n",
       "\n",
       "    .dataframe thead th {\n",
       "        text-align: right;\n",
       "    }\n",
       "</style>\n",
       "<table border=\"1\" class=\"dataframe\">\n",
       "  <thead>\n",
       "    <tr style=\"text-align: right;\">\n",
       "      <th></th>\n",
       "      <th>N</th>\n",
       "      <th>P</th>\n",
       "      <th>K</th>\n",
       "      <th>temperature</th>\n",
       "      <th>humidity</th>\n",
       "      <th>ph</th>\n",
       "      <th>rainfall</th>\n",
       "      <th>label</th>\n",
       "    </tr>\n",
       "  </thead>\n",
       "  <tbody>\n",
       "    <tr>\n",
       "      <th>0</th>\n",
       "      <td>90</td>\n",
       "      <td>42</td>\n",
       "      <td>43</td>\n",
       "      <td>20.879744</td>\n",
       "      <td>82.002744</td>\n",
       "      <td>6.502985</td>\n",
       "      <td>202.935536</td>\n",
       "      <td>rice</td>\n",
       "    </tr>\n",
       "    <tr>\n",
       "      <th>1</th>\n",
       "      <td>85</td>\n",
       "      <td>58</td>\n",
       "      <td>41</td>\n",
       "      <td>21.770462</td>\n",
       "      <td>80.319644</td>\n",
       "      <td>7.038096</td>\n",
       "      <td>226.655537</td>\n",
       "      <td>rice</td>\n",
       "    </tr>\n",
       "    <tr>\n",
       "      <th>2</th>\n",
       "      <td>60</td>\n",
       "      <td>55</td>\n",
       "      <td>44</td>\n",
       "      <td>23.004459</td>\n",
       "      <td>82.320763</td>\n",
       "      <td>7.840207</td>\n",
       "      <td>263.964248</td>\n",
       "      <td>rice</td>\n",
       "    </tr>\n",
       "    <tr>\n",
       "      <th>3</th>\n",
       "      <td>74</td>\n",
       "      <td>35</td>\n",
       "      <td>40</td>\n",
       "      <td>26.491096</td>\n",
       "      <td>80.158363</td>\n",
       "      <td>6.980401</td>\n",
       "      <td>242.864034</td>\n",
       "      <td>rice</td>\n",
       "    </tr>\n",
       "    <tr>\n",
       "      <th>4</th>\n",
       "      <td>78</td>\n",
       "      <td>42</td>\n",
       "      <td>42</td>\n",
       "      <td>20.130175</td>\n",
       "      <td>81.604873</td>\n",
       "      <td>7.628473</td>\n",
       "      <td>262.717340</td>\n",
       "      <td>rice</td>\n",
       "    </tr>\n",
       "  </tbody>\n",
       "</table>\n",
       "</div>"
      ],
      "text/plain": [
       "    N   P   K  temperature   humidity        ph    rainfall label\n",
       "0  90  42  43    20.879744  82.002744  6.502985  202.935536  rice\n",
       "1  85  58  41    21.770462  80.319644  7.038096  226.655537  rice\n",
       "2  60  55  44    23.004459  82.320763  7.840207  263.964248  rice\n",
       "3  74  35  40    26.491096  80.158363  6.980401  242.864034  rice\n",
       "4  78  42  42    20.130175  81.604873  7.628473  262.717340  rice"
      ]
     },
     "execution_count": 94,
     "metadata": {},
     "output_type": "execute_result"
    }
   ],
   "source": [
    "dfrl.head()"
   ]
  },
  {
   "cell_type": "code",
   "execution_count": 99,
   "id": "e35c05fc",
   "metadata": {},
   "outputs": [],
   "source": [
    "X=crop.iloc[:,:-1]\n",
    "Y=crop.iloc[:,-1]"
   ]
  },
  {
   "cell_type": "code",
   "execution_count": 100,
   "id": "a322da5b",
   "metadata": {},
   "outputs": [
    {
     "data": {
      "text/plain": [
       "((1320, 7), (880, 7))"
      ]
     },
     "execution_count": 100,
     "metadata": {},
     "output_type": "execute_result"
    }
   ],
   "source": [
    "X_train, X_test, Y_train, Y_test = train_test_split(X, Y, test_size=0.4, random_state=0)\n",
    "X_train.shape, X_test.shape"
   ]
  },
  {
   "cell_type": "code",
   "execution_count": 104,
   "id": "d7107853",
   "metadata": {},
   "outputs": [],
   "source": [
    "sel_ = SelectFromModel(LogisticRegression(C=1, penalty='l1', solver='liblinear'))\n",
    "sel_.fit(X_train, np.ravel(Y_train,order='C'))\n",
    "sel_.get_support()\n",
    "X_train = pd.DataFrame(X_train)"
   ]
  },
  {
   "cell_type": "code",
   "execution_count": 105,
   "id": "fe87c5f0",
   "metadata": {},
   "outputs": [
    {
     "name": "stdout",
     "output_type": "stream",
     "text": [
      "total features: 7\n",
      "selected features: 7\n",
      "features with coefficients shrank to zero: 10\n"
     ]
    }
   ],
   "source": [
    "selected_feat = X_train.columns[(sel_.get_support())]\n",
    "print('total features: {}'.format((X_train.shape[1])))\n",
    "print('selected features: {}'.format(len(selected_feat)))\n",
    "print('features with coefficients shrank to zero: {}'.format(np.sum(sel_.estimator_.coef_ == 0)))"
   ]
  },
  {
   "cell_type": "code",
   "execution_count": 107,
   "id": "98fb6eca",
   "metadata": {},
   "outputs": [
    {
     "data": {
      "text/plain": [
       "((1320, 7), (880, 7))"
      ]
     },
     "execution_count": 107,
     "metadata": {},
     "output_type": "execute_result"
    }
   ],
   "source": [
    "# removed_feats = X_train.columns[(sel_.estimator_.coef_ == 0).ravel().tolist()]\n",
    "# removed_feats\n",
    "\n",
    "X_train_selected = sel_.transform(X_train)\n",
    "X_test_selected = sel_.transform(X_test)\n",
    "X_train_selected.shape, X_test_selected.shape"
   ]
  },
  {
   "cell_type": "code",
   "execution_count": null,
   "id": "14cd3ef0",
   "metadata": {},
   "outputs": [],
   "source": []
  }
 ],
 "metadata": {
  "kernelspec": {
   "display_name": "Python 3 (ipykernel)",
   "language": "python",
   "name": "python3"
  },
  "language_info": {
   "codemirror_mode": {
    "name": "ipython",
    "version": 3
   },
   "file_extension": ".py",
   "mimetype": "text/x-python",
   "name": "python",
   "nbconvert_exporter": "python",
   "pygments_lexer": "ipython3",
   "version": "3.9.13"
  }
 },
 "nbformat": 4,
 "nbformat_minor": 5
}
