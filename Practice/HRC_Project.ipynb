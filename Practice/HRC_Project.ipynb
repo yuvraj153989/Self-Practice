{
 "cells": [
  {
   "cell_type": "code",
   "execution_count": 167,
   "id": "0ab03300",
   "metadata": {},
   "outputs": [],
   "source": [
    "import numpy as np\n",
    "import pandas as pd\n",
    "import random\n",
    "import matplotlib.pyplot as plt\n",
    "import seaborn as sns\n",
    "import warnings\n",
    "warnings.filterwarnings('ignore')"
   ]
  },
  {
   "cell_type": "code",
   "execution_count": 168,
   "id": "5d10e221",
   "metadata": {},
   "outputs": [],
   "source": [
    "df=pd.read_csv(\"C:\\\\Users\\\\KIIT\\\\Desktop\\\\HRC_Project\\\\Final.csv\") #creating and loading dataset, TASK 1"
   ]
  },
  {
   "cell_type": "code",
   "execution_count": 169,
   "id": "3044b9e3",
   "metadata": {},
   "outputs": [
    {
     "data": {
      "text/html": [
       "<div>\n",
       "<style scoped>\n",
       "    .dataframe tbody tr th:only-of-type {\n",
       "        vertical-align: middle;\n",
       "    }\n",
       "\n",
       "    .dataframe tbody tr th {\n",
       "        vertical-align: top;\n",
       "    }\n",
       "\n",
       "    .dataframe thead th {\n",
       "        text-align: right;\n",
       "    }\n",
       "</style>\n",
       "<table border=\"1\" class=\"dataframe\">\n",
       "  <thead>\n",
       "    <tr style=\"text-align: right;\">\n",
       "      <th></th>\n",
       "      <th>CUSTOMER_ORDER_ID</th>\n",
       "      <th>SALES_ORG</th>\n",
       "      <th>DISTRIBUTION_CHANNEL</th>\n",
       "      <th>DIVISION</th>\n",
       "      <th>RELEASED_CREDIT_VALUE</th>\n",
       "      <th>PURCHASE_ORDER_TYPE</th>\n",
       "      <th>COMPANY_CODE</th>\n",
       "      <th>ORDER_CREATION_DATE</th>\n",
       "      <th>ORDER_CREATION_TIME</th>\n",
       "      <th>CREDIT_CONTROL_AREA</th>\n",
       "      <th>SOLD_TO_PARTY</th>\n",
       "      <th>ORDER_AMOUNT</th>\n",
       "      <th>REQUESTED_DELIVERY_DATE</th>\n",
       "      <th>ORDER_CURRENCY</th>\n",
       "      <th>CREDIT_STATUS</th>\n",
       "      <th>CUSTOMER_NUMBER</th>\n",
       "    </tr>\n",
       "  </thead>\n",
       "  <tbody>\n",
       "    <tr>\n",
       "      <th>0</th>\n",
       "      <td>946851639</td>\n",
       "      <td>3537</td>\n",
       "      <td>United States of America</td>\n",
       "      <td>South-Region</td>\n",
       "      <td>0,00</td>\n",
       "      <td>1000</td>\n",
       "      <td>3220</td>\n",
       "      <td>20220101</td>\n",
       "      <td>43012</td>\n",
       "      <td>SR02</td>\n",
       "      <td>756141537</td>\n",
       "      <td>954,61</td>\n",
       "      <td>20220113</td>\n",
       "      <td>EUR</td>\n",
       "      <td>NaN</td>\n",
       "      <td>12311807</td>\n",
       "    </tr>\n",
       "    <tr>\n",
       "      <th>1</th>\n",
       "      <td>963432061</td>\n",
       "      <td>3449</td>\n",
       "      <td>Martinique</td>\n",
       "      <td>South-Region</td>\n",
       "      <td>0,00</td>\n",
       "      <td>1000</td>\n",
       "      <td>3220</td>\n",
       "      <td>20220101</td>\n",
       "      <td>43114</td>\n",
       "      <td>NR03</td>\n",
       "      <td>798847812</td>\n",
       "      <td>787,36</td>\n",
       "      <td>20220111</td>\n",
       "      <td>EUR</td>\n",
       "      <td>NaN</td>\n",
       "      <td>12311807</td>\n",
       "    </tr>\n",
       "    <tr>\n",
       "      <th>2</th>\n",
       "      <td>971991639</td>\n",
       "      <td>3238</td>\n",
       "      <td>Moldova</td>\n",
       "      <td>South-Region</td>\n",
       "      <td>82342,02</td>\n",
       "      <td>I200</td>\n",
       "      <td>3260</td>\n",
       "      <td>20220101</td>\n",
       "      <td>110019</td>\n",
       "      <td>NR01</td>\n",
       "      <td>960984659</td>\n",
       "      <td>67493,46</td>\n",
       "      <td>20220112</td>\n",
       "      <td>EUR</td>\n",
       "      <td>93.0</td>\n",
       "      <td>12118758</td>\n",
       "    </tr>\n",
       "    <tr>\n",
       "      <th>3</th>\n",
       "      <td>754349803</td>\n",
       "      <td>3911</td>\n",
       "      <td>United Arab Emirates</td>\n",
       "      <td>South-Region</td>\n",
       "      <td>1471,24</td>\n",
       "      <td>N000</td>\n",
       "      <td>3290</td>\n",
       "      <td>20220101</td>\n",
       "      <td>153013</td>\n",
       "      <td>SR02</td>\n",
       "      <td>925857642</td>\n",
       "      <td>1405,54</td>\n",
       "      <td>20220106</td>\n",
       "      <td>EUR</td>\n",
       "      <td>93.0</td>\n",
       "      <td>1210499770</td>\n",
       "    </tr>\n",
       "    <tr>\n",
       "      <th>4</th>\n",
       "      <td>930253442</td>\n",
       "      <td>2381</td>\n",
       "      <td>Greece</td>\n",
       "      <td>South-Region</td>\n",
       "      <td>0,00</td>\n",
       "      <td>N000</td>\n",
       "      <td>3290</td>\n",
       "      <td>20220101</td>\n",
       "      <td>160020</td>\n",
       "      <td>SR01</td>\n",
       "      <td>947942786</td>\n",
       "      <td>0,00</td>\n",
       "      <td>20220106</td>\n",
       "      <td>EUR</td>\n",
       "      <td>64.0</td>\n",
       "      <td>1210351400</td>\n",
       "    </tr>\n",
       "  </tbody>\n",
       "</table>\n",
       "</div>"
      ],
      "text/plain": [
       "   CUSTOMER_ORDER_ID  SALES_ORG      DISTRIBUTION_CHANNEL      DIVISION  \\\n",
       "0          946851639       3537  United States of America  South-Region   \n",
       "1          963432061       3449                Martinique  South-Region   \n",
       "2          971991639       3238                   Moldova  South-Region   \n",
       "3          754349803       3911      United Arab Emirates  South-Region   \n",
       "4          930253442       2381                    Greece  South-Region   \n",
       "\n",
       "  RELEASED_CREDIT_VALUE PURCHASE_ORDER_TYPE  COMPANY_CODE  \\\n",
       "0                  0,00                1000          3220   \n",
       "1                  0,00                1000          3220   \n",
       "2              82342,02                I200          3260   \n",
       "3               1471,24                N000          3290   \n",
       "4                  0,00                N000          3290   \n",
       "\n",
       "   ORDER_CREATION_DATE  ORDER_CREATION_TIME CREDIT_CONTROL_AREA  \\\n",
       "0             20220101                43012                SR02   \n",
       "1             20220101                43114                NR03   \n",
       "2             20220101               110019                NR01   \n",
       "3             20220101               153013                SR02   \n",
       "4             20220101               160020                SR01   \n",
       "\n",
       "   SOLD_TO_PARTY ORDER_AMOUNT  REQUESTED_DELIVERY_DATE ORDER_CURRENCY  \\\n",
       "0      756141537       954,61                 20220113            EUR   \n",
       "1      798847812       787,36                 20220111            EUR   \n",
       "2      960984659     67493,46                 20220112            EUR   \n",
       "3      925857642      1405,54                 20220106            EUR   \n",
       "4      947942786         0,00                 20220106            EUR   \n",
       "\n",
       "   CREDIT_STATUS  CUSTOMER_NUMBER  \n",
       "0            NaN         12311807  \n",
       "1            NaN         12311807  \n",
       "2           93.0         12118758  \n",
       "3           93.0       1210499770  \n",
       "4           64.0       1210351400  "
      ]
     },
     "execution_count": 169,
     "metadata": {},
     "output_type": "execute_result"
    }
   ],
   "source": [
    "df.head()  #initital dataset, "
   ]
  },
  {
   "cell_type": "code",
   "execution_count": 170,
   "id": "cdc23607",
   "metadata": {},
   "outputs": [
    {
     "data": {
      "text/html": [
       "<div>\n",
       "<style scoped>\n",
       "    .dataframe tbody tr th:only-of-type {\n",
       "        vertical-align: middle;\n",
       "    }\n",
       "\n",
       "    .dataframe tbody tr th {\n",
       "        vertical-align: top;\n",
       "    }\n",
       "\n",
       "    .dataframe thead th {\n",
       "        text-align: right;\n",
       "    }\n",
       "</style>\n",
       "<table border=\"1\" class=\"dataframe\">\n",
       "  <thead>\n",
       "    <tr style=\"text-align: right;\">\n",
       "      <th></th>\n",
       "      <th>CUSTOMER_ORDER_ID</th>\n",
       "      <th>SALES_ORG</th>\n",
       "      <th>COMPANY_CODE</th>\n",
       "      <th>ORDER_CREATION_DATE</th>\n",
       "      <th>ORDER_CREATION_TIME</th>\n",
       "      <th>SOLD_TO_PARTY</th>\n",
       "      <th>REQUESTED_DELIVERY_DATE</th>\n",
       "      <th>CREDIT_STATUS</th>\n",
       "      <th>CUSTOMER_NUMBER</th>\n",
       "    </tr>\n",
       "  </thead>\n",
       "  <tbody>\n",
       "    <tr>\n",
       "      <th>count</th>\n",
       "      <td>1.101925e+06</td>\n",
       "      <td>1.101925e+06</td>\n",
       "      <td>1.101925e+06</td>\n",
       "      <td>1.101925e+06</td>\n",
       "      <td>1.101925e+06</td>\n",
       "      <td>1.101925e+06</td>\n",
       "      <td>1.101925e+06</td>\n",
       "      <td>219478.000000</td>\n",
       "      <td>1.101925e+06</td>\n",
       "    </tr>\n",
       "    <tr>\n",
       "      <th>mean</th>\n",
       "      <td>8.763187e+08</td>\n",
       "      <td>3.304891e+03</td>\n",
       "      <td>3.431364e+03</td>\n",
       "      <td>2.022032e+07</td>\n",
       "      <td>1.340316e+05</td>\n",
       "      <td>8.763265e+08</td>\n",
       "      <td>2.022035e+07</td>\n",
       "      <td>74.464771</td>\n",
       "      <td>1.074092e+09</td>\n",
       "    </tr>\n",
       "    <tr>\n",
       "      <th>std</th>\n",
       "      <td>7.088594e+07</td>\n",
       "      <td>6.958920e+02</td>\n",
       "      <td>5.483805e+02</td>\n",
       "      <td>1.426756e+02</td>\n",
       "      <td>6.503618e+04</td>\n",
       "      <td>7.090306e+07</td>\n",
       "      <td>1.751912e+03</td>\n",
       "      <td>14.444210</td>\n",
       "      <td>4.042693e+08</td>\n",
       "    </tr>\n",
       "    <tr>\n",
       "      <th>min</th>\n",
       "      <td>7.534520e+08</td>\n",
       "      <td>2.100000e+03</td>\n",
       "      <td>5.900000e+01</td>\n",
       "      <td>2.022010e+07</td>\n",
       "      <td>0.000000e+00</td>\n",
       "      <td>7.534518e+08</td>\n",
       "      <td>2.019081e+07</td>\n",
       "      <td>52.000000</td>\n",
       "      <td>1.210001e+07</td>\n",
       "    </tr>\n",
       "    <tr>\n",
       "      <th>25%</th>\n",
       "      <td>8.149522e+08</td>\n",
       "      <td>2.702000e+03</td>\n",
       "      <td>3.260000e+03</td>\n",
       "      <td>2.022021e+07</td>\n",
       "      <td>8.170200e+04</td>\n",
       "      <td>8.148366e+08</td>\n",
       "      <td>2.022022e+07</td>\n",
       "      <td>64.000000</td>\n",
       "      <td>1.230006e+09</td>\n",
       "    </tr>\n",
       "    <tr>\n",
       "      <th>50%</th>\n",
       "      <td>8.763963e+08</td>\n",
       "      <td>3.305000e+03</td>\n",
       "      <td>3.660000e+03</td>\n",
       "      <td>2.022032e+07</td>\n",
       "      <td>1.509540e+05</td>\n",
       "      <td>8.763542e+08</td>\n",
       "      <td>2.022033e+07</td>\n",
       "      <td>64.000000</td>\n",
       "      <td>1.230014e+09</td>\n",
       "    </tr>\n",
       "    <tr>\n",
       "      <th>75%</th>\n",
       "      <td>9.376832e+08</td>\n",
       "      <td>3.908000e+03</td>\n",
       "      <td>3.670000e+03</td>\n",
       "      <td>2.022042e+07</td>\n",
       "      <td>1.853580e+05</td>\n",
       "      <td>9.377293e+08</td>\n",
       "      <td>2.022050e+07</td>\n",
       "      <td>93.000000</td>\n",
       "      <td>1.230014e+09</td>\n",
       "    </tr>\n",
       "    <tr>\n",
       "      <th>max</th>\n",
       "      <td>9.990063e+08</td>\n",
       "      <td>4.510000e+03</td>\n",
       "      <td>4.260000e+03</td>\n",
       "      <td>2.022060e+07</td>\n",
       "      <td>2.359590e+05</td>\n",
       "      <td>9.990075e+08</td>\n",
       "      <td>2.202022e+07</td>\n",
       "      <td>93.000000</td>\n",
       "      <td>1.230025e+09</td>\n",
       "    </tr>\n",
       "  </tbody>\n",
       "</table>\n",
       "</div>"
      ],
      "text/plain": [
       "       CUSTOMER_ORDER_ID     SALES_ORG  COMPANY_CODE  ORDER_CREATION_DATE  \\\n",
       "count       1.101925e+06  1.101925e+06  1.101925e+06         1.101925e+06   \n",
       "mean        8.763187e+08  3.304891e+03  3.431364e+03         2.022032e+07   \n",
       "std         7.088594e+07  6.958920e+02  5.483805e+02         1.426756e+02   \n",
       "min         7.534520e+08  2.100000e+03  5.900000e+01         2.022010e+07   \n",
       "25%         8.149522e+08  2.702000e+03  3.260000e+03         2.022021e+07   \n",
       "50%         8.763963e+08  3.305000e+03  3.660000e+03         2.022032e+07   \n",
       "75%         9.376832e+08  3.908000e+03  3.670000e+03         2.022042e+07   \n",
       "max         9.990063e+08  4.510000e+03  4.260000e+03         2.022060e+07   \n",
       "\n",
       "       ORDER_CREATION_TIME  SOLD_TO_PARTY  REQUESTED_DELIVERY_DATE  \\\n",
       "count         1.101925e+06   1.101925e+06             1.101925e+06   \n",
       "mean          1.340316e+05   8.763265e+08             2.022035e+07   \n",
       "std           6.503618e+04   7.090306e+07             1.751912e+03   \n",
       "min           0.000000e+00   7.534518e+08             2.019081e+07   \n",
       "25%           8.170200e+04   8.148366e+08             2.022022e+07   \n",
       "50%           1.509540e+05   8.763542e+08             2.022033e+07   \n",
       "75%           1.853580e+05   9.377293e+08             2.022050e+07   \n",
       "max           2.359590e+05   9.990075e+08             2.202022e+07   \n",
       "\n",
       "       CREDIT_STATUS  CUSTOMER_NUMBER  \n",
       "count  219478.000000     1.101925e+06  \n",
       "mean       74.464771     1.074092e+09  \n",
       "std        14.444210     4.042693e+08  \n",
       "min        52.000000     1.210001e+07  \n",
       "25%        64.000000     1.230006e+09  \n",
       "50%        64.000000     1.230014e+09  \n",
       "75%        93.000000     1.230014e+09  \n",
       "max        93.000000     1.230025e+09  "
      ]
     },
     "execution_count": 170,
     "metadata": {},
     "output_type": "execute_result"
    }
   ],
   "source": [
    "df.describe() #getting description of dataset, TAKS 2"
   ]
  },
  {
   "cell_type": "code",
   "execution_count": 171,
   "id": "96dc8134",
   "metadata": {},
   "outputs": [
    {
     "data": {
      "text/plain": [
       "(1101925, 16)"
      ]
     },
     "execution_count": 171,
     "metadata": {},
     "output_type": "execute_result"
    }
   ],
   "source": [
    "df.shape"
   ]
  },
  {
   "cell_type": "code",
   "execution_count": 172,
   "id": "415071ff",
   "metadata": {},
   "outputs": [
    {
     "name": "stdout",
     "output_type": "stream",
     "text": [
      "<class 'pandas.core.frame.DataFrame'>\n",
      "RangeIndex: 1101925 entries, 0 to 1101924\n",
      "Data columns (total 16 columns):\n",
      " #   Column                   Non-Null Count    Dtype  \n",
      "---  ------                   --------------    -----  \n",
      " 0   CUSTOMER_ORDER_ID        1101925 non-null  int64  \n",
      " 1   SALES_ORG                1101925 non-null  int64  \n",
      " 2   DISTRIBUTION_CHANNEL     1101925 non-null  object \n",
      " 3   DIVISION                 1101925 non-null  object \n",
      " 4   RELEASED_CREDIT_VALUE    1101925 non-null  object \n",
      " 5   PURCHASE_ORDER_TYPE      1083233 non-null  object \n",
      " 6   COMPANY_CODE             1101925 non-null  int64  \n",
      " 7   ORDER_CREATION_DATE      1101925 non-null  int64  \n",
      " 8   ORDER_CREATION_TIME      1101925 non-null  int64  \n",
      " 9   CREDIT_CONTROL_AREA      1101925 non-null  object \n",
      " 10  SOLD_TO_PARTY            1101925 non-null  int64  \n",
      " 11  ORDER_AMOUNT             1101925 non-null  object \n",
      " 12  REQUESTED_DELIVERY_DATE  1101925 non-null  int64  \n",
      " 13  ORDER_CURRENCY           1101925 non-null  object \n",
      " 14  CREDIT_STATUS            219478 non-null   float64\n",
      " 15  CUSTOMER_NUMBER          1101925 non-null  int64  \n",
      "dtypes: float64(1), int64(8), object(7)\n",
      "memory usage: 134.5+ MB\n"
     ]
    }
   ],
   "source": [
    "df.info()"
   ]
  },
  {
   "cell_type": "code",
   "execution_count": 173,
   "id": "10946874",
   "metadata": {},
   "outputs": [
    {
     "data": {
      "text/plain": [
       "CUSTOMER_ORDER_ID          1099445\n",
       "SALES_ORG                     2411\n",
       "DISTRIBUTION_CHANNEL           243\n",
       "DIVISION                         2\n",
       "RELEASED_CREDIT_VALUE        47904\n",
       "PURCHASE_ORDER_TYPE            350\n",
       "COMPANY_CODE                    28\n",
       "ORDER_CREATION_DATE            152\n",
       "ORDER_CREATION_TIME          80576\n",
       "CREDIT_CONTROL_AREA              8\n",
       "SOLD_TO_PARTY              1099377\n",
       "ORDER_AMOUNT                235152\n",
       "REQUESTED_DELIVERY_DATE        358\n",
       "ORDER_CURRENCY                  20\n",
       "CREDIT_STATUS                    3\n",
       "CUSTOMER_NUMBER               6748\n",
       "dtype: int64"
      ]
     },
     "execution_count": 173,
     "metadata": {},
     "output_type": "execute_result"
    }
   ],
   "source": [
    "df.nunique()"
   ]
  },
  {
   "cell_type": "code",
   "execution_count": 174,
   "id": "4fd034e8",
   "metadata": {},
   "outputs": [
    {
     "name": "stdout",
     "output_type": "stream",
     "text": [
      "Total Duplicate Rows in 'CUSTOMER_ORDER_ID':  2480\n",
      "1101925\n",
      "1099445\n",
      "Duplicacies in CUSTOMER_ORDER_ID:  2480\n"
     ]
    }
   ],
   "source": [
    "dupl=df.duplicated(subset='CUSTOMER_ORDER_ID')\n",
    "print(\"Total Duplicate Rows in 'CUSTOMER_ORDER_ID': \",len(df[dupl]))\n",
    "print(df.shape[0])\n",
    "print(df[\"CUSTOMER_ORDER_ID\"].nunique())\n",
    "x=df.shape[0]-df[\"CUSTOMER_ORDER_ID\"].nunique()\n",
    "print(\"Duplicacies in CUSTOMER_ORDER_ID: \",x)"
   ]
  },
  {
   "cell_type": "code",
   "execution_count": 175,
   "id": "0ed685e7",
   "metadata": {},
   "outputs": [
    {
     "data": {
      "text/plain": [
       "0"
      ]
     },
     "execution_count": 175,
     "metadata": {},
     "output_type": "execute_result"
    }
   ],
   "source": [
    "df.drop_duplicates(subset='CUSTOMER_ORDER_ID', keep=False, inplace=True)\n",
    "df.head()  #removing duplicacies present in Primary key \"CUSTOMER_ORDER_ID\"\n",
    "df.shape[0]-df[\"CUSTOMER_ORDER_ID\"].nunique() "
   ]
  },
  {
   "cell_type": "code",
   "execution_count": 176,
   "id": "a33839f1",
   "metadata": {},
   "outputs": [
    {
     "data": {
      "text/plain": [
       "CUSTOMER_ORDER_ID               0\n",
       "SALES_ORG                       0\n",
       "DISTRIBUTION_CHANNEL            0\n",
       "DIVISION                        0\n",
       "RELEASED_CREDIT_VALUE           0\n",
       "PURCHASE_ORDER_TYPE         18607\n",
       "COMPANY_CODE                    0\n",
       "ORDER_CREATION_DATE             0\n",
       "ORDER_CREATION_TIME             0\n",
       "CREDIT_CONTROL_AREA             0\n",
       "SOLD_TO_PARTY                   0\n",
       "ORDER_AMOUNT                    0\n",
       "REQUESTED_DELIVERY_DATE         0\n",
       "ORDER_CURRENCY                  0\n",
       "CREDIT_STATUS              878494\n",
       "CUSTOMER_NUMBER                 0\n",
       "dtype: int64"
      ]
     },
     "execution_count": 176,
     "metadata": {},
     "output_type": "execute_result"
    }
   ],
   "source": [
    "df.isnull().sum()"
   ]
  },
  {
   "cell_type": "code",
   "execution_count": 177,
   "id": "5faaa0b2",
   "metadata": {},
   "outputs": [],
   "source": [
    "df.dropna(subset=[\"PURCHASE_ORDER_TYPE\"], inplace=True)"
   ]
  },
  {
   "cell_type": "code",
   "execution_count": 178,
   "id": "0b6f3b02",
   "metadata": {},
   "outputs": [],
   "source": [
    "df=df.drop(columns=['CREDIT_STATUS'])"
   ]
  },
  {
   "cell_type": "code",
   "execution_count": 179,
   "id": "36553f8b",
   "metadata": {},
   "outputs": [
    {
     "data": {
      "text/html": [
       "<div>\n",
       "<style scoped>\n",
       "    .dataframe tbody tr th:only-of-type {\n",
       "        vertical-align: middle;\n",
       "    }\n",
       "\n",
       "    .dataframe tbody tr th {\n",
       "        vertical-align: top;\n",
       "    }\n",
       "\n",
       "    .dataframe thead th {\n",
       "        text-align: right;\n",
       "    }\n",
       "</style>\n",
       "<table border=\"1\" class=\"dataframe\">\n",
       "  <thead>\n",
       "    <tr style=\"text-align: right;\">\n",
       "      <th></th>\n",
       "      <th>CUSTOMER_ORDER_ID</th>\n",
       "      <th>SALES_ORG</th>\n",
       "      <th>DISTRIBUTION_CHANNEL</th>\n",
       "      <th>DIVISION</th>\n",
       "      <th>RELEASED_CREDIT_VALUE</th>\n",
       "      <th>PURCHASE_ORDER_TYPE</th>\n",
       "      <th>COMPANY_CODE</th>\n",
       "      <th>ORDER_CREATION_DATE</th>\n",
       "      <th>ORDER_CREATION_TIME</th>\n",
       "      <th>CREDIT_CONTROL_AREA</th>\n",
       "      <th>SOLD_TO_PARTY</th>\n",
       "      <th>ORDER_AMOUNT</th>\n",
       "      <th>REQUESTED_DELIVERY_DATE</th>\n",
       "      <th>ORDER_CURRENCY</th>\n",
       "      <th>CUSTOMER_NUMBER</th>\n",
       "    </tr>\n",
       "  </thead>\n",
       "  <tbody>\n",
       "    <tr>\n",
       "      <th>0</th>\n",
       "      <td>946851639</td>\n",
       "      <td>3537</td>\n",
       "      <td>United States of America</td>\n",
       "      <td>South-Region</td>\n",
       "      <td>0,00</td>\n",
       "      <td>1000</td>\n",
       "      <td>3220</td>\n",
       "      <td>2022-01-01</td>\n",
       "      <td>43012</td>\n",
       "      <td>SR02</td>\n",
       "      <td>756141537</td>\n",
       "      <td>954,61</td>\n",
       "      <td>2022-01-13</td>\n",
       "      <td>EUR</td>\n",
       "      <td>12311807</td>\n",
       "    </tr>\n",
       "    <tr>\n",
       "      <th>1</th>\n",
       "      <td>963432061</td>\n",
       "      <td>3449</td>\n",
       "      <td>Martinique</td>\n",
       "      <td>South-Region</td>\n",
       "      <td>0,00</td>\n",
       "      <td>1000</td>\n",
       "      <td>3220</td>\n",
       "      <td>2022-01-01</td>\n",
       "      <td>43114</td>\n",
       "      <td>NR03</td>\n",
       "      <td>798847812</td>\n",
       "      <td>787,36</td>\n",
       "      <td>2022-01-11</td>\n",
       "      <td>EUR</td>\n",
       "      <td>12311807</td>\n",
       "    </tr>\n",
       "    <tr>\n",
       "      <th>2</th>\n",
       "      <td>971991639</td>\n",
       "      <td>3238</td>\n",
       "      <td>Moldova</td>\n",
       "      <td>South-Region</td>\n",
       "      <td>82342,02</td>\n",
       "      <td>I200</td>\n",
       "      <td>3260</td>\n",
       "      <td>2022-01-01</td>\n",
       "      <td>110019</td>\n",
       "      <td>NR01</td>\n",
       "      <td>960984659</td>\n",
       "      <td>67493,46</td>\n",
       "      <td>2022-01-12</td>\n",
       "      <td>EUR</td>\n",
       "      <td>12118758</td>\n",
       "    </tr>\n",
       "    <tr>\n",
       "      <th>3</th>\n",
       "      <td>754349803</td>\n",
       "      <td>3911</td>\n",
       "      <td>United Arab Emirates</td>\n",
       "      <td>South-Region</td>\n",
       "      <td>1471,24</td>\n",
       "      <td>N000</td>\n",
       "      <td>3290</td>\n",
       "      <td>2022-01-01</td>\n",
       "      <td>153013</td>\n",
       "      <td>SR02</td>\n",
       "      <td>925857642</td>\n",
       "      <td>1405,54</td>\n",
       "      <td>2022-01-06</td>\n",
       "      <td>EUR</td>\n",
       "      <td>1210499770</td>\n",
       "    </tr>\n",
       "    <tr>\n",
       "      <th>4</th>\n",
       "      <td>930253442</td>\n",
       "      <td>2381</td>\n",
       "      <td>Greece</td>\n",
       "      <td>South-Region</td>\n",
       "      <td>0,00</td>\n",
       "      <td>N000</td>\n",
       "      <td>3290</td>\n",
       "      <td>2022-01-01</td>\n",
       "      <td>160020</td>\n",
       "      <td>SR01</td>\n",
       "      <td>947942786</td>\n",
       "      <td>0,00</td>\n",
       "      <td>2022-01-06</td>\n",
       "      <td>EUR</td>\n",
       "      <td>1210351400</td>\n",
       "    </tr>\n",
       "  </tbody>\n",
       "</table>\n",
       "</div>"
      ],
      "text/plain": [
       "   CUSTOMER_ORDER_ID  SALES_ORG      DISTRIBUTION_CHANNEL      DIVISION  \\\n",
       "0          946851639       3537  United States of America  South-Region   \n",
       "1          963432061       3449                Martinique  South-Region   \n",
       "2          971991639       3238                   Moldova  South-Region   \n",
       "3          754349803       3911      United Arab Emirates  South-Region   \n",
       "4          930253442       2381                    Greece  South-Region   \n",
       "\n",
       "  RELEASED_CREDIT_VALUE PURCHASE_ORDER_TYPE  COMPANY_CODE ORDER_CREATION_DATE  \\\n",
       "0                  0,00                1000          3220          2022-01-01   \n",
       "1                  0,00                1000          3220          2022-01-01   \n",
       "2              82342,02                I200          3260          2022-01-01   \n",
       "3               1471,24                N000          3290          2022-01-01   \n",
       "4                  0,00                N000          3290          2022-01-01   \n",
       "\n",
       "   ORDER_CREATION_TIME CREDIT_CONTROL_AREA  SOLD_TO_PARTY ORDER_AMOUNT  \\\n",
       "0                43012                SR02      756141537       954,61   \n",
       "1                43114                NR03      798847812       787,36   \n",
       "2               110019                NR01      960984659     67493,46   \n",
       "3               153013                SR02      925857642      1405,54   \n",
       "4               160020                SR01      947942786         0,00   \n",
       "\n",
       "  REQUESTED_DELIVERY_DATE ORDER_CURRENCY  CUSTOMER_NUMBER  \n",
       "0              2022-01-13            EUR         12311807  \n",
       "1              2022-01-11            EUR         12311807  \n",
       "2              2022-01-12            EUR         12118758  \n",
       "3              2022-01-06            EUR       1210499770  \n",
       "4              2022-01-06            EUR       1210351400  "
      ]
     },
     "execution_count": 179,
     "metadata": {},
     "output_type": "execute_result"
    }
   ],
   "source": [
    "df['ORDER_CREATION_DATE'] = pd.to_datetime(df['ORDER_CREATION_DATE'], format='%Y%m%d')\n",
    "df['REQUESTED_DELIVERY_DATE'] = pd.to_datetime(df['REQUESTED_DELIVERY_DATE'], format='%Y%m%d')\n",
    "df.head()"
   ]
  },
  {
   "cell_type": "code",
   "execution_count": 180,
   "id": "545927db",
   "metadata": {},
   "outputs": [],
   "source": [
    "df.drop(df[df['ORDER_CREATION_DATE'] > df['REQUESTED_DELIVERY_DATE']].index,inplace=True)"
   ]
  },
  {
   "cell_type": "code",
   "execution_count": 181,
   "id": "9ea8d812",
   "metadata": {},
   "outputs": [
    {
     "data": {
      "text/plain": [
       "(1051356, 15)"
      ]
     },
     "execution_count": 181,
     "metadata": {},
     "output_type": "execute_result"
    }
   ],
   "source": [
    "df.shape"
   ]
  },
  {
   "cell_type": "code",
   "execution_count": 182,
   "id": "031d7439",
   "metadata": {},
   "outputs": [
    {
     "name": "stdout",
     "output_type": "stream",
     "text": [
      "True     1049982\n",
      "False       1374\n",
      "Name: ORDER_AMOUNT, dtype: int64\n",
      "False    1051327\n",
      "True          29\n",
      "Name: ORDER_AMOUNT, dtype: int64\n",
      "True     1049982\n",
      "False       1374\n",
      "Name: RELEASED_CREDIT_VALUE, dtype: int64\n"
     ]
    }
   ],
   "source": [
    "print(df[\"ORDER_AMOUNT\"].str.contains(\",\").value_counts())\n",
    "print(df[\"ORDER_AMOUNT\"].str.contains(\"-\").value_counts())\n",
    "print(df[\"RELEASED_CREDIT_VALUE\"].str.contains(\",\").value_counts())"
   ]
  },
  {
   "cell_type": "code",
   "execution_count": 183,
   "id": "2c8398b9",
   "metadata": {},
   "outputs": [],
   "source": [
    "df[\"ORDER_AMOUNT\"] = df[\"ORDER_AMOUNT\"].replace(',', '.', regex=True)\n",
    "df[\"ORDER_AMOUNT\"] = df[\"ORDER_AMOUNT\"].replace('-', '', regex=True)\n",
    "df[\"RELEASED_CREDIT_VALUE\"] = df[\"RELEASED_CREDIT_VALUE\"].replace([',','-'], '.', regex=True)"
   ]
  },
  {
   "cell_type": "code",
   "execution_count": 184,
   "id": "306a22c3",
   "metadata": {},
   "outputs": [
    {
     "name": "stdout",
     "output_type": "stream",
     "text": [
      "Rows having Same Order and Delivery Date:  83637\n"
     ]
    }
   ],
   "source": [
    "osd_df = df.loc[(df['ORDER_CREATION_DATE'] == df['REQUESTED_DELIVERY_DATE'])]\n",
    "print(\"Rows having Same Order and Delivery Date: \",osd_df.shape[0])"
   ]
  },
  {
   "cell_type": "code",
   "execution_count": 185,
   "id": "288d50d0",
   "metadata": {},
   "outputs": [
    {
     "data": {
      "text/plain": [
       "USD    617517\n",
       "EUR    249167\n",
       "AUD     63318\n",
       "CAD     54232\n",
       "GBP     14101\n",
       "PLN     11804\n",
       "MYR     10638\n",
       "AED      7608\n",
       "HKD      5731\n",
       "CHF      5203\n",
       "RON      4705\n",
       "SGD      3657\n",
       "CZK      2169\n",
       "HU1      1374\n",
       "NZD        68\n",
       "BHD        30\n",
       "QAR        12\n",
       "SAR        12\n",
       "KWD         6\n",
       "SEK         4\n",
       "Name: ORDER_CURRENCY, dtype: int64"
      ]
     },
     "execution_count": 185,
     "metadata": {},
     "output_type": "execute_result"
    }
   ],
   "source": [
    "df['ORDER_CURRENCY'].value_counts() \n"
   ]
  },
  {
   "cell_type": "code",
   "execution_count": 186,
   "id": "a2bf3d01",
   "metadata": {},
   "outputs": [
    {
     "data": {
      "text/html": [
       "<div>\n",
       "<style scoped>\n",
       "    .dataframe tbody tr th:only-of-type {\n",
       "        vertical-align: middle;\n",
       "    }\n",
       "\n",
       "    .dataframe tbody tr th {\n",
       "        vertical-align: top;\n",
       "    }\n",
       "\n",
       "    .dataframe thead th {\n",
       "        text-align: right;\n",
       "    }\n",
       "</style>\n",
       "<table border=\"1\" class=\"dataframe\">\n",
       "  <thead>\n",
       "    <tr style=\"text-align: right;\">\n",
       "      <th></th>\n",
       "      <th>CUSTOMER_ORDER_ID</th>\n",
       "      <th>SALES_ORG</th>\n",
       "      <th>DISTRIBUTION_CHANNEL</th>\n",
       "      <th>DIVISION</th>\n",
       "      <th>RELEASED_CREDIT_VALUE</th>\n",
       "      <th>PURCHASE_ORDER_TYPE</th>\n",
       "      <th>COMPANY_CODE</th>\n",
       "      <th>ORDER_CREATION_DATE</th>\n",
       "      <th>ORDER_CREATION_TIME</th>\n",
       "      <th>CREDIT_CONTROL_AREA</th>\n",
       "      <th>SOLD_TO_PARTY</th>\n",
       "      <th>ORDER_AMOUNT</th>\n",
       "      <th>REQUESTED_DELIVERY_DATE</th>\n",
       "      <th>ORDER_CURRENCY</th>\n",
       "      <th>CUSTOMER_NUMBER</th>\n",
       "      <th>amount_in_usd</th>\n",
       "    </tr>\n",
       "  </thead>\n",
       "  <tbody>\n",
       "    <tr>\n",
       "      <th>0</th>\n",
       "      <td>946851639</td>\n",
       "      <td>3537</td>\n",
       "      <td>United States of America</td>\n",
       "      <td>South-Region</td>\n",
       "      <td>0.00</td>\n",
       "      <td>1000</td>\n",
       "      <td>3220</td>\n",
       "      <td>2022-01-01</td>\n",
       "      <td>43012</td>\n",
       "      <td>SR02</td>\n",
       "      <td>756141537</td>\n",
       "      <td>954.61</td>\n",
       "      <td>2022-01-13</td>\n",
       "      <td>EUR</td>\n",
       "      <td>12311807</td>\n",
       "      <td>1164.6242</td>\n",
       "    </tr>\n",
       "    <tr>\n",
       "      <th>1</th>\n",
       "      <td>963432061</td>\n",
       "      <td>3449</td>\n",
       "      <td>Martinique</td>\n",
       "      <td>South-Region</td>\n",
       "      <td>0.00</td>\n",
       "      <td>1000</td>\n",
       "      <td>3220</td>\n",
       "      <td>2022-01-01</td>\n",
       "      <td>43114</td>\n",
       "      <td>NR03</td>\n",
       "      <td>798847812</td>\n",
       "      <td>787.36</td>\n",
       "      <td>2022-01-11</td>\n",
       "      <td>EUR</td>\n",
       "      <td>12311807</td>\n",
       "      <td>960.5792</td>\n",
       "    </tr>\n",
       "    <tr>\n",
       "      <th>2</th>\n",
       "      <td>971991639</td>\n",
       "      <td>3238</td>\n",
       "      <td>Moldova</td>\n",
       "      <td>South-Region</td>\n",
       "      <td>82342.02</td>\n",
       "      <td>I200</td>\n",
       "      <td>3260</td>\n",
       "      <td>2022-01-01</td>\n",
       "      <td>110019</td>\n",
       "      <td>NR01</td>\n",
       "      <td>960984659</td>\n",
       "      <td>67493.46</td>\n",
       "      <td>2022-01-12</td>\n",
       "      <td>EUR</td>\n",
       "      <td>12118758</td>\n",
       "      <td>82342.0212</td>\n",
       "    </tr>\n",
       "    <tr>\n",
       "      <th>3</th>\n",
       "      <td>754349803</td>\n",
       "      <td>3911</td>\n",
       "      <td>United Arab Emirates</td>\n",
       "      <td>South-Region</td>\n",
       "      <td>1471.24</td>\n",
       "      <td>N000</td>\n",
       "      <td>3290</td>\n",
       "      <td>2022-01-01</td>\n",
       "      <td>153013</td>\n",
       "      <td>SR02</td>\n",
       "      <td>925857642</td>\n",
       "      <td>1405.54</td>\n",
       "      <td>2022-01-06</td>\n",
       "      <td>EUR</td>\n",
       "      <td>1210499770</td>\n",
       "      <td>1714.7588</td>\n",
       "    </tr>\n",
       "    <tr>\n",
       "      <th>4</th>\n",
       "      <td>930253442</td>\n",
       "      <td>2381</td>\n",
       "      <td>Greece</td>\n",
       "      <td>South-Region</td>\n",
       "      <td>0.00</td>\n",
       "      <td>N000</td>\n",
       "      <td>3290</td>\n",
       "      <td>2022-01-01</td>\n",
       "      <td>160020</td>\n",
       "      <td>SR01</td>\n",
       "      <td>947942786</td>\n",
       "      <td>0.00</td>\n",
       "      <td>2022-01-06</td>\n",
       "      <td>EUR</td>\n",
       "      <td>1210351400</td>\n",
       "      <td>0.0000</td>\n",
       "    </tr>\n",
       "  </tbody>\n",
       "</table>\n",
       "</div>"
      ],
      "text/plain": [
       "   CUSTOMER_ORDER_ID  SALES_ORG      DISTRIBUTION_CHANNEL      DIVISION  \\\n",
       "0          946851639       3537  United States of America  South-Region   \n",
       "1          963432061       3449                Martinique  South-Region   \n",
       "2          971991639       3238                   Moldova  South-Region   \n",
       "3          754349803       3911      United Arab Emirates  South-Region   \n",
       "4          930253442       2381                    Greece  South-Region   \n",
       "\n",
       "  RELEASED_CREDIT_VALUE PURCHASE_ORDER_TYPE  COMPANY_CODE ORDER_CREATION_DATE  \\\n",
       "0                  0.00                1000          3220          2022-01-01   \n",
       "1                  0.00                1000          3220          2022-01-01   \n",
       "2              82342.02                I200          3260          2022-01-01   \n",
       "3               1471.24                N000          3290          2022-01-01   \n",
       "4                  0.00                N000          3290          2022-01-01   \n",
       "\n",
       "   ORDER_CREATION_TIME CREDIT_CONTROL_AREA  SOLD_TO_PARTY  ORDER_AMOUNT  \\\n",
       "0                43012                SR02      756141537        954.61   \n",
       "1                43114                NR03      798847812        787.36   \n",
       "2               110019                NR01      960984659      67493.46   \n",
       "3               153013                SR02      925857642       1405.54   \n",
       "4               160020                SR01      947942786          0.00   \n",
       "\n",
       "  REQUESTED_DELIVERY_DATE ORDER_CURRENCY  CUSTOMER_NUMBER  amount_in_usd  \n",
       "0              2022-01-13            EUR         12311807      1164.6242  \n",
       "1              2022-01-11            EUR         12311807       960.5792  \n",
       "2              2022-01-12            EUR         12118758     82342.0212  \n",
       "3              2022-01-06            EUR       1210499770      1714.7588  \n",
       "4              2022-01-06            EUR       1210351400         0.0000  "
      ]
     },
     "execution_count": 186,
     "metadata": {},
     "output_type": "execute_result"
    }
   ],
   "source": [
    "df['ORDER_AMOUNT'] = df['ORDER_AMOUNT'].astype(float) #firstly converting object type to float value\n",
    "rates = {'EUR': 1.22,'AED': 0.27,'CHF': 1.11,'CZK': 0.045,'GBP': 1.42,'RON': 0.24,'USD': 1.0,'PLN': 0.26,   \n",
    "    'HU1': 0.0036,'SAR': 0.27,'BHD': 2.65,'KWD': 3.32,'QAR': 0.27,'SEK': 0.11,'CAD': 0.82,'HKD': 0.13,'AUD': 0.76,   \n",
    "    'MYR': 0.24,'SGD': 0.74,'NZD': 0.70 }\n",
    "def convert(amount, currency):\n",
    "    if currency == 'USD':\n",
    "        return amount\n",
    "    elif currency in rates:\n",
    "        return amount*rates[currency]\n",
    "    else:\n",
    "        return None\n",
    "df['amount_in_usd'] = df.apply(lambda row: convert(row['ORDER_AMOUNT'], row['ORDER_CURRENCY']), axis=1)\n",
    "df.head()"
   ]
  },
  {
   "cell_type": "code",
   "execution_count": 187,
   "id": "683a0d80",
   "metadata": {},
   "outputs": [
    {
     "name": "stdout",
     "output_type": "stream",
     "text": [
      "236249\n"
     ]
    }
   ],
   "source": [
    "val=(df['amount_in_usd']==0).sum()\n",
    "print(val)"
   ]
  },
  {
   "cell_type": "code",
   "execution_count": 188,
   "id": "3bb51f1c",
   "metadata": {},
   "outputs": [
    {
     "data": {
      "text/html": [
       "<div>\n",
       "<style scoped>\n",
       "    .dataframe tbody tr th:only-of-type {\n",
       "        vertical-align: middle;\n",
       "    }\n",
       "\n",
       "    .dataframe tbody tr th {\n",
       "        vertical-align: top;\n",
       "    }\n",
       "\n",
       "    .dataframe thead th {\n",
       "        text-align: right;\n",
       "    }\n",
       "</style>\n",
       "<table border=\"1\" class=\"dataframe\">\n",
       "  <thead>\n",
       "    <tr style=\"text-align: right;\">\n",
       "      <th></th>\n",
       "      <th>CUSTOMER_ORDER_ID</th>\n",
       "      <th>SALES_ORG</th>\n",
       "      <th>DISTRIBUTION_CHANNEL</th>\n",
       "      <th>DIVISION</th>\n",
       "      <th>RELEASED_CREDIT_VALUE</th>\n",
       "      <th>PURCHASE_ORDER_TYPE</th>\n",
       "      <th>COMPANY_CODE</th>\n",
       "      <th>ORDER_CREATION_DATE</th>\n",
       "      <th>ORDER_CREATION_TIME</th>\n",
       "      <th>CREDIT_CONTROL_AREA</th>\n",
       "      <th>SOLD_TO_PARTY</th>\n",
       "      <th>ORDER_AMOUNT</th>\n",
       "      <th>REQUESTED_DELIVERY_DATE</th>\n",
       "      <th>ORDER_CURRENCY</th>\n",
       "      <th>CUSTOMER_NUMBER</th>\n",
       "      <th>amount_in_usd</th>\n",
       "      <th>unique_cust_id</th>\n",
       "    </tr>\n",
       "  </thead>\n",
       "  <tbody>\n",
       "    <tr>\n",
       "      <th>0</th>\n",
       "      <td>946851639</td>\n",
       "      <td>3537</td>\n",
       "      <td>United States of America</td>\n",
       "      <td>South-Region</td>\n",
       "      <td>0.00</td>\n",
       "      <td>1000</td>\n",
       "      <td>3220</td>\n",
       "      <td>2022-01-01</td>\n",
       "      <td>43012</td>\n",
       "      <td>SR02</td>\n",
       "      <td>756141537</td>\n",
       "      <td>954.61</td>\n",
       "      <td>2022-01-13</td>\n",
       "      <td>EUR</td>\n",
       "      <td>12311807</td>\n",
       "      <td>1164.6242</td>\n",
       "      <td>595722</td>\n",
       "    </tr>\n",
       "    <tr>\n",
       "      <th>1</th>\n",
       "      <td>963432061</td>\n",
       "      <td>3449</td>\n",
       "      <td>Martinique</td>\n",
       "      <td>South-Region</td>\n",
       "      <td>0.00</td>\n",
       "      <td>1000</td>\n",
       "      <td>3220</td>\n",
       "      <td>2022-01-01</td>\n",
       "      <td>43114</td>\n",
       "      <td>NR03</td>\n",
       "      <td>798847812</td>\n",
       "      <td>787.36</td>\n",
       "      <td>2022-01-11</td>\n",
       "      <td>EUR</td>\n",
       "      <td>12311807</td>\n",
       "      <td>960.5792</td>\n",
       "      <td>595722</td>\n",
       "    </tr>\n",
       "    <tr>\n",
       "      <th>2</th>\n",
       "      <td>971991639</td>\n",
       "      <td>3238</td>\n",
       "      <td>Moldova</td>\n",
       "      <td>South-Region</td>\n",
       "      <td>82342.02</td>\n",
       "      <td>I200</td>\n",
       "      <td>3260</td>\n",
       "      <td>2022-01-01</td>\n",
       "      <td>110019</td>\n",
       "      <td>NR01</td>\n",
       "      <td>960984659</td>\n",
       "      <td>67493.46</td>\n",
       "      <td>2022-01-12</td>\n",
       "      <td>EUR</td>\n",
       "      <td>12118758</td>\n",
       "      <td>82342.0212</td>\n",
       "      <td>869094</td>\n",
       "    </tr>\n",
       "    <tr>\n",
       "      <th>3</th>\n",
       "      <td>754349803</td>\n",
       "      <td>3911</td>\n",
       "      <td>United Arab Emirates</td>\n",
       "      <td>South-Region</td>\n",
       "      <td>1471.24</td>\n",
       "      <td>N000</td>\n",
       "      <td>3290</td>\n",
       "      <td>2022-01-01</td>\n",
       "      <td>153013</td>\n",
       "      <td>SR02</td>\n",
       "      <td>925857642</td>\n",
       "      <td>1405.54</td>\n",
       "      <td>2022-01-06</td>\n",
       "      <td>EUR</td>\n",
       "      <td>1210499770</td>\n",
       "      <td>1714.7588</td>\n",
       "      <td>439138</td>\n",
       "    </tr>\n",
       "    <tr>\n",
       "      <th>4</th>\n",
       "      <td>930253442</td>\n",
       "      <td>2381</td>\n",
       "      <td>Greece</td>\n",
       "      <td>South-Region</td>\n",
       "      <td>0.00</td>\n",
       "      <td>N000</td>\n",
       "      <td>3290</td>\n",
       "      <td>2022-01-01</td>\n",
       "      <td>160020</td>\n",
       "      <td>SR01</td>\n",
       "      <td>947942786</td>\n",
       "      <td>0.00</td>\n",
       "      <td>2022-01-06</td>\n",
       "      <td>EUR</td>\n",
       "      <td>1210351400</td>\n",
       "      <td>0.0000</td>\n",
       "      <td>954611</td>\n",
       "    </tr>\n",
       "  </tbody>\n",
       "</table>\n",
       "</div>"
      ],
      "text/plain": [
       "   CUSTOMER_ORDER_ID  SALES_ORG      DISTRIBUTION_CHANNEL      DIVISION  \\\n",
       "0          946851639       3537  United States of America  South-Region   \n",
       "1          963432061       3449                Martinique  South-Region   \n",
       "2          971991639       3238                   Moldova  South-Region   \n",
       "3          754349803       3911      United Arab Emirates  South-Region   \n",
       "4          930253442       2381                    Greece  South-Region   \n",
       "\n",
       "  RELEASED_CREDIT_VALUE PURCHASE_ORDER_TYPE  COMPANY_CODE ORDER_CREATION_DATE  \\\n",
       "0                  0.00                1000          3220          2022-01-01   \n",
       "1                  0.00                1000          3220          2022-01-01   \n",
       "2              82342.02                I200          3260          2022-01-01   \n",
       "3               1471.24                N000          3290          2022-01-01   \n",
       "4                  0.00                N000          3290          2022-01-01   \n",
       "\n",
       "   ORDER_CREATION_TIME CREDIT_CONTROL_AREA  SOLD_TO_PARTY  ORDER_AMOUNT  \\\n",
       "0                43012                SR02      756141537        954.61   \n",
       "1                43114                NR03      798847812        787.36   \n",
       "2               110019                NR01      960984659      67493.46   \n",
       "3               153013                SR02      925857642       1405.54   \n",
       "4               160020                SR01      947942786          0.00   \n",
       "\n",
       "  REQUESTED_DELIVERY_DATE ORDER_CURRENCY  CUSTOMER_NUMBER  amount_in_usd  \\\n",
       "0              2022-01-13            EUR         12311807      1164.6242   \n",
       "1              2022-01-11            EUR         12311807       960.5792   \n",
       "2              2022-01-12            EUR         12118758     82342.0212   \n",
       "3              2022-01-06            EUR       1210499770      1714.7588   \n",
       "4              2022-01-06            EUR       1210351400         0.0000   \n",
       "\n",
       "   unique_cust_id  \n",
       "0          595722  \n",
       "1          595722  \n",
       "2          869094  \n",
       "3          439138  \n",
       "4          954611  "
      ]
     },
     "execution_count": 188,
     "metadata": {},
     "output_type": "execute_result"
    }
   ],
   "source": [
    "import random\n",
    "grp1 = df.groupby(['CUSTOMER_NUMBER', 'COMPANY_CODE'])\n",
    "def generate_unique_key():\n",
    "    return random.randint(0, df.shape[0])\n",
    "df['unique_cust_id'] = grp1['COMPANY_CODE'].transform(lambda x: generate_unique_key())\n",
    "df.head()"
   ]
  },
  {
   "cell_type": "code",
   "execution_count": 189,
   "id": "826c122e",
   "metadata": {},
   "outputs": [
    {
     "name": "stdout",
     "output_type": "stream",
     "text": [
      "Total number of groups: 6625\n"
     ]
    }
   ],
   "source": [
    "print(\"Total number of groups:\", grp1.ngroups)"
   ]
  },
  {
   "cell_type": "code",
   "execution_count": 190,
   "id": "55fe73cb",
   "metadata": {},
   "outputs": [],
   "source": [
    "var1=df[\"ORDER_CURRENCY\"].value_counts()"
   ]
  },
  {
   "cell_type": "code",
   "execution_count": 191,
   "id": "e4a38b0e",
   "metadata": {},
   "outputs": [
    {
     "data": {
      "text/plain": [
       "array(['EUR', 'CHF', 'CZK', 'GBP', 'RON', 'AED', 'USD', 'PLN', 'HU1',\n",
       "       'SAR', 'BHD', 'KWD', 'QAR', 'SEK', 'CAD', 'HKD', 'AUD', 'MYR',\n",
       "       'SGD', 'NZD'], dtype=object)"
      ]
     },
     "execution_count": 191,
     "metadata": {},
     "output_type": "execute_result"
    }
   ],
   "source": [
    "df[\"ORDER_CURRENCY\"].unique()"
   ]
  },
  {
   "cell_type": "code",
   "execution_count": 192,
   "id": "e0ff8cb9",
   "metadata": {},
   "outputs": [],
   "source": [
    "percentage = df['ORDER_CURRENCY'].value_counts(normalize=True) * 100"
   ]
  },
  {
   "cell_type": "code",
   "execution_count": 193,
   "id": "0059a1ba",
   "metadata": {},
   "outputs": [
    {
     "name": "stdout",
     "output_type": "stream",
     "text": [
      "USD    58.735290\n",
      "EUR    23.699584\n",
      "AUD     6.022508\n",
      "CAD     5.158291\n",
      "GBP     1.341220\n",
      "PLN     1.122741\n",
      "MYR     1.011836\n",
      "AED     0.723637\n",
      "HKD     0.545106\n",
      "CHF     0.494885\n",
      "RON     0.447517\n",
      "SGD     0.347837\n",
      "CZK     0.206305\n",
      "HU1     0.130688\n",
      "NZD     0.006468\n",
      "BHD     0.002853\n",
      "QAR     0.001141\n",
      "SAR     0.001141\n",
      "KWD     0.000571\n",
      "SEK     0.000380\n",
      "Name: ORDER_CURRENCY, dtype: float64\n"
     ]
    }
   ],
   "source": [
    "print(percentage)"
   ]
  },
  {
   "cell_type": "code",
   "execution_count": null,
   "id": "b7d685b4",
   "metadata": {},
   "outputs": [],
   "source": []
  },
  {
   "cell_type": "code",
   "execution_count": 194,
   "id": "dc2dec80",
   "metadata": {},
   "outputs": [],
   "source": [
    "per=df['ORDER_CURRENCY'].value_counts(normalize=True)*100  #getting % of all unique values\n",
    "rep=per[per<1].index  #if unique values weightage less than 1%, mark them as others\n",
    "df[\"UPDATED_CURRENCY\"] = df_pie.apply(lambda x: 'Others' if x in rep else x) \n",
    "#creating a temporary column \"UPDATED_CURRENCY\", we'll delete it later, as of now it will help us to get Pie chart "
   ]
  },
  {
   "cell_type": "code",
   "execution_count": 195,
   "id": "db100d5d",
   "metadata": {},
   "outputs": [],
   "source": [
    "curr=df[\"UPDATED_CURRENCY\"].value_counts()"
   ]
  },
  {
   "cell_type": "code",
   "execution_count": 196,
   "id": "323b7833",
   "metadata": {},
   "outputs": [
    {
     "data": {
      "image/png": "[encoded data removed]",
      "text/plain": [
       "<Figure size 1600x800 with 1 Axes>"
      ]
     },
     "metadata": {},
     "output_type": "display_data"
    }
   ],
   "source": [
    "plt.figure(figsize=(16,8))\n",
    "explode=[0,0,0,0,0.1,0.05,0.2,0.5]\n",
    "plt.pie(curr,labels=curr.index,autopct='%0.2f%%',shadow=True,radius=0.6,textprops={\"fontsize\":15},explode=explode)\n",
    "plt.legend()\n",
    "plt.title(\"ORDER CURRENCY DISTRIBUTION PIE CHART\")\n",
    "plt.show()"
   ]
  },
  {
   "cell_type": "code",
   "execution_count": 197,
   "id": "02167b93",
   "metadata": {},
   "outputs": [],
   "source": [
    "df['ORDER_MONTH']=df['ORDER_CREATION_DATE'].dt.month\n",
    "df['ORDER_DAY'] = df['ORDER_CREATION_DATE'].dt.day"
   ]
  },
  {
   "cell_type": "code",
   "execution_count": 198,
   "id": "b71a41d4",
   "metadata": {},
   "outputs": [
    {
     "data": {
      "text/html": [
       "<div>\n",
       "<style scoped>\n",
       "    .dataframe tbody tr th:only-of-type {\n",
       "        vertical-align: middle;\n",
       "    }\n",
       "\n",
       "    .dataframe tbody tr th {\n",
       "        vertical-align: top;\n",
       "    }\n",
       "\n",
       "    .dataframe thead th {\n",
       "        text-align: right;\n",
       "    }\n",
       "</style>\n",
       "<table border=\"1\" class=\"dataframe\">\n",
       "  <thead>\n",
       "    <tr style=\"text-align: right;\">\n",
       "      <th></th>\n",
       "      <th>CUSTOMER_ORDER_ID</th>\n",
       "      <th>SALES_ORG</th>\n",
       "      <th>DISTRIBUTION_CHANNEL</th>\n",
       "      <th>DIVISION</th>\n",
       "      <th>RELEASED_CREDIT_VALUE</th>\n",
       "      <th>PURCHASE_ORDER_TYPE</th>\n",
       "      <th>COMPANY_CODE</th>\n",
       "      <th>ORDER_CREATION_DATE</th>\n",
       "      <th>ORDER_CREATION_TIME</th>\n",
       "      <th>CREDIT_CONTROL_AREA</th>\n",
       "      <th>SOLD_TO_PARTY</th>\n",
       "      <th>ORDER_AMOUNT</th>\n",
       "      <th>REQUESTED_DELIVERY_DATE</th>\n",
       "      <th>ORDER_CURRENCY</th>\n",
       "      <th>CUSTOMER_NUMBER</th>\n",
       "      <th>amount_in_usd</th>\n",
       "      <th>unique_cust_id</th>\n",
       "      <th>UPDATED_CURRENCY</th>\n",
       "      <th>ORDER_MONTH</th>\n",
       "      <th>ORDER_DAY</th>\n",
       "    </tr>\n",
       "  </thead>\n",
       "  <tbody>\n",
       "    <tr>\n",
       "      <th>0</th>\n",
       "      <td>946851639</td>\n",
       "      <td>3537</td>\n",
       "      <td>United States of America</td>\n",
       "      <td>South-Region</td>\n",
       "      <td>0.00</td>\n",
       "      <td>1000</td>\n",
       "      <td>3220</td>\n",
       "      <td>2022-01-01</td>\n",
       "      <td>43012</td>\n",
       "      <td>SR02</td>\n",
       "      <td>756141537</td>\n",
       "      <td>954.61</td>\n",
       "      <td>2022-01-13</td>\n",
       "      <td>EUR</td>\n",
       "      <td>12311807</td>\n",
       "      <td>1164.6242</td>\n",
       "      <td>595722</td>\n",
       "      <td>EUR</td>\n",
       "      <td>1</td>\n",
       "      <td>1</td>\n",
       "    </tr>\n",
       "    <tr>\n",
       "      <th>1</th>\n",
       "      <td>963432061</td>\n",
       "      <td>3449</td>\n",
       "      <td>Martinique</td>\n",
       "      <td>South-Region</td>\n",
       "      <td>0.00</td>\n",
       "      <td>1000</td>\n",
       "      <td>3220</td>\n",
       "      <td>2022-01-01</td>\n",
       "      <td>43114</td>\n",
       "      <td>NR03</td>\n",
       "      <td>798847812</td>\n",
       "      <td>787.36</td>\n",
       "      <td>2022-01-11</td>\n",
       "      <td>EUR</td>\n",
       "      <td>12311807</td>\n",
       "      <td>960.5792</td>\n",
       "      <td>595722</td>\n",
       "      <td>EUR</td>\n",
       "      <td>1</td>\n",
       "      <td>1</td>\n",
       "    </tr>\n",
       "    <tr>\n",
       "      <th>2</th>\n",
       "      <td>971991639</td>\n",
       "      <td>3238</td>\n",
       "      <td>Moldova</td>\n",
       "      <td>South-Region</td>\n",
       "      <td>82342.02</td>\n",
       "      <td>I200</td>\n",
       "      <td>3260</td>\n",
       "      <td>2022-01-01</td>\n",
       "      <td>110019</td>\n",
       "      <td>NR01</td>\n",
       "      <td>960984659</td>\n",
       "      <td>67493.46</td>\n",
       "      <td>2022-01-12</td>\n",
       "      <td>EUR</td>\n",
       "      <td>12118758</td>\n",
       "      <td>82342.0212</td>\n",
       "      <td>869094</td>\n",
       "      <td>EUR</td>\n",
       "      <td>1</td>\n",
       "      <td>1</td>\n",
       "    </tr>\n",
       "    <tr>\n",
       "      <th>3</th>\n",
       "      <td>754349803</td>\n",
       "      <td>3911</td>\n",
       "      <td>United Arab Emirates</td>\n",
       "      <td>South-Region</td>\n",
       "      <td>1471.24</td>\n",
       "      <td>N000</td>\n",
       "      <td>3290</td>\n",
       "      <td>2022-01-01</td>\n",
       "      <td>153013</td>\n",
       "      <td>SR02</td>\n",
       "      <td>925857642</td>\n",
       "      <td>1405.54</td>\n",
       "      <td>2022-01-06</td>\n",
       "      <td>EUR</td>\n",
       "      <td>1210499770</td>\n",
       "      <td>1714.7588</td>\n",
       "      <td>439138</td>\n",
       "      <td>EUR</td>\n",
       "      <td>1</td>\n",
       "      <td>1</td>\n",
       "    </tr>\n",
       "    <tr>\n",
       "      <th>4</th>\n",
       "      <td>930253442</td>\n",
       "      <td>2381</td>\n",
       "      <td>Greece</td>\n",
       "      <td>South-Region</td>\n",
       "      <td>0.00</td>\n",
       "      <td>N000</td>\n",
       "      <td>3290</td>\n",
       "      <td>2022-01-01</td>\n",
       "      <td>160020</td>\n",
       "      <td>SR01</td>\n",
       "      <td>947942786</td>\n",
       "      <td>0.00</td>\n",
       "      <td>2022-01-06</td>\n",
       "      <td>EUR</td>\n",
       "      <td>1210351400</td>\n",
       "      <td>0.0000</td>\n",
       "      <td>954611</td>\n",
       "      <td>EUR</td>\n",
       "      <td>1</td>\n",
       "      <td>1</td>\n",
       "    </tr>\n",
       "  </tbody>\n",
       "</table>\n",
       "</div>"
      ],
      "text/plain": [
       "   CUSTOMER_ORDER_ID  SALES_ORG      DISTRIBUTION_CHANNEL      DIVISION  \\\n",
       "0          946851639       3537  United States of America  South-Region   \n",
       "1          963432061       3449                Martinique  South-Region   \n",
       "2          971991639       3238                   Moldova  South-Region   \n",
       "3          754349803       3911      United Arab Emirates  South-Region   \n",
       "4          930253442       2381                    Greece  South-Region   \n",
       "\n",
       "  RELEASED_CREDIT_VALUE PURCHASE_ORDER_TYPE  COMPANY_CODE ORDER_CREATION_DATE  \\\n",
       "0                  0.00                1000          3220          2022-01-01   \n",
       "1                  0.00                1000          3220          2022-01-01   \n",
       "2              82342.02                I200          3260          2022-01-01   \n",
       "3               1471.24                N000          3290          2022-01-01   \n",
       "4                  0.00                N000          3290          2022-01-01   \n",
       "\n",
       "   ORDER_CREATION_TIME CREDIT_CONTROL_AREA  SOLD_TO_PARTY  ORDER_AMOUNT  \\\n",
       "0                43012                SR02      756141537        954.61   \n",
       "1                43114                NR03      798847812        787.36   \n",
       "2               110019                NR01      960984659      67493.46   \n",
       "3               153013                SR02      925857642       1405.54   \n",
       "4               160020                SR01      947942786          0.00   \n",
       "\n",
       "  REQUESTED_DELIVERY_DATE ORDER_CURRENCY  CUSTOMER_NUMBER  amount_in_usd  \\\n",
       "0              2022-01-13            EUR         12311807      1164.6242   \n",
       "1              2022-01-11            EUR         12311807       960.5792   \n",
       "2              2022-01-12            EUR         12118758     82342.0212   \n",
       "3              2022-01-06            EUR       1210499770      1714.7588   \n",
       "4              2022-01-06            EUR       1210351400         0.0000   \n",
       "\n",
       "   unique_cust_id UPDATED_CURRENCY  ORDER_MONTH  ORDER_DAY  \n",
       "0          595722              EUR            1          1  \n",
       "1          595722              EUR            1          1  \n",
       "2          869094              EUR            1          1  \n",
       "3          439138              EUR            1          1  \n",
       "4          954611              EUR            1          1  "
      ]
     },
     "execution_count": 198,
     "metadata": {},
     "output_type": "execute_result"
    }
   ],
   "source": [
    "df.head()"
   ]
  },
  {
   "cell_type": "code",
   "execution_count": 199,
   "id": "2d9be644",
   "metadata": {},
   "outputs": [
    {
     "data": {
      "image/png": "[encoded data removed]",
      "text/plain": [
       "<Figure size 2000x1000 with 1 Axes>"
      ]
     },
     "metadata": {},
     "output_type": "display_data"
    }
   ],
   "source": [
    "plt.figure(figsize=(20,10))\n",
    "sns.set(style='darkgrid')\n",
    "sns.lineplot(x=\"ORDER_CREATION_DATE\",y=\"amount_in_usd\",data=df,hue=\"ORDER_MONTH\",style=\"ORDER_MONTH\",palette=\"cool\")\n",
    "plt.xlabel(\"Date of Order Creation\")\n",
    "plt.ylabel(\"Amount in USD\")\n",
    "plt.title(\"ORDER CREATION DATE vs AMOUNT IN USD\")\n",
    "plt.show()"
   ]
  },
  {
   "cell_type": "code",
   "execution_count": 200,
   "id": "72a3c85d",
   "metadata": {},
   "outputs": [],
   "source": [
    "from sklearn.preprocessing import LabelEncoder\n",
    "le = LabelEncoder()\n",
    "df[\"DIVISION\"] = le.fit_transform(df[\"DIVISION\"])+1\n",
    "df[\"CREDIT_CONTROL_AREA\"]=le.fit_transform(df[\"CREDIT_CONTROL_AREA\"])+1\n",
    "df[\"ORDER_CURRENCY\"]=le.fit_transform(df[\"ORDER_CURRENCY\"])+1          \n",
    "df[\"COMPANY_CODE\"]=le.fit_transform(df[\"COMPANY_CODE\"])+1\n",
    "df[\"DISTRIBUTION_CHANNEL\"]=le.fit_transform(df[\"DISTRIBUTION_CHANNEL\"])+1\n",
    "df[\"PURCHASE_ORDER_TYPE\"]=le.fit_transform(df[\"PURCHASE_ORDER_TYPE\"])+1"
   ]
  },
  {
   "cell_type": "code",
   "execution_count": 201,
   "id": "26b3be0c",
   "metadata": {},
   "outputs": [
    {
     "data": {
      "text/plain": [
       "array([12, 14, 15, 20, 17, 18, 26, 11,  3, 19,  1,  6,  2, 10, 16,  5,  4,\n",
       "       21, 13, 22, 25, 24, 23, 27,  8,  7,  9, 28], dtype=int64)"
      ]
     },
     "execution_count": 201,
     "metadata": {},
     "output_type": "execute_result"
    }
   ],
   "source": [
    "df[\"COMPANY_CODE\"].unique()"
   ]
  },
  {
   "cell_type": "code",
   "execution_count": 202,
   "id": "e8b6d96e",
   "metadata": {},
   "outputs": [
    {
     "name": "stdout",
     "output_type": "stream",
     "text": [
      "{1: 38840938.12, 2: 87562098.72, 3: 315512760.91, 4: 2620781759.55, 5: 3574216.9400000004, 6: 151515744.57999998, 7: 117463208.0, 8: 42550314.379999995, 9: 58428245.02000001, 10: 12321913.34, 11: 77651164.34, 12: 221460173.09000003, 13: 8224509.51, 14: 75076071.02000001, 15: 36338892.89, 16: 239953237.83, 17: 97012370.53, 18: 15241544.05, 19: 149030299.92, 20: 14602908.8, 21: 7595093.2700000005, 22: 113797906.56, 23: 5788005.779999999, 24: 511843044.7100002, 25: 436585511.94000006, 26: 332580395.78999996, 27: 80887832.88000001, 28: 134099625.80000001}\n"
     ]
    }
   ],
   "source": [
    "result_dict = {}\n",
    "grouped = df.groupby(\"COMPANY_CODE\")\n",
    "for company_code, group in grouped:\n",
    "    total_amount = group[\"ORDER_AMOUNT\"].sum()\n",
    "    result_dict[company_code] = total_amount\n",
    "print(result_dict)"
   ]
  },
  {
   "cell_type": "code",
   "execution_count": 203,
   "id": "363dc6b4",
   "metadata": {},
   "outputs": [
    {
     "name": "stdout",
     "output_type": "stream",
     "text": [
      "['1', '2', '3', '4', '5', '6', '7', '8', '9', '10', '11', '12', '13', '14', '15', '16', '17', '18', '19', '20', '21', '22', '23', '24', '25', '26', '27', '28']\n",
      "[38840938.12, 87562098.72, 315512760.91, 2620781759.55, 3574216.9400000004, 151515744.57999998, 117463208.0, 42550314.379999995, 58428245.02000001, 12321913.34, 77651164.34, 221460173.09000003, 8224509.51, 75076071.02000001, 36338892.89, 239953237.83, 97012370.53, 15241544.05, 149030299.92, 14602908.8, 7595093.2700000005, 113797906.56, 5788005.779999999, 511843044.7100002, 436585511.94000006, 332580395.78999996, 80887832.88000001, 134099625.80000001]\n"
     ]
    }
   ],
   "source": [
    "l= list(result_dict.keys())  #fetching all keys from created dictionary above\n",
    "l1= [str(element) for element in l]  #converting keys into String(storing into list),\n",
    "l1 = list(map(str, l))                       #which was 'int' previously, so that labelling will easy\n",
    "\n",
    "print(l1)\n",
    "l2 = list(result_dict.values())\n",
    "print(l2)"
   ]
  },
  {
   "cell_type": "code",
   "execution_count": 204,
   "id": "e71c9387",
   "metadata": {},
   "outputs": [
    {
     "data": {
      "image/png": "[encoded data removed]",
      "text/plain": [
       "<Figure size 1600x900 with 1 Axes>"
      ]
     },
     "metadata": {},
     "output_type": "display_data"
    }
   ],
   "source": [
    "plt.figure(figsize=(16,9))\n",
    "plt.bar(l1,l2,width=0.8,align=\"center\",color='r',edgecolor='black',linewidth=3,alpha=0.5,linestyle='--')\n",
    "plt.xlabel(\"Company Codes\")\n",
    "plt.ylabel(\"Aggregate Order Amount(In their respective Country Currencies) (x1000000000)\")\n",
    "plt.title(\"Company Codes VS Order Amount\")\n",
    "plt.show()"
   ]
  },
  {
   "cell_type": "code",
   "execution_count": 205,
   "id": "2f22851e",
   "metadata": {},
   "outputs": [
    {
     "data": {
      "text/html": [
       "<div>\n",
       "<style scoped>\n",
       "    .dataframe tbody tr th:only-of-type {\n",
       "        vertical-align: middle;\n",
       "    }\n",
       "\n",
       "    .dataframe tbody tr th {\n",
       "        vertical-align: top;\n",
       "    }\n",
       "\n",
       "    .dataframe thead th {\n",
       "        text-align: right;\n",
       "    }\n",
       "</style>\n",
       "<table border=\"1\" class=\"dataframe\">\n",
       "  <thead>\n",
       "    <tr style=\"text-align: right;\">\n",
       "      <th></th>\n",
       "      <th>CUSTOMER_ORDER_ID</th>\n",
       "      <th>SALES_ORG</th>\n",
       "      <th>DISTRIBUTION_CHANNEL</th>\n",
       "      <th>DIVISION</th>\n",
       "      <th>RELEASED_CREDIT_VALUE</th>\n",
       "      <th>PURCHASE_ORDER_TYPE</th>\n",
       "      <th>COMPANY_CODE</th>\n",
       "      <th>ORDER_CREATION_DATE</th>\n",
       "      <th>ORDER_CREATION_TIME</th>\n",
       "      <th>CREDIT_CONTROL_AREA</th>\n",
       "      <th>SOLD_TO_PARTY</th>\n",
       "      <th>ORDER_AMOUNT</th>\n",
       "      <th>REQUESTED_DELIVERY_DATE</th>\n",
       "      <th>ORDER_CURRENCY</th>\n",
       "      <th>CUSTOMER_NUMBER</th>\n",
       "      <th>amount_in_usd</th>\n",
       "      <th>unique_cust_id</th>\n",
       "      <th>UPDATED_CURRENCY</th>\n",
       "      <th>ORDER_MONTH</th>\n",
       "      <th>ORDER_DAY</th>\n",
       "    </tr>\n",
       "  </thead>\n",
       "  <tbody>\n",
       "    <tr>\n",
       "      <th>0</th>\n",
       "      <td>946851639</td>\n",
       "      <td>3537</td>\n",
       "      <td>233</td>\n",
       "      <td>2</td>\n",
       "      <td>0.00</td>\n",
       "      <td>1</td>\n",
       "      <td>12</td>\n",
       "      <td>2022-01-01</td>\n",
       "      <td>43012</td>\n",
       "      <td>6</td>\n",
       "      <td>756141537</td>\n",
       "      <td>954.61</td>\n",
       "      <td>2022-01-13</td>\n",
       "      <td>7</td>\n",
       "      <td>12311807</td>\n",
       "      <td>1164.6242</td>\n",
       "      <td>595722</td>\n",
       "      <td>EUR</td>\n",
       "      <td>1</td>\n",
       "      <td>1</td>\n",
       "    </tr>\n",
       "    <tr>\n",
       "      <th>1</th>\n",
       "      <td>963432061</td>\n",
       "      <td>3449</td>\n",
       "      <td>136</td>\n",
       "      <td>2</td>\n",
       "      <td>0.00</td>\n",
       "      <td>1</td>\n",
       "      <td>12</td>\n",
       "      <td>2022-01-01</td>\n",
       "      <td>43114</td>\n",
       "      <td>3</td>\n",
       "      <td>798847812</td>\n",
       "      <td>787.36</td>\n",
       "      <td>2022-01-11</td>\n",
       "      <td>7</td>\n",
       "      <td>12311807</td>\n",
       "      <td>960.5792</td>\n",
       "      <td>595722</td>\n",
       "      <td>EUR</td>\n",
       "      <td>1</td>\n",
       "      <td>1</td>\n",
       "    </tr>\n",
       "    <tr>\n",
       "      <th>2</th>\n",
       "      <td>971991639</td>\n",
       "      <td>3238</td>\n",
       "      <td>142</td>\n",
       "      <td>2</td>\n",
       "      <td>82342.02</td>\n",
       "      <td>205</td>\n",
       "      <td>14</td>\n",
       "      <td>2022-01-01</td>\n",
       "      <td>110019</td>\n",
       "      <td>1</td>\n",
       "      <td>960984659</td>\n",
       "      <td>67493.46</td>\n",
       "      <td>2022-01-12</td>\n",
       "      <td>7</td>\n",
       "      <td>12118758</td>\n",
       "      <td>82342.0212</td>\n",
       "      <td>869094</td>\n",
       "      <td>EUR</td>\n",
       "      <td>1</td>\n",
       "      <td>1</td>\n",
       "    </tr>\n",
       "    <tr>\n",
       "      <th>3</th>\n",
       "      <td>754349803</td>\n",
       "      <td>3911</td>\n",
       "      <td>229</td>\n",
       "      <td>2</td>\n",
       "      <td>1471.24</td>\n",
       "      <td>256</td>\n",
       "      <td>15</td>\n",
       "      <td>2022-01-01</td>\n",
       "      <td>153013</td>\n",
       "      <td>6</td>\n",
       "      <td>925857642</td>\n",
       "      <td>1405.54</td>\n",
       "      <td>2022-01-06</td>\n",
       "      <td>7</td>\n",
       "      <td>1210499770</td>\n",
       "      <td>1714.7588</td>\n",
       "      <td>439138</td>\n",
       "      <td>EUR</td>\n",
       "      <td>1</td>\n",
       "      <td>1</td>\n",
       "    </tr>\n",
       "    <tr>\n",
       "      <th>4</th>\n",
       "      <td>930253442</td>\n",
       "      <td>2381</td>\n",
       "      <td>83</td>\n",
       "      <td>2</td>\n",
       "      <td>0.00</td>\n",
       "      <td>256</td>\n",
       "      <td>15</td>\n",
       "      <td>2022-01-01</td>\n",
       "      <td>160020</td>\n",
       "      <td>5</td>\n",
       "      <td>947942786</td>\n",
       "      <td>0.00</td>\n",
       "      <td>2022-01-06</td>\n",
       "      <td>7</td>\n",
       "      <td>1210351400</td>\n",
       "      <td>0.0000</td>\n",
       "      <td>954611</td>\n",
       "      <td>EUR</td>\n",
       "      <td>1</td>\n",
       "      <td>1</td>\n",
       "    </tr>\n",
       "  </tbody>\n",
       "</table>\n",
       "</div>"
      ],
      "text/plain": [
       "   CUSTOMER_ORDER_ID  SALES_ORG  DISTRIBUTION_CHANNEL  DIVISION  \\\n",
       "0          946851639       3537                   233         2   \n",
       "1          963432061       3449                   136         2   \n",
       "2          971991639       3238                   142         2   \n",
       "3          754349803       3911                   229         2   \n",
       "4          930253442       2381                    83         2   \n",
       "\n",
       "  RELEASED_CREDIT_VALUE  PURCHASE_ORDER_TYPE  COMPANY_CODE  \\\n",
       "0                  0.00                    1            12   \n",
       "1                  0.00                    1            12   \n",
       "2              82342.02                  205            14   \n",
       "3               1471.24                  256            15   \n",
       "4                  0.00                  256            15   \n",
       "\n",
       "  ORDER_CREATION_DATE  ORDER_CREATION_TIME  CREDIT_CONTROL_AREA  \\\n",
       "0          2022-01-01                43012                    6   \n",
       "1          2022-01-01                43114                    3   \n",
       "2          2022-01-01               110019                    1   \n",
       "3          2022-01-01               153013                    6   \n",
       "4          2022-01-01               160020                    5   \n",
       "\n",
       "   SOLD_TO_PARTY  ORDER_AMOUNT REQUESTED_DELIVERY_DATE  ORDER_CURRENCY  \\\n",
       "0      756141537        954.61              2022-01-13               7   \n",
       "1      798847812        787.36              2022-01-11               7   \n",
       "2      960984659      67493.46              2022-01-12               7   \n",
       "3      925857642       1405.54              2022-01-06               7   \n",
       "4      947942786          0.00              2022-01-06               7   \n",
       "\n",
       "   CUSTOMER_NUMBER  amount_in_usd  unique_cust_id UPDATED_CURRENCY  \\\n",
       "0         12311807      1164.6242          595722              EUR   \n",
       "1         12311807       960.5792          595722              EUR   \n",
       "2         12118758     82342.0212          869094              EUR   \n",
       "3       1210499770      1714.7588          439138              EUR   \n",
       "4       1210351400         0.0000          954611              EUR   \n",
       "\n",
       "   ORDER_MONTH  ORDER_DAY  \n",
       "0            1          1  \n",
       "1            1          1  \n",
       "2            1          1  \n",
       "3            1          1  \n",
       "4            1          1  "
      ]
     },
     "execution_count": 205,
     "metadata": {},
     "output_type": "execute_result"
    }
   ],
   "source": [
    "df.head()"
   ]
  },
  {
   "cell_type": "code",
   "execution_count": 206,
   "id": "d23eabb7",
   "metadata": {},
   "outputs": [],
   "source": [
    "df.drop(columns=['UPDATED_CURRENCY','ORDER_AMOUNT'],inplace=True)"
   ]
  },
  {
   "cell_type": "code",
   "execution_count": 207,
   "id": "f349f743",
   "metadata": {},
   "outputs": [
    {
     "data": {
      "image/png": "[encoded data removed]",
      "text/plain": [
       "<Figure size 640x480 with 1 Axes>"
      ]
     },
     "metadata": {},
     "output_type": "display_data"
    }
   ],
   "source": [
    "sns.boxplot(x=df['amount_in_usd'])\n",
    "plt.title('Boxplot')\n",
    "plt.xlabel('ORDER_AMOUNT')\n",
    "plt.show()"
   ]
  },
  {
   "cell_type": "code",
   "execution_count": 208,
   "id": "5cb981c1",
   "metadata": {},
   "outputs": [
    {
     "name": "stdout",
     "output_type": "stream",
     "text": [
      "794.203\n"
     ]
    }
   ],
   "source": [
    "q1_usd=df['amount_in_usd'].describe()['25%']\n",
    "q3_usd=df['amount_in_usd'].describe()['75%']\n",
    "iqr_usd=q3-q1                #finding Interquartile Range\n",
    "print(iqr.round(3))"
   ]
  },
  {
   "cell_type": "code",
   "execution_count": 209,
   "id": "4961076c",
   "metadata": {},
   "outputs": [],
   "source": [
    "lower_usd=q1_usd-1.5*iqr\n",
    "upper_usd=q3_usd+1.5*iqr"
   ]
  },
  {
   "cell_type": "code",
   "execution_count": 210,
   "id": "8b9713de",
   "metadata": {},
   "outputs": [
    {
     "name": "stdout",
     "output_type": "stream",
     "text": [
      "Number of outliers: 95148\n"
     ]
    }
   ],
   "source": [
    "outliers_usd = df[\"amount_in_usd\"][(df[\"amount_in_usd\"] < lower_usd) | (df[\"amount_in_usd\"] > upper_usd)]\n",
    "print(\"Number of outliers:\", len(outliers_usd)) "
   ]
  },
  {
   "cell_type": "code",
   "execution_count": 211,
   "id": "23b84aa8",
   "metadata": {},
   "outputs": [
    {
     "data": {
      "text/plain": [
       "2      82342.0212\n",
       "8      10224.4418\n",
       "31      1997.8110\n",
       "34      2833.5476\n",
       "59    575221.9114\n",
       "Name: amount_in_usd, dtype: float64"
      ]
     },
     "execution_count": 211,
     "metadata": {},
     "output_type": "execute_result"
    }
   ],
   "source": [
    "outliers_usd.head()"
   ]
  },
  {
   "cell_type": "code",
   "execution_count": 212,
   "id": "379a5635",
   "metadata": {},
   "outputs": [],
   "source": [
    "df = df.drop(outliers_usd.index).reset_index(drop=True)"
   ]
  },
  {
   "cell_type": "code",
   "execution_count": 213,
   "id": "44ebc368",
   "metadata": {},
   "outputs": [
    {
     "data": {
      "text/plain": [
       "0         1164.6242\n",
       "1          960.5792\n",
       "2         1714.7588\n",
       "3            0.0000\n",
       "4         1299.7026\n",
       "            ...    \n",
       "956203     201.1644\n",
       "956204     298.1480\n",
       "956205    1118.0208\n",
       "956206    1183.1528\n",
       "956207     983.1284\n",
       "Name: amount_in_usd, Length: 956208, dtype: float64"
      ]
     },
     "execution_count": 213,
     "metadata": {},
     "output_type": "execute_result"
    }
   ],
   "source": [
    "df['amount_in_usd']"
   ]
  },
  {
   "cell_type": "code",
   "execution_count": 214,
   "id": "e83d0431",
   "metadata": {},
   "outputs": [
    {
     "data": {
      "text/plain": [
       "(956208, 18)"
      ]
     },
     "execution_count": 214,
     "metadata": {},
     "output_type": "execute_result"
    }
   ],
   "source": [
    "df.shape"
   ]
  },
  {
   "cell_type": "code",
   "execution_count": 215,
   "id": "76d5d858",
   "metadata": {},
   "outputs": [
    {
     "name": "stdout",
     "output_type": "stream",
     "text": [
      "<class 'pandas.core.frame.DataFrame'>\n",
      "RangeIndex: 956208 entries, 0 to 956207\n",
      "Data columns (total 18 columns):\n",
      " #   Column                   Non-Null Count   Dtype         \n",
      "---  ------                   --------------   -----         \n",
      " 0   CUSTOMER_ORDER_ID        956208 non-null  int64         \n",
      " 1   SALES_ORG                956208 non-null  int64         \n",
      " 2   DISTRIBUTION_CHANNEL     956208 non-null  int32         \n",
      " 3   DIVISION                 956208 non-null  int32         \n",
      " 4   RELEASED_CREDIT_VALUE    956208 non-null  object        \n",
      " 5   PURCHASE_ORDER_TYPE      956208 non-null  int32         \n",
      " 6   COMPANY_CODE             956208 non-null  int64         \n",
      " 7   ORDER_CREATION_DATE      956208 non-null  datetime64[ns]\n",
      " 8   ORDER_CREATION_TIME      956208 non-null  int64         \n",
      " 9   CREDIT_CONTROL_AREA      956208 non-null  int32         \n",
      " 10  SOLD_TO_PARTY            956208 non-null  int64         \n",
      " 11  REQUESTED_DELIVERY_DATE  956208 non-null  datetime64[ns]\n",
      " 12  ORDER_CURRENCY           956208 non-null  int32         \n",
      " 13  CUSTOMER_NUMBER          956208 non-null  int64         \n",
      " 14  amount_in_usd            956208 non-null  float64       \n",
      " 15  unique_cust_id           956208 non-null  int64         \n",
      " 16  ORDER_MONTH              956208 non-null  int64         \n",
      " 17  ORDER_DAY                956208 non-null  int64         \n",
      "dtypes: datetime64[ns](2), float64(1), int32(5), int64(9), object(1)\n",
      "memory usage: 113.1+ MB\n"
     ]
    }
   ],
   "source": [
    "df.info()"
   ]
  },
  {
   "cell_type": "code",
   "execution_count": 216,
   "id": "d411c03e",
   "metadata": {},
   "outputs": [],
   "source": [
    "df = df.drop(df[df['RELEASED_CREDIT_VALUE'] == '200.42.'].index)"
   ]
  },
  {
   "cell_type": "code",
   "execution_count": 217,
   "id": "ee556845",
   "metadata": {},
   "outputs": [],
   "source": [
    "df['RELEASED_CREDIT_VALUE']=df['RELEASED_CREDIT_VALUE'].astype(float)"
   ]
  },
  {
   "cell_type": "code",
   "execution_count": 218,
   "id": "efbae17a",
   "metadata": {},
   "outputs": [],
   "source": [
    "def create_more_lags(df, lags, ffday, customer_id_col, create_date_col, net_amount_col):\n",
    "    for i in range(ffday, lags+1):\n",
    "        df['Last-'+str(i)+' day Sales'] = df.groupby([customer_id_col])[net_amount_col].shift(i)\n",
    "    df = df.reset_index(drop=True)\n",
    "\n",
    "    for i in range(ffday, lags+1):\n",
    "        df['Last-'+str(i)+'day_Diff'] = df.groupby([customer_id_col])['Last-'+str(i)+' day_Sales'].diff()\n",
    "    \n",
    "    df.fillna(0, inplace=True)\n",
    "    \n",
    "    return df"
   ]
  },
  {
   "cell_type": "code",
   "execution_count": 219,
   "id": "b00d11ec",
   "metadata": {},
   "outputs": [],
   "source": [
    "def add_datepart(df, fldname, drop=True):\n",
    "    fld = df[fldname]\n",
    "    \n",
    "    if not np.issubdtype(fld.dtype, np.datetime64):\n",
    "        df[fldname] = pd.to_datetime(fld, infer_datetime_format=True)\n",
    "    \n",
    "    for n in ('Year', 'Month', 'Week', 'Day', 'Dayofweek', 'Dayofyear', 'Is_month_end', 'Is_month_start', 'Is_quarter_end', 'Is_quarter_start', 'Is_year_end', 'Is_year_start'):\n",
    "        df[n] = getattr(fld.dt, n.lower())\n",
    "    \n",
    "    if drop:\n",
    "        df.drop(fldname, axis=1, inplace=True)\n",
    "    \n",
    "    return df\n"
   ]
  },
  {
   "cell_type": "code",
   "execution_count": 220,
   "id": "a042756d",
   "metadata": {},
   "outputs": [
    {
     "ename": "KeyError",
     "evalue": "'Column not found: Last-0 day_Sales'",
     "output_type": "error",
     "traceback": [
      "\u001b[1;31m---------------------------------------------------------------------------\u001b[0m",
      "\u001b[1;31mKeyError\u001b[0m                                  Traceback (most recent call last)",
      "\u001b[1;32m~\\AppData\\Local\\Temp\\ipykernel_15600\\1948008890.py\u001b[0m in \u001b[0;36m<module>\u001b[1;34m\u001b[0m\n\u001b[0;32m      4\u001b[0m \u001b[0mcreate_date_col\u001b[0m \u001b[1;33m=\u001b[0m \u001b[1;34m'ORDER_CREATION_DATE'\u001b[0m\u001b[1;33m\u001b[0m\u001b[1;33m\u001b[0m\u001b[0m\n\u001b[0;32m      5\u001b[0m \u001b[0mnet_amount_col\u001b[0m \u001b[1;33m=\u001b[0m \u001b[1;34m'amount_in_usd'\u001b[0m\u001b[1;33m\u001b[0m\u001b[1;33m\u001b[0m\u001b[0m\n\u001b[1;32m----> 6\u001b[1;33m \u001b[0mdf\u001b[0m \u001b[1;33m=\u001b[0m \u001b[0mcreate_more_lags\u001b[0m\u001b[1;33m(\u001b[0m\u001b[0mdf\u001b[0m\u001b[1;33m,\u001b[0m \u001b[0mlags\u001b[0m\u001b[1;33m,\u001b[0m \u001b[0mffday\u001b[0m\u001b[1;33m,\u001b[0m \u001b[0mcustomer_id_col\u001b[0m\u001b[1;33m,\u001b[0m \u001b[0mcreate_date_col\u001b[0m\u001b[1;33m,\u001b[0m \u001b[0mnet_amount_col\u001b[0m\u001b[1;33m)\u001b[0m\u001b[1;33m\u001b[0m\u001b[1;33m\u001b[0m\u001b[0m\n\u001b[0m\u001b[0;32m      7\u001b[0m \u001b[1;33m\u001b[0m\u001b[0m\n\u001b[0;32m      8\u001b[0m \u001b[1;31m# Apply add_datepart function\u001b[0m\u001b[1;33m\u001b[0m\u001b[1;33m\u001b[0m\u001b[0m\n",
      "\u001b[1;32m~\\AppData\\Local\\Temp\\ipykernel_15600\\5939379.py\u001b[0m in \u001b[0;36mcreate_more_lags\u001b[1;34m(df, lags, ffday, customer_id_col, create_date_col, net_amount_col)\u001b[0m\n\u001b[0;32m      5\u001b[0m \u001b[1;33m\u001b[0m\u001b[0m\n\u001b[0;32m      6\u001b[0m     \u001b[1;32mfor\u001b[0m \u001b[0mi\u001b[0m \u001b[1;32min\u001b[0m \u001b[0mrange\u001b[0m\u001b[1;33m(\u001b[0m\u001b[0mffday\u001b[0m\u001b[1;33m,\u001b[0m \u001b[0mlags\u001b[0m\u001b[1;33m+\u001b[0m\u001b[1;36m1\u001b[0m\u001b[1;33m)\u001b[0m\u001b[1;33m:\u001b[0m\u001b[1;33m\u001b[0m\u001b[1;33m\u001b[0m\u001b[0m\n\u001b[1;32m----> 7\u001b[1;33m         \u001b[0mdf\u001b[0m\u001b[1;33m[\u001b[0m\u001b[1;34m'Last-'\u001b[0m\u001b[1;33m+\u001b[0m\u001b[0mstr\u001b[0m\u001b[1;33m(\u001b[0m\u001b[0mi\u001b[0m\u001b[1;33m)\u001b[0m\u001b[1;33m+\u001b[0m\u001b[1;34m'day_Diff'\u001b[0m\u001b[1;33m]\u001b[0m \u001b[1;33m=\u001b[0m \u001b[0mdf\u001b[0m\u001b[1;33m.\u001b[0m\u001b[0mgroupby\u001b[0m\u001b[1;33m(\u001b[0m\u001b[1;33m[\u001b[0m\u001b[0mcustomer_id_col\u001b[0m\u001b[1;33m]\u001b[0m\u001b[1;33m)\u001b[0m\u001b[1;33m[\u001b[0m\u001b[1;34m'Last-'\u001b[0m\u001b[1;33m+\u001b[0m\u001b[0mstr\u001b[0m\u001b[1;33m(\u001b[0m\u001b[0mi\u001b[0m\u001b[1;33m)\u001b[0m\u001b[1;33m+\u001b[0m\u001b[1;34m' day_Sales'\u001b[0m\u001b[1;33m]\u001b[0m\u001b[1;33m.\u001b[0m\u001b[0mdiff\u001b[0m\u001b[1;33m(\u001b[0m\u001b[1;33m)\u001b[0m\u001b[1;33m\u001b[0m\u001b[1;33m\u001b[0m\u001b[0m\n\u001b[0m\u001b[0;32m      8\u001b[0m \u001b[1;33m\u001b[0m\u001b[0m\n\u001b[0;32m      9\u001b[0m     \u001b[0mdf\u001b[0m\u001b[1;33m.\u001b[0m\u001b[0mfillna\u001b[0m\u001b[1;33m(\u001b[0m\u001b[1;36m0\u001b[0m\u001b[1;33m,\u001b[0m \u001b[0minplace\u001b[0m\u001b[1;33m=\u001b[0m\u001b[1;32mTrue\u001b[0m\u001b[1;33m)\u001b[0m\u001b[1;33m\u001b[0m\u001b[1;33m\u001b[0m\u001b[0m\n",
      "\u001b[1;32mC:\\ProgramData\\Anaconda3\\lib\\site-packages\\pandas\\core\\groupby\\generic.py\u001b[0m in \u001b[0;36m__getitem__\u001b[1;34m(self, key)\u001b[0m\n\u001b[0;32m   1336\u001b[0m                 \u001b[0mstacklevel\u001b[0m\u001b[1;33m=\u001b[0m\u001b[0mfind_stack_level\u001b[0m\u001b[1;33m(\u001b[0m\u001b[1;33m)\u001b[0m\u001b[1;33m,\u001b[0m\u001b[1;33m\u001b[0m\u001b[1;33m\u001b[0m\u001b[0m\n\u001b[0;32m   1337\u001b[0m             )\n\u001b[1;32m-> 1338\u001b[1;33m         \u001b[1;32mreturn\u001b[0m \u001b[0msuper\u001b[0m\u001b[1;33m(\u001b[0m\u001b[1;33m)\u001b[0m\u001b[1;33m.\u001b[0m\u001b[0m__getitem__\u001b[0m\u001b[1;33m(\u001b[0m\u001b[0mkey\u001b[0m\u001b[1;33m)\u001b[0m\u001b[1;33m\u001b[0m\u001b[1;33m\u001b[0m\u001b[0m\n\u001b[0m\u001b[0;32m   1339\u001b[0m \u001b[1;33m\u001b[0m\u001b[0m\n\u001b[0;32m   1340\u001b[0m     \u001b[1;32mdef\u001b[0m \u001b[0m_gotitem\u001b[0m\u001b[1;33m(\u001b[0m\u001b[0mself\u001b[0m\u001b[1;33m,\u001b[0m \u001b[0mkey\u001b[0m\u001b[1;33m,\u001b[0m \u001b[0mndim\u001b[0m\u001b[1;33m:\u001b[0m \u001b[0mint\u001b[0m\u001b[1;33m,\u001b[0m \u001b[0msubset\u001b[0m\u001b[1;33m=\u001b[0m\u001b[1;32mNone\u001b[0m\u001b[1;33m)\u001b[0m\u001b[1;33m:\u001b[0m\u001b[1;33m\u001b[0m\u001b[1;33m\u001b[0m\u001b[0m\n",
      "\u001b[1;32mC:\\ProgramData\\Anaconda3\\lib\\site-packages\\pandas\\core\\base.py\u001b[0m in \u001b[0;36m__getitem__\u001b[1;34m(self, key)\u001b[0m\n\u001b[0;32m    248\u001b[0m         \u001b[1;32melse\u001b[0m\u001b[1;33m:\u001b[0m\u001b[1;33m\u001b[0m\u001b[1;33m\u001b[0m\u001b[0m\n\u001b[0;32m    249\u001b[0m             \u001b[1;32mif\u001b[0m \u001b[0mkey\u001b[0m \u001b[1;32mnot\u001b[0m \u001b[1;32min\u001b[0m \u001b[0mself\u001b[0m\u001b[1;33m.\u001b[0m\u001b[0mobj\u001b[0m\u001b[1;33m:\u001b[0m\u001b[1;33m\u001b[0m\u001b[1;33m\u001b[0m\u001b[0m\n\u001b[1;32m--> 250\u001b[1;33m                 \u001b[1;32mraise\u001b[0m \u001b[0mKeyError\u001b[0m\u001b[1;33m(\u001b[0m\u001b[1;34mf\"Column not found: {key}\"\u001b[0m\u001b[1;33m)\u001b[0m\u001b[1;33m\u001b[0m\u001b[1;33m\u001b[0m\u001b[0m\n\u001b[0m\u001b[0;32m    251\u001b[0m             \u001b[0msubset\u001b[0m \u001b[1;33m=\u001b[0m \u001b[0mself\u001b[0m\u001b[1;33m.\u001b[0m\u001b[0mobj\u001b[0m\u001b[1;33m[\u001b[0m\u001b[0mkey\u001b[0m\u001b[1;33m]\u001b[0m\u001b[1;33m\u001b[0m\u001b[1;33m\u001b[0m\u001b[0m\n\u001b[0;32m    252\u001b[0m             \u001b[0mndim\u001b[0m \u001b[1;33m=\u001b[0m \u001b[0msubset\u001b[0m\u001b[1;33m.\u001b[0m\u001b[0mndim\u001b[0m\u001b[1;33m\u001b[0m\u001b[1;33m\u001b[0m\u001b[0m\n",
      "\u001b[1;31mKeyError\u001b[0m: 'Column not found: Last-0 day_Sales'"
     ]
    }
   ],
   "source": [
    "lags = 3\n",
    "ffday = 0\n",
    "customer_id_col = 'CUSTOMER_NUMBER'\n",
    "create_date_col = 'ORDER_CREATION_DATE'\n",
    "net_amount_col = 'amount_in_usd'\n",
    "df = create_more_lags(df, lags, ffday, customer_id_col, create_date_col, net_amount_col)\n",
    "\n",
    "# Apply add_datepart function\n",
    "date_column = 'ORDER_CREATION_DATE'\n",
    "df = add_datepart(df, date_column)"
   ]
  },
  {
   "cell_type": "code",
   "execution_count": null,
   "id": "c275e0ac",
   "metadata": {},
   "outputs": [],
   "source": [
    "df.nunique()"
   ]
  },
  {
   "cell_type": "code",
   "execution_count": null,
   "id": "4278c4ca",
   "metadata": {},
   "outputs": [],
   "source": []
  }
 ],
 "metadata": {
  "kernelspec": {
   "display_name": "Python 3 (ipykernel)",
   "language": "python",
   "name": "python3"
  },
  "language_info": {
   "codemirror_mode": {
    "name": "ipython",
    "version": 3
   },
   "file_extension": ".py",
   "mimetype": "text/x-python",
   "name": "python",
   "nbconvert_exporter": "python",
   "pygments_lexer": "ipython3",
   "version": "3.9.13"
  }
 },
 "nbformat": 4,
 "nbformat_minor": 5
}
